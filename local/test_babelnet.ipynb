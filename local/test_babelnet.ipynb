{
 "cells": [
  {
   "cell_type": "code",
   "execution_count": 47,
   "metadata": {},
   "outputs": [],
   "source": [
    "import babelnet as bn\n",
    "from babelnet.language import Language\n",
    "from babelnet.pos import POS\n",
    "from babelnet.resources import WikipediaID\n",
    "from babelnet.data.relation import BabelPointer\n",
    "from babelnet.data.relation import BabelSynsetID"
   ]
  },
  {
   "cell_type": "code",
   "execution_count": null,
   "metadata": {},
   "outputs": [],
   "source": [
    "casa_sys = bn.get_synsets('casa', from_langs=[Language.IT])"
   ]
  },
  {
   "cell_type": "code",
   "execution_count": 8,
   "metadata": {},
   "outputs": [
    {
     "name": "stdout",
     "output_type": "stream",
     "text": [
      "0: 19606498__WIKI:IT:Casa_(personaggio) --- Thomas Conklin, noto anche come Casa, è un personaggio immaginario della serie cinematografica Scuola di polizia, interpretato da Tab Thacker, e dell'omonima serie animata, dov'è doppiato da Tony Fuochi.\n",
      "1: 453250462__WIKIDATA:IT:Casa --- None\n",
      "2: 119501824__WIKI:IT:Casa_(Mao_e_la_Rivoluzione) --- Casa è il secondo disco del gruppo musicale italiano Mao e la Rivoluzione, pubblicato dalla Virgin Music il 13 ottobre 1997.\n",
      "3: 86000725__WIKI:IT:Casa_(gruppo_musicale) --- I Casa sono un gruppo rock italiano fondato nel 1998 a Vicenza da Filippo Bordignon, Francesco Spinelli, Stefano Antonelli e Federico Pellizzari.\n",
      "4: 9625212__WIKI:IT:La_casa_(film_1981) --- La casa è un film horror del 1981, scritto e diretto da Sam Raimi, interpretato da Bruce Campbell, e prodotto da Robert Tapert.\n",
      "5: 405751798__WIKIDATA:IT:Casà --- Frazione di Montoggio, città metropolitana di Genova\n",
      "6: 313756428__OMWN_IT:IT:casa --- Edificio destinato ad abitazione.\n",
      "7: 537960356__WIKT:IT:affari --- Impresa industriale o commerciale e le persone che la costituiscono.\n",
      "8: 561112394__WIKI:IT:Casa_(Pierdavide_Carone) --- Casa è il quarto album in studio del cantautore italiano Pierdavide Carone, pubblicato il 28 maggio 2021 dalla Artist First.\n",
      "9: 313808106__OMWN_IT:IT:dinastia --- I membri di piu` generazioni successive di una stessa famiglia.\n",
      "10: 422506853__WIKIDATA:IT:Casa --- Episodio della serie televisiva The Vampire Diaries\n",
      "11: 9544471__WIKITR:IT:casa --- None\n",
      "12: 319316324__WIKI:IT:Casa_(EP_Giordana_Angi) --- Casa è il primo EP della cantautrice italiana Giordana Angi, pubblicato il 19 aprile 2019 pubblicato dall'etichetta discografica Universal Music.\n",
      "13: 440080639__WIKIDATA:IT:Casa --- Frazione del comune italiano di Romagnese, provincia di Pavia\n",
      "14: 313789489__OMWN_IT:IT:casa --- None\n",
      "15: 305422580__WIKI:IT:applicazioni_di_sistema_Apple --- Questa voce contiene un elenco delle applicazioni sviluppate dalla Apple per i propri dispositivi.\n",
      "16: 313766051__OMWN_IT:IT:famiglia --- I congiunti da vincoli di sangue\n",
      "17: 19607107__WIKI:IT:La_casa_(film_1976) --- La casa è un film del 1976, diretto dal regista Angelino Fons.\n",
      "18: 313758009__OMWN_IT:IT:abitazione --- Struttura abitativa che si adotta a propria dimora.\n",
      "19: 313806745__OMWN_IT:IT:segno_zodiacale --- Una delle 12 aree nelle quali è diviso lo zodiaco.\n",
      "20: 69641650__WIKI:IT:Construcciones_Aeronáuticas --- La Construcciones Aeronáuticas, S.A., semplicemente nota anche come CASA, è un'azienda aeronautica spagnola, che attualmente ha assunto la denominazione EADS-CASA in quanto consociata spagnola della EADS.\n",
      "21: 414392809__WIKIDATA:IT:Casa --- Episodio della prima stagione di Stargate Atlantis\n",
      "22: 415685362__WIKIDATA:IT:Casa --- Episodio della prima stagione di Glee\n",
      "23: 269507038__WIKI:IT:Casa_(Arkansas) --- Casa è un comune degli Stati Uniti d'America, situato in Arkansas, nella contea di Perry.\n",
      "24: 30064351__WIKITR:IT:casa --- None\n",
      "25: 85788468__WNTR:IT:casa --- None\n",
      "26: 38668253__WIKITR:IT:proprietario-occupante --- Proprietario della casa in cui abita.\n",
      "27: 44951709__WIKITR:IT:campo_di_casa --- None\n",
      "28: 44959339__WNTR:IT:capofamiglia --- None\n",
      "29: 47599493__WIKI:IT:vita_quotidiana_nell'antico_Egitto --- None\n",
      "30: 313808036__OMWN_IT:IT:casa --- Nazione di provenienza.\n",
      "31: 319316328__WIKI:IT:Casa_(singolo_Giordana_Angi) --- Casa è un singolo della cantautrice italiana Giordana Angi, pubblicato il 19 aprile come primo estratto dall'EP Casa.\n",
      "32: 30281085__WIKI:IT:La_casa_(film_2013) --- La casa è un film horror del 2013 diretto da Fede Álvarez, qui al suo debutto alla regia di un lungometraggio.\n",
      "33: 89174239__OMWIKI:IT:casa --- Census-designated place statunitense del Kansas\n",
      "34: 62768114__WNTR:IT:casa --- None\n",
      "35: 478201690__WIKIDATA:IT:Casa --- None\n"
     ]
    }
   ],
   "source": [
    "for i, x in enumerate(casa_sys): print(f'{i}: {x} --- {x.main_gloss()}')"
   ]
  },
  {
   "cell_type": "code",
   "execution_count": 9,
   "metadata": {},
   "outputs": [
    {
     "data": {
      "text/plain": [
       "[Struttura abitativa che si adotta a propria dimora.,\n",
       " La dimora di una persona, il suo luogo di residenza.,\n",
       " La propria dimora; l'edificio o la struttura in cui si vive; in particolare l'edificio in cui si vive con la propria famiglia.]"
      ]
     },
     "execution_count": 9,
     "metadata": {},
     "output_type": "execute_result"
    }
   ],
   "source": [
    "casa_sy = casa_sys[18]\n",
    "casa_sy.glosses()"
   ]
  },
  {
   "cell_type": "code",
   "execution_count": 30,
   "metadata": {},
   "outputs": [
    {
     "name": "stdout",
     "output_type": "stream",
     "text": [
      "0: EN_oewn@_bn:00045052n - hypernym - bn:00045052n\n",
      "1: MUL_wdp279_bn:14421293n - subclass_of - bn:14421293n\n",
      "2: MUL_wdp279_bn:17203600n - subclass_of - bn:17203600n\n",
      "3: MUL_wdp31_bn:00312030n - instance_of - bn:00312030n\n",
      "4: MUL_wdp31_bn:14436720n - instance_of - bn:14436720n\n",
      "5: AR_@w_bn:00051760n - hypernym - bn:00051760n\n",
      "6: AR_@w_bn:00062699n - hypernym - bn:00062699n\n",
      "7: JA_@w_bn:00044994n - hypernym - bn:00044994n\n"
     ]
    }
   ],
   "source": [
    "casa_hypernyms = casa_sy.outgoing_edges(BabelPointer.ANY_HYPERNYM)\n",
    "for i, x in enumerate(casa_hypernyms): print(f'{i}: {x} - {x.pointer} - {x.target}')"
   ]
  },
  {
   "cell_type": "code",
   "execution_count": 31,
   "metadata": {},
   "outputs": [
    {
     "name": "stdout",
     "output_type": "stream",
     "text": [
      "0: 592011__housing#n#1 - housing - Structures collectively in which people are housed\n",
      "1: 492872226__WIKIDATA:EN:architectural_structure - architectural_structure - Human-designed and -made structure\n",
      "2: 109941997__WIKI:EN:Territorial_entity - Territorial_entity - A territorial entity is an entity that covers a part of the surface of the Earth with specified borders.\n",
      "3: 62413899__WIKI:EN:function_(engineering) - function_(engineering) - In engineering, a function is interpreted as a specific process, action or task that a system is able to perform.\n",
      "4: 480351113__WIKIDATA:EN:literary_work - literary_work - Creative work by a writer created with aesthetic or recreative purposes\n",
      "5: 1224938__location#n#1 - location - A point or extent in space\n",
      "6: 33697014__topographic_point#n#1 - topographic_point - A point located with respect to surface features of some region\n",
      "7: 581447__house#n#1 - house - A dwelling that serves as living quarters for one or more families\n"
     ]
    }
   ],
   "source": [
    "casa_hypernyms_edge = [bn.get_synset(x.id_target) for x in casa_hypernyms]\n",
    "for i, x in enumerate(casa_hypernyms_edge): print(f'{i}: {x} - {x.main_sense().full_lemma} - {x.main_gloss()}')"
   ]
  },
  {
   "cell_type": "code",
   "execution_count": 32,
   "metadata": {},
   "outputs": [
    {
     "name": "stdout",
     "output_type": "stream",
     "text": [
      "0: EN_oewn@_bn:00022071n - hypernym - bn:00022071n\n",
      "1: MUL_wdp279_bn:08472347n - subclass_of - bn:08472347n\n",
      "2: MUL_wdp31_bn:14532842n - instance_of - bn:14532842n\n",
      "3: EN_@_bn:00022071n - hypernym - bn:00022071n\n",
      "4: EN_@w_bn:00000711n - hypernym - bn:00000711n\n"
     ]
    }
   ],
   "source": [
    "housing_hypernym_edges = casa_hypernyms_edge[0].outgoing_edges(BabelPointer.ANY_HYPERNYM)\n",
    "for i, x in enumerate(housing_hypernym_edges): print(f'{i}: {x} - {x.pointer} - {x.target}')"
   ]
  },
  {
   "cell_type": "code",
   "execution_count": 34,
   "metadata": {},
   "outputs": [
    {
     "name": "stdout",
     "output_type": "stream",
     "text": [
      "0: 37699568__structure#n#1 - structure - A thing constructed; a complex entity constructed of many parts\n",
      "1: 520653925__WIKIDATA:EN:supply - supply - None\n",
      "2: 103153270__WIKI:EN:social_issue - social_issue - A social issue is a problem that affects many people within a society.\n",
      "3: 37699568__structure#n#1 - structure - A thing constructed; a complex entity constructed of many parts\n",
      "4: 46597475__accommodation#n#6 - accommodation - (physiology) the automatic adjustment in focal length of the natural lens of the eye\n"
     ]
    }
   ],
   "source": [
    "housing_hypernyms = [bn.get_synset(x.id_target) for x in housing_hypernym_edges]\n",
    "for i, x in enumerate(housing_hypernyms): print(f'{i}: {x} - {x.main_sense().full_lemma} - {x.main_gloss()}')"
   ]
  },
  {
   "cell_type": "code",
   "execution_count": 35,
   "metadata": {},
   "outputs": [
    {
     "name": "stdout",
     "output_type": "stream",
     "text": [
      "0: EN_oewn@_bn:00005956n - hypernym - bn:00005956n\n",
      "1: EN_@_bn:00005956n - hypernym - bn:00005956n\n"
     ]
    }
   ],
   "source": [
    "structure_hypernym_edges = housing_hypernyms[0].outgoing_edges(BabelPointer.ANY_HYPERNYM)\n",
    "for i, x in enumerate(structure_hypernym_edges): print(f'{i}: {x} - {x.pointer} - {x.target}')"
   ]
  },
  {
   "cell_type": "code",
   "execution_count": 36,
   "metadata": {},
   "outputs": [
    {
     "name": "stdout",
     "output_type": "stream",
     "text": [
      "0: 7751352__artifact#n#1 - artifact - A man-made object taken as a whole\n",
      "1: 7751352__artifact#n#1 - artifact - A man-made object taken as a whole\n"
     ]
    }
   ],
   "source": [
    "structure_hypernyms = [bn.get_synset(x.id_target) for x in structure_hypernym_edges]\n",
    "for i, x in enumerate(structure_hypernyms): print(f'{i}: {x} - {x.main_sense().full_lemma} - {x.main_gloss()}')"
   ]
  },
  {
   "cell_type": "code",
   "execution_count": 37,
   "metadata": {},
   "outputs": [
    {
     "name": "stdout",
     "output_type": "stream",
     "text": [
      "0: EN_oewn@_bn:00079109n - hypernym - bn:00079109n\n",
      "1: MUL_wdp279_bn:00936440n - subclass_of - bn:00936440n\n",
      "2: MUL_wdp279_bn:16490764n - subclass_of - bn:16490764n\n",
      "3: MUL_wdp31_bn:00368157n - instance_of - bn:00368157n\n",
      "4: EN_@_bn:00079109n - hypernym - bn:00079109n\n",
      "5: EN_@w_bn:01187943n - hypernym - bn:01187943n\n",
      "6: EN_@w_bn:21705913n - hypernym - bn:21705913n\n",
      "7: DE_@w_bn:07399267n - hypernym - bn:07399267n\n",
      "8: GD_@w_bn:00005391n - hypernym - bn:00005391n\n"
     ]
    }
   ],
   "source": [
    "artifact_hypernym_edges = structure_hypernyms[0].outgoing_edges(BabelPointer.ANY_HYPERNYM)\n",
    "for i, x in enumerate(artifact_hypernym_edges): print(f'{i}: {x} - {x.pointer} - {x.target}')"
   ]
  },
  {
   "cell_type": "code",
   "execution_count": 39,
   "metadata": {},
   "outputs": [
    {
     "name": "stdout",
     "output_type": "stream",
     "text": [
      "0: 39478267__whole#n#2 - whole - An assemblage of parts that is regarded as a single entity\n",
      "1: 67857626__WIKI:EN:cultural_artifact - cultural_artifact - A cultural artifact, or cultural artefact, is a term used in the social sciences, particularly anthropology, ethnology and sociology for anything created by humans which gives information about the culture of its creator and users.\n",
      "2: 524653092__WIKIDATA:EN:archaeological_find - archaeological_find - object discovered in archaeological excavation\n",
      "3: 50489108__WIKI:EN:conflation - conflation - Conflation is the merging of two or more sets of information, texts, ideas, opinions, etc., into one, often in error.\n",
      "4: 39478267__whole#n#2 - whole - An assemblage of parts that is regarded as a single entity\n",
      "5: 92133624__WIKI:EN:culture - culture - Culture is an umbrella term which encompasses the social behavior, institutions, and norms found in human societies, as well as the knowledge, beliefs, arts, laws, customs, capabilities, and habits of the individuals in these groups.\n",
      "6: 34088877__WIKI:EN:object_(philosophy) - object_(philosophy) - An object is a philosophical term often used in contrast to the term subject.\n",
      "7: 549121969__WIKIDATA:EN:technical_term - technical_term - Word or expression with a technical definition\n",
      "8: 45531417__archeology#n#1 - archeology - The branch of anthropology that studies prehistoric people and their cultures\n"
     ]
    }
   ],
   "source": [
    "artifact_hypernyms = [bn.get_synset(x.id_target) for x in artifact_hypernym_edges]\n",
    "for i, x in enumerate(artifact_hypernyms): print(f'{i}: {x} - {x.main_sense().full_lemma} - {x.main_gloss()}')"
   ]
  },
  {
   "cell_type": "code",
   "execution_count": 40,
   "metadata": {},
   "outputs": [
    {
     "name": "stdout",
     "output_type": "stream",
     "text": [
      "0: EN_oewn@_bn:00058442n - hypernym - bn:00058442n\n",
      "1: EN_@_bn:00058442n - hypernym - bn:00058442n\n"
     ]
    }
   ],
   "source": [
    "whole_hypernym_edges = artifact_hypernyms[0].outgoing_edges(BabelPointer.ANY_HYPERNYM)\n",
    "for i, x in enumerate(whole_hypernym_edges): print(f'{i}: {x} - {x.pointer} - {x.target}')"
   ]
  },
  {
   "cell_type": "code",
   "execution_count": 41,
   "metadata": {},
   "outputs": [
    {
     "name": "stdout",
     "output_type": "stream",
     "text": [
      "0: 34088666__object#n#1 - object - A tangible and visible entity; an entity that can cast a shadow\n",
      "1: 34088666__object#n#1 - object - A tangible and visible entity; an entity that can cast a shadow\n"
     ]
    }
   ],
   "source": [
    "whole_hypernyms = [bn.get_synset(x.id_target) for x in whole_hypernym_edges]\n",
    "for i, x in enumerate(whole_hypernyms): print(f'{i}: {x} - {x.main_sense().full_lemma} - {x.main_gloss()}')"
   ]
  },
  {
   "cell_type": "code",
   "execution_count": 42,
   "metadata": {},
   "outputs": [
    {
     "name": "stdout",
     "output_type": "stream",
     "text": [
      "0: EN_oewn@_bn:00062164n - hypernym - bn:00062164n\n",
      "1: EN_@_bn:00062164n - hypernym - bn:00062164n\n"
     ]
    }
   ],
   "source": [
    "object_hypernym_edges = whole_hypernyms[0].outgoing_edges(BabelPointer.ANY_HYPERNYM)\n",
    "for i, x in enumerate(object_hypernym_edges): print(f'{i}: {x} - {x.pointer} - {x.target}')"
   ]
  },
  {
   "cell_type": "code",
   "execution_count": 43,
   "metadata": {},
   "outputs": [
    {
     "name": "stdout",
     "output_type": "stream",
     "text": [
      "0: 33616220__physical_entity#n#1 - physical_entity - An entity that has physical existence\n",
      "1: 33616220__physical_entity#n#1 - physical_entity - An entity that has physical existence\n"
     ]
    }
   ],
   "source": [
    "object_hypernyms = [bn.get_synset(x.id_target) for x in object_hypernym_edges]\n",
    "for i, x in enumerate(object_hypernyms): print(f'{i}: {x} - {x.main_sense().full_lemma} - {x.main_gloss()}')"
   ]
  },
  {
   "cell_type": "code",
   "execution_count": 44,
   "metadata": {},
   "outputs": [
    {
     "name": "stdout",
     "output_type": "stream",
     "text": [
      "0: EN_oewn@_bn:00031027n - hypernym - bn:00031027n\n",
      "1: EN_@_bn:00031027n - hypernym - bn:00031027n\n"
     ]
    }
   ],
   "source": [
    "physical_entity_hypernym_edges = object_hypernyms[0].outgoing_edges(BabelPointer.ANY_HYPERNYM)\n",
    "for i, x in enumerate(physical_entity_hypernym_edges): print(f'{i}: {x} - {x.pointer} - {x.target}')"
   ]
  },
  {
   "cell_type": "code",
   "execution_count": 45,
   "metadata": {},
   "outputs": [
    {
     "name": "stdout",
     "output_type": "stream",
     "text": [
      "0: 45041847__entity#n#1 - entity - That which is perceived or known or inferred to have its own distinct existence (living or nonliving)\n",
      "1: 45041847__entity#n#1 - entity - That which is perceived or known or inferred to have its own distinct existence (living or nonliving)\n"
     ]
    }
   ],
   "source": [
    "physical_entity_hypernyms = [bn.get_synset(x.id_target) for x in physical_entity_hypernym_edges]\n",
    "for i, x in enumerate(physical_entity_hypernyms): print(f'{i}: {x} - {x.main_sense().full_lemma} - {x.main_gloss()}')"
   ]
  },
  {
   "cell_type": "code",
   "execution_count": 46,
   "metadata": {},
   "outputs": [],
   "source": [
    "entity_hypernym_edges = physical_entity_hypernyms[0].outgoing_edges(BabelPointer.ANY_HYPERNYM)\n",
    "for i, x in enumerate(entity_hypernym_edges): print(f'{i}: {x} - {x.pointer} - {x.target}')"
   ]
  },
  {
   "cell_type": "code",
   "execution_count": 49,
   "metadata": {},
   "outputs": [
    {
     "data": {
      "text/plain": [
       "'entity'"
      ]
     },
     "execution_count": 49,
     "metadata": {},
     "output_type": "execute_result"
    }
   ],
   "source": [
    "entity_syn = bn.get_synset(BabelSynsetID('bn:00031027n'))\n",
    "entity_syn.main_sense().full_lemma"
   ]
  },
  {
   "cell_type": "code",
   "execution_count": 62,
   "metadata": {},
   "outputs": [
    {
     "data": {
      "text/plain": [
       "NOUN"
      ]
     },
     "execution_count": 62,
     "metadata": {},
     "output_type": "execute_result"
    }
   ],
   "source": [
    "entity_syn.pos"
   ]
  },
  {
   "cell_type": "code",
   "execution_count": 50,
   "metadata": {},
   "outputs": [
    {
     "data": {
      "text/plain": [
       "[WN:EN:entity, OEWN:EN:entity, OMWIKI:EN:entity, WIKT:EN:entity]"
      ]
     },
     "execution_count": 50,
     "metadata": {},
     "output_type": "execute_result"
    }
   ],
   "source": [
    "entity_syn.senses()"
   ]
  },
  {
   "cell_type": "code",
   "execution_count": 51,
   "metadata": {},
   "outputs": [
    {
     "data": {
      "text/plain": [
       "[That which is perceived or known or inferred to have its own distinct existence (living or nonliving),\n",
       " That which is perceived or known or inferred to have its own distinct existence (living or nonliving),\n",
       " That which is perceived or known or inferred to have its own distinct existence.,\n",
       " That which has a distinct existence as an individual unit. Often used for organisations which have no physical form.]"
      ]
     },
     "execution_count": 51,
     "metadata": {},
     "output_type": "execute_result"
    }
   ],
   "source": [
    "entity_syn.glosses()"
   ]
  },
  {
   "cell_type": "code",
   "execution_count": 69,
   "metadata": {},
   "outputs": [
    {
     "data": {
      "text/plain": [
       "[WN, OEWN, OMWIKI, WIKT]"
      ]
     },
     "execution_count": 69,
     "metadata": {},
     "output_type": "execute_result"
    }
   ],
   "source": [
    "entity_syn.sense_sources"
   ]
  },
  {
   "cell_type": "code",
   "execution_count": 71,
   "metadata": {},
   "outputs": [
    {
     "data": {
      "text/plain": [
       "[]"
      ]
     },
     "execution_count": 71,
     "metadata": {},
     "output_type": "execute_result"
    }
   ],
   "source": [
    "entity_syn.outgoing_edges(BabelPointer.ANY_HYPERNYM, BabelPointer.ANY_MERONYM, BabelPointer.ANY_HOLONYM)"
   ]
  },
  {
   "cell_type": "code",
   "execution_count": 56,
   "metadata": {},
   "outputs": [
    {
     "data": {
      "text/plain": [
       "[EN_oewn~_bn:00000492n,\n",
       " EN_oewn~_bn:00062164n,\n",
       " EN_oewn~_bn:00076924n,\n",
       " EN_~_bn:00000492n,\n",
       " EN_~_bn:00062164n,\n",
       " EN_~_bn:00076924n]"
      ]
     },
     "execution_count": 56,
     "metadata": {},
     "output_type": "execute_result"
    }
   ],
   "source": [
    "entity_syn.outgoing_edges(BabelPointer.ANY_HYPONYM)"
   ]
  },
  {
   "cell_type": "code",
   "execution_count": 59,
   "metadata": {},
   "outputs": [
    {
     "name": "stdout",
     "output_type": "stream",
     "text": [
      "0: hyponym -> bn:00000492n ### abstraction\n",
      "1: hyponym -> bn:00062164n ### physical_entity\n",
      "2: hyponym -> bn:00076924n ### thing\n",
      "3: hyponym -> bn:00000492n ### abstraction\n",
      "4: hyponym -> bn:00062164n ### physical_entity\n",
      "5: hyponym -> bn:00076924n ### thing\n"
     ]
    }
   ],
   "source": [
    "for i, x in enumerate(entity_syn.outgoing_edges(BabelPointer.ANY_HYPONYM)):\n",
    "    x_syn = bn.get_synset(x.id_target)\n",
    "    print(f'{i}: {x.pointer} -> {x.id_target} ### {x_syn.main_sense().full_lemma}')"
   ]
  },
  {
   "cell_type": "code",
   "execution_count": 61,
   "metadata": {},
   "outputs": [
    {
     "name": "stdout",
     "output_type": "stream",
     "text": [
      "0: hyponym -> bn:00000492n ### abstraction\n",
      "1: hyponym -> bn:00062164n ### physical_entity\n",
      "2: hyponym -> bn:00076924n ### thing\n",
      "3: hyponym -> bn:00000492n ### abstraction\n",
      "4: hyponym -> bn:00062164n ### physical_entity\n",
      "5: hyponym -> bn:00076924n ### thing\n",
      "6: gloss_related_form_(monosemous) -> bn:00096707a ### own\n",
      "7: gloss_related_form_(monosemous) -> bn:00104777a ### inanimate\n",
      "8: gloss_related_form_(monosemous) -> bn:00105645a ### known\n",
      "9: gloss_related_form_(disambiguated) -> bn:00009676n ### being\n",
      "10: gloss_related_form_(disambiguated) -> bn:00086430v ### deduce\n",
      "11: gloss_related_form_(disambiguated) -> bn:00086431v ### deduce\n",
      "12: gloss_related_form_(disambiguated) -> bn:00089708v ### understand\n",
      "13: gloss_related_form_(disambiguated) -> bn:00091540v ### perceive\n",
      "14: gloss_related_form_(disambiguated) -> bn:00099815a ### clear-cut\n",
      "15: gloss_related_form_(disambiguated) -> bn:00101496a ### discrete\n",
      "16: gloss_related_form_(disambiguated) -> bn:00104777a ### inanimate\n",
      "17: gloss_related_form_(disambiguated) -> bn:00105645a ### known\n"
     ]
    }
   ],
   "source": [
    "for i, x in enumerate(entity_syn.outgoing_edges()):\n",
    "    x_syn = bn.get_synset(x.id_target)\n",
    "    print(f'{i}: {x.pointer} -> {x.id_target} ### {x_syn.main_sense().full_lemma}')"
   ]
  },
  {
   "cell_type": "code",
   "execution_count": 63,
   "metadata": {},
   "outputs": [
    {
     "data": {
      "text/plain": [
       "ADJ"
      ]
     },
     "execution_count": 63,
     "metadata": {},
     "output_type": "execute_result"
    }
   ],
   "source": [
    "own_syn = bn.get_synset(BabelSynsetID('bn:00096707a'))\n",
    "own_syn.pos"
   ]
  },
  {
   "cell_type": "code",
   "execution_count": 67,
   "metadata": {},
   "outputs": [
    {
     "data": {
      "text/plain": [
       "Belonging to or on behalf of a specified person (especially yourself); preceded by a possessive"
      ]
     },
     "execution_count": 67,
     "metadata": {},
     "output_type": "execute_result"
    }
   ],
   "source": [
    "own_syn.main_gloss()"
   ]
  },
  {
   "cell_type": "code",
   "execution_count": 68,
   "metadata": {},
   "outputs": [
    {
     "data": {
      "text/plain": [
       "[]"
      ]
     },
     "execution_count": 68,
     "metadata": {},
     "output_type": "execute_result"
    }
   ],
   "source": [
    "own_syn.outgoing_edges(BabelPointer.ANY_HYPERNYM)"
   ]
  },
  {
   "cell_type": "code",
   "execution_count": null,
   "metadata": {},
   "outputs": [],
   "source": []
  }
 ],
 "metadata": {
  "kernelspec": {
   "display_name": "graphproject",
   "language": "python",
   "name": "python3"
  },
  "language_info": {
   "codemirror_mode": {
    "name": "ipython",
    "version": 3
   },
   "file_extension": ".py",
   "mimetype": "text/x-python",
   "name": "python",
   "nbconvert_exporter": "python",
   "pygments_lexer": "ipython3",
   "version": "3.8.3"
  },
  "orig_nbformat": 4
 },
 "nbformat": 4,
 "nbformat_minor": 2
}
