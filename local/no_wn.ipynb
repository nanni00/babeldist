{
 "cells": [
  {
   "cell_type": "code",
   "execution_count": 2,
   "metadata": {},
   "outputs": [],
   "source": [
    "import babelnet as bn\n",
    "from babelnet.language import Language\n",
    "from babelnet.pos import POS\n",
    "from babelnet.resources import WikipediaID\n",
    "from babelnet.data.relation import BabelPointer, BabelSynsetID\n",
    "from babelnet.synset import BabelSynsetComparator"
   ]
  },
  {
   "cell_type": "code",
   "execution_count": 12,
   "metadata": {},
   "outputs": [],
   "source": [
    "struttura_wiki = WikipediaID('struttura', language=Language.IT)"
   ]
  },
  {
   "cell_type": "code",
   "execution_count": 16,
   "metadata": {},
   "outputs": [
    {
     "data": {
      "text/plain": [
       "[]"
      ]
     },
     "execution_count": 16,
     "metadata": {},
     "output_type": "execute_result"
    }
   ],
   "source": [
    "struttura_wiki.to_synsets()"
   ]
  },
  {
   "cell_type": "code",
   "execution_count": 17,
   "metadata": {},
   "outputs": [
    {
     "name": "stdout",
     "output_type": "stream",
     "text": [
      "0: 313787568__OMWN_IT:IT:struttura --- None\n",
      "1: 54744249__WIKI:IT:tessitura_(petrografia) --- La tessitura in geologia è definita come l'insieme delle caratteristiche geometriche di una roccia, in genere visibili a scala microscopica o con l'aiuto di una lente d'ingrandimento.\n",
      "2: 313814116__OMWN_IT:IT:struttura --- None\n",
      "3: 436292181__WIKIDATA:IT:struttura --- None\n",
      "4: 313780933__OMWN_IT:IT:struttura --- Cosa costruita\n",
      "5: 313760610__OMWN_IT:IT:struttura --- None\n",
      "6: 572307908__WIKIDATA:IT:struttura --- None\n",
      "7: 117867149__WIKI:IT:struttura_resistente --- La struttura resistente, in edilizia, indica una struttura edile di una costruzione espressamente destinata ad assorbire il carico strutturale e le azioni esterne cui il manufatto è soggetto durante tutta la sua vita di esercizio.\n",
      "8: 29387972__WIKITR:IT:struttura --- None\n",
      "9: 445159549__WIKIDATA:IT:struttura --- None\n",
      "10: 45333579__OMWIKI:IT:telaio --- Struttura rigida portante che serve da sostegno a pannelli o sportelli.\n",
      "11: 269589398__WIKI:IT:struttura_(semiotica) --- Nozione cardine dello strutturalismo filosofico, della linguistica strutturale e della semiotica, la struttura è una totalità di relazioni fra unità la cui descrizione scientifica prescinde dalle proprietà mostrate dalle unità stesse.\n",
      "12: 45334803__IWN:IT:edificio --- Qualsiasi struttura organizzata\n",
      "13: 64525777__WIKI:IT:struttura_(matematica) --- In matematica, una struttura su un insieme è costituita da oggetti matematici addizionali che in qualche modo si sovrappongono all'insieme, consentendo di visualizzarlo, lavorarci, usarlo come strumento di calcolo e di assegnare uno specifico significato all'insieme e ai suoi elementi.\n",
      "14: 313765343__OMWN_IT:IT:installazione --- Edificio, luogo o altra cosa che fornisce un certo servizio o rende più facile qualcosa.\n",
      "15: 313778323__OMWN_IT:IT:disegno --- Motivo ornamentale.\n",
      "16: 57679816__WIKI:IT:struttura_(terreno) --- Per struttura di un terreno si intende la proprietà derivata dall'aggregazione delle particelle terrose e dalla reciproca disposizione spaziale sia degli aggregati sia delle singole particelle.\n",
      "17: 313780244__OMWN_IT:IT:forma --- Metà di una circonferenza\n"
     ]
    }
   ],
   "source": [
    "struttura_syns = bn.get_synsets('struttura', from_langs=[Language.IT])\n",
    "for i, x in enumerate(struttura_syns): print(f'{i}: {x} --- {x.main_gloss()}')"
   ]
  },
  {
   "cell_type": "code",
   "execution_count": 18,
   "metadata": {},
   "outputs": [
    {
     "data": {
      "text/plain": [
       "69673875__WIKI:EN:structure"
      ]
     },
     "execution_count": 18,
     "metadata": {},
     "output_type": "execute_result"
    }
   ],
   "source": [
    "struttura_target = bn.get_synset(BabelSynsetID('bn:03830506n'))\n",
    "struttura_target"
   ]
  },
  {
   "cell_type": "code",
   "execution_count": 19,
   "metadata": {},
   "outputs": [
    {
     "data": {
      "text/plain": [
       "[]"
      ]
     },
     "execution_count": 19,
     "metadata": {},
     "output_type": "execute_result"
    }
   ],
   "source": [
    "struttura_target_hypernyms = struttura_target.outgoing_edges(BabelPointer.ANY_HYPERNYM)\n",
    "struttura_target_hypernyms"
   ]
  },
  {
   "cell_type": "code",
   "execution_count": 31,
   "metadata": {},
   "outputs": [
    {
     "data": {
      "text/plain": [
       "{IT}"
      ]
     },
     "execution_count": 31,
     "metadata": {},
     "output_type": "execute_result"
    }
   ],
   "source": [
    "struttura_syns[0].languages"
   ]
  },
  {
   "cell_type": "code",
   "execution_count": 34,
   "metadata": {},
   "outputs": [
    {
     "data": {
      "text/plain": [
       "459300847__WIKIDATA:IT:disciplina_accademica"
      ]
     },
     "execution_count": 34,
     "metadata": {},
     "output_type": "execute_result"
    }
   ],
   "source": [
    "disacc_syn = bn.get_synset(BabelSynsetID('bn:16324994n'), to_langs=[Language.IT])\n",
    "disacc_syn"
   ]
  },
  {
   "cell_type": "code",
   "execution_count": 37,
   "metadata": {},
   "outputs": [
    {
     "data": {
      "text/plain": [
       "[disciplina_accademica,\n",
       " disciplina,\n",
       " materia_di_studio,\n",
       " branca_accademica,\n",
       " materia_accademica,\n",
       " materia]"
      ]
     },
     "execution_count": 37,
     "metadata": {},
     "output_type": "execute_result"
    }
   ],
   "source": [
    "disacc_syn.lemmas(Language.IT)"
   ]
  },
  {
   "cell_type": "code",
   "execution_count": null,
   "metadata": {},
   "outputs": [],
   "source": []
  }
 ],
 "metadata": {
  "kernelspec": {
   "display_name": "graphproject",
   "language": "python",
   "name": "python3"
  },
  "language_info": {
   "codemirror_mode": {
    "name": "ipython",
    "version": 3
   },
   "file_extension": ".py",
   "mimetype": "text/x-python",
   "name": "python",
   "nbconvert_exporter": "python",
   "pygments_lexer": "ipython3",
   "version": "3.8.3"
  },
  "orig_nbformat": 4
 },
 "nbformat": 4,
 "nbformat_minor": 2
}
