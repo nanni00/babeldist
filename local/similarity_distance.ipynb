{
 "cells": [
  {
   "cell_type": "code",
   "execution_count": 1,
   "metadata": {},
   "outputs": [
    {
     "name": "stderr",
     "output_type": "stream",
     "text": [
      "2023-08-29 15:24:51,741 [babelnet.conf] INFO: Loaded configuration from ['/home/giovanni/unimore/2_graph_analytics/tesina/code/babelnet_conf.yml']\n",
      "2023-08-29 15:24:51,766 [babelnet.api] INFO: BabelNet online RESTful API v1.1.0\n"
     ]
    }
   ],
   "source": [
    "import babelnet as bn\n",
    "from babelnet.language import Language\n",
    "from babelnet.resources import BabelSynsetID\n",
    "from babelnet.data.relation import BabelPointer"
   ]
  },
  {
   "cell_type": "code",
   "execution_count": 3,
   "metadata": {},
   "outputs": [],
   "source": [
    "car_synsets = bn.get_synsets('car', from_langs=[Language.EN])"
   ]
  },
  {
   "cell_type": "code",
   "execution_count": 4,
   "metadata": {},
   "outputs": [
    {
     "data": {
      "text/plain": [
       "[399720449__WIKIDATA:EN:Car,\n",
       " 104579038__WIKI:EN:The_Car,\n",
       " 89663629__WIKI:EN:Peter_Gabriel_(1977_album),\n",
       " 8103040__car#n#1,\n",
       " 43294909__cable_car#n#1,\n",
       " 50273975__WIKI:EN:C.a.R.,\n",
       " 42425767__car#n#4,\n",
       " 89827615__WIKI:EN:Coxsackievirus_and_adenovirus_receptor,\n",
       " 443462183__WIKIDATA:EN:Car,\n",
       " 111301707__WIKI:EN:Car_(surname)]"
      ]
     },
     "execution_count": 4,
     "metadata": {},
     "output_type": "execute_result"
    }
   ],
   "source": [
    "car_synsets[10:20]"
   ]
  },
  {
   "cell_type": "code",
   "execution_count": 5,
   "metadata": {},
   "outputs": [
    {
     "data": {
      "text/plain": [
       "A motor vehicle with four wheels; usually propelled by an internal combustion engine"
      ]
     },
     "execution_count": 5,
     "metadata": {},
     "output_type": "execute_result"
    }
   ],
   "source": [
    "car_synsets[13].main_gloss()"
   ]
  },
  {
   "cell_type": "code",
   "execution_count": 6,
   "metadata": {},
   "outputs": [
    {
     "data": {
      "text/plain": [
       "[A motor vehicle with four wheels; usually propelled by an internal combustion engine,\n",
       " A motor vehicle with four wheels; usually propelled by an internal combustion engine,\n",
       " A car is a wheeled motor vehicle that is used for transportation.,\n",
       " Wheeled motor vehicle used for transporting passengers.,\n",
       " Motorized road vehicle designed to carry one to eight people rather than primarily goods,\n",
       " A four-wheeled motor vehicle used for land transport.,\n",
       " A type of vehicle designed to move on the ground under its own stored power and intended to carry a driver, a small number of additional passengers, and a very limited amount of other load. A car or motorcar.,\n",
       " Passenger vehicle.,\n",
       " A wheeled vehicle, drawn by a horse or other animal; a chariot.,\n",
       " A vehicle operated mechanically, such as an automobile or an airplane.]"
      ]
     },
     "execution_count": 6,
     "metadata": {},
     "output_type": "execute_result"
    }
   ],
   "source": [
    "car_synsets[13].glosses()"
   ]
  },
  {
   "cell_type": "code",
   "execution_count": 7,
   "metadata": {},
   "outputs": [
    {
     "data": {
      "text/plain": [
       "bn:00007309n"
      ]
     },
     "execution_count": 7,
     "metadata": {},
     "output_type": "execute_result"
    }
   ],
   "source": [
    "car_sense = car_synsets[13].main_sense()\n",
    "car_synset = car_synsets[13]\n",
    "car_synset.id"
   ]
  },
  {
   "cell_type": "code",
   "execution_count": 8,
   "metadata": {},
   "outputs": [
    {
     "name": "stdout",
     "output_type": "stream",
     "text": [
      "bn:00007309n\tcar - hypernym - 39812331__motor_vehicle#n#1\n",
      "bn:00007309n\tcar - subclass_of - 39812331__motor_vehicle#n#1\n",
      "bn:00007309n\tcar - subclass_of - 546418035__WIKIDATA:EN:multi-track_vehicle\n",
      "bn:00007309n\tcar - subclass_of - 375610366__WIKIDATA:EN:road_vehicle\n",
      "bn:00007309n\tcar - hypernym - 39812331__motor_vehicle#n#1\n"
     ]
    }
   ],
   "source": [
    "for edge in car_synset.outgoing_edges(BabelPointer.ANY_HYPERNYM):\n",
    "    print(str(car_synset.id) + '\\t' + car_synset.main_sense(Language.EN).full_lemma,\n",
    "          edge.pointer, bn.get_synset(edge.id_target), sep=' - ')"
   ]
  },
  {
   "cell_type": "code",
   "execution_count": 9,
   "metadata": {},
   "outputs": [
    {
     "data": {
      "text/plain": [
       "39812331__motor_vehicle#n#1"
      ]
     },
     "execution_count": 9,
     "metadata": {},
     "output_type": "execute_result"
    }
   ],
   "source": [
    "bn.get_synset(BabelSynsetID('bn:00007385n'))"
   ]
  },
  {
   "cell_type": "code",
   "execution_count": 11,
   "metadata": {},
   "outputs": [
    {
     "data": {
      "text/plain": [
       "EN"
      ]
     },
     "execution_count": 11,
     "metadata": {},
     "output_type": "execute_result"
    }
   ],
   "source": [
    "car_synset.main_sense().language"
   ]
  },
  {
   "cell_type": "code",
   "execution_count": 17,
   "metadata": {},
   "outputs": [
    {
     "data": {
      "text/plain": [
       "[8104447__IWN:IT:autovettura, 118642645__WIKI:IT:automobile]"
      ]
     },
     "execution_count": 17,
     "metadata": {},
     "output_type": "execute_result"
    }
   ],
   "source": [
    "automobile_synsets = bn.get_synsets('automobile', from_langs=[Language.IT])\n",
    "automobile_synsets"
   ]
  },
  {
   "cell_type": "code",
   "execution_count": 23,
   "metadata": {},
   "outputs": [
    {
     "data": {
      "text/plain": [
       "[Un'automobile indica un veicolo dotato di ruote, ideato per il trasporto di un certo numero persone e mossa da un motore a combustione interna o da motori elettrici.,\n",
       " veicolo]"
      ]
     },
     "execution_count": 23,
     "metadata": {},
     "output_type": "execute_result"
    }
   ],
   "source": [
    "automobile_synset = automobile_synsets[1]\n",
    "automobile_synset.glosses()"
   ]
  },
  {
   "cell_type": "code",
   "execution_count": 37,
   "metadata": {},
   "outputs": [
    {
     "data": {
      "text/plain": [
       "[38924489__Lancelot#n#1, 474934488__WIKIDATA:EN:Lancillotto]"
      ]
     },
     "execution_count": 37,
     "metadata": {},
     "output_type": "execute_result"
    }
   ],
   "source": [
    "lanc_synsets = bn.get_synsets('Lancillotto', from_langs=[Language.IT, Language.EN])\n",
    "lanc_synsets"
   ]
  },
  {
   "cell_type": "code",
   "execution_count": 33,
   "metadata": {},
   "outputs": [
    {
     "data": {
      "text/plain": [
       "[38924405__WIKI:IT:Lancillotto, 59122873__WIKI:IT:Lancillotto_(nome)]"
      ]
     },
     "execution_count": 33,
     "metadata": {},
     "output_type": "execute_result"
    }
   ],
   "source": [
    "bn.get_synsets('Lancillotto', from_langs=[Language.IT])"
   ]
  },
  {
   "cell_type": "code",
   "execution_count": 38,
   "metadata": {},
   "outputs": [
    {
     "data": {
      "text/plain": [
       "{EN, IT}"
      ]
     },
     "execution_count": 38,
     "metadata": {},
     "output_type": "execute_result"
    }
   ],
   "source": [
    "lanc_synset = lanc_synsets[0]\n",
    "lanc_synset.languages"
   ]
  },
  {
   "cell_type": "code",
   "execution_count": 40,
   "metadata": {},
   "outputs": [
    {
     "data": {
      "text/plain": [
       "[(Arthurian legend) one of the knights of the Round Table; friend of King Arthur until (according to some versions of the legend) he became the lover of Arthur's wife Guinevere,\n",
       " (Arthurian legend) one of the knights of the Round Table; friend of King Arthur until (according to some versions of the legend) he became the lover of Arthur's wife Guinevere,\n",
       " Lancelot du Lac, also written as Launcelot and other variants, is a character in some versions of Arthurian legend, where he is typically depicted as King Arthur's close companion and one of the greatest Knights of the Round Table.,\n",
       " Arthurian legend character,\n",
       " One of the knights of the round table, a lover of Guinevere.,\n",
       " Nel ciclo arturiano, Lancillotto del Lago è uno dei cavalieri della Tavola Rotonda.,\n",
       " Personaggio delle leggende del ciclo arturiano]"
      ]
     },
     "execution_count": 40,
     "metadata": {},
     "output_type": "execute_result"
    }
   ],
   "source": [
    "lanc_synset.glosses()"
   ]
  },
  {
   "cell_type": "code",
   "execution_count": 41,
   "metadata": {},
   "outputs": [
    {
     "data": {
      "text/plain": [
       "[WN, OEWN, WIKI, WIKIDATA, WIKT, WIKIDATA_ALIAS, WIKIRED, WNTR]"
      ]
     },
     "execution_count": 41,
     "metadata": {},
     "output_type": "execute_result"
    }
   ],
   "source": [
    "lanc_synset.sense_sources"
   ]
  },
  {
   "cell_type": "code",
   "execution_count": 43,
   "metadata": {},
   "outputs": [
    {
     "name": "stdout",
     "output_type": "stream",
     "text": [
      "WN:EN: (Arthurian legend) one of the knights of the Round Table; friend of King Arthur until (according to some versions of the legend) he became the lover of Arthur's wife Guinevere\n",
      "OEWN:EN: (Arthurian legend) one of the knights of the Round Table; friend of King Arthur until (according to some versions of the legend) he became the lover of Arthur's wife Guinevere\n",
      "WIKI:EN: Lancelot du Lac, also written as Launcelot and other variants, is a character in some versions of Arthurian legend, where he is typically depicted as King Arthur's close companion and one of the greatest Knights of the Round Table.\n",
      "WIKIDATA:EN: Arthurian legend character\n",
      "WIKT:EN: One of the knights of the round table, a lover of Guinevere.\n",
      "WIKI:IT: Nel ciclo arturiano, Lancillotto del Lago è uno dei cavalieri della Tavola Rotonda.\n",
      "WIKIDIS:IT: Personaggio delle leggende del ciclo arturiano\n"
     ]
    }
   ],
   "source": [
    "for gloss in lanc_synset.glosses():\n",
    "    print(f'{gloss.source}:{gloss.language}: {gloss.gloss}')"
   ]
  },
  {
   "cell_type": "code",
   "execution_count": null,
   "metadata": {},
   "outputs": [],
   "source": []
  }
 ],
 "metadata": {
  "kernelspec": {
   "display_name": "graphproject",
   "language": "python",
   "name": "python3"
  },
  "language_info": {
   "codemirror_mode": {
    "name": "ipython",
    "version": 3
   },
   "file_extension": ".py",
   "mimetype": "text/x-python",
   "name": "python",
   "nbconvert_exporter": "python",
   "pygments_lexer": "ipython3",
   "version": "3.8.3"
  },
  "orig_nbformat": 4
 },
 "nbformat": 4,
 "nbformat_minor": 2
}
