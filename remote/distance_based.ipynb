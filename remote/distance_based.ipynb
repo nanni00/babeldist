{
 "cells": [
  {
   "cell_type": "code",
   "execution_count": 33,
   "metadata": {},
   "outputs": [],
   "source": [
    "import os\n",
    "import sys\n",
    "sys.path.append('..')\n",
    "from utils import utils\n",
    "import numpy as np\n",
    "\n",
    "import neo4j\n",
    "from neo4j import GraphDatabase"
   ]
  },
  {
   "cell_type": "code",
   "execution_count": 34,
   "metadata": {},
   "outputs": [
    {
     "name": "stderr",
     "output_type": "stream",
     "text": [
      "2023-09-19 15:27:02,877 [babelnet.conf] INFO: Loaded configuration from ['/home/giovanni/unimore/2_graph_analytics/tesina/babeldist/remote/babelnet_conf.yml']\n",
      "2023-09-19 15:27:02,888 [babelnet.api] INFO: BabelNet Remote Procedure Call API v1.1.0\n"
     ]
    }
   ],
   "source": [
    "from babelnet import BabelSynsetID"
   ]
  },
  {
   "cell_type": "code",
   "execution_count": 35,
   "metadata": {},
   "outputs": [],
   "source": [
    "URI = \"bolt://localhost:7687\"\n",
    "AUTH = (\"giovanni\", \"BabeldistGraph\")"
   ]
  },
  {
   "cell_type": "code",
   "execution_count": 107,
   "metadata": {},
   "outputs": [],
   "source": [
    "random_node_query = \" MATCH (a:Synset) RETURN a.synsetID as synsetID, rand() as r ORDER BY r LIMIT 1\"\n",
    "\n",
    "count_nodes_query = \" MATCH (s:Synset) RETURN count(s) as numNodes\"\n",
    "count_edges_query = \" MATCH ()-[r:IS_A]->() RETURN count(r) as numEdges\"\n",
    "\n",
    "shortestPath_query = \"\"\"\n",
    "MATCH (s1:Synset {synsetID: $synsetID_1})\n",
    "MATCH (s2:Synset {synsetID: $synsetID_2})\n",
    "MATCH p = shortestPath((s1)-[:IS_A*..12]-(s2))\n",
    "RETURN p as shortestPath, length(p) as length_shortestPath \"\"\"\n",
    "\n",
    "wup_query = \"\"\"\n",
    "MATCH (s1:Synset {synsetID: $synsetID_1})\n",
    "MATCH (s2:Synset {synsetID: $synsetID_2})\n",
    "MATCH p = (s1)-[:IS_A*..]->(common_node:Synset)<-[:IS_A*..12]-(s2) \n",
    "WITH s1, s2, common_node, length(p) AS len_p ORDER BY len_p ASC LIMIT 1\n",
    "MATCH (root:Synset {synsetID: $root_id})\n",
    "MATCH sp_cn=shortestPath((common_node)-[:IS_A*1..12]-(root))\n",
    "WITH s1, s2, root, length(sp_cn) AS LCS_depth\n",
    "MATCH s1_sp = shortestPath((s1)-[:IS_A*1..12]-(root))\n",
    "MATCH s2_sp = shortestPath((s2)-[:IS_A*1..12]-(root))\n",
    "WITH length(s1_sp) AS dist_s1_root, length(s2_sp) AS dist_s2_root, LCS_depth\n",
    "RETURN (toFloat(LCS_depth) / (dist_s1_root + dist_s2_root)) AS wup_similarity \"\"\"\n",
    "\n",
    "lch_query = \"\"\"\n",
    "MATCH t = (root:Synset {synsetID: $root_id})<-[:IS_A*1..12]-(child:Synset) \n",
    "WHERE NOT (child)<-[:IS_A]-()\n",
    "WITH length(t) AS D ORDER BY D DESC LIMIT 1\n",
    "MATCH (s1:Synset {synsetID: $synsetID_1})\n",
    "MATCH (s2:Synset {synsetID: $synsetID_2})\n",
    "MATCH shortest_path = shortestPath((s1)-[:IS_A*..12]-(s2))\n",
    "WITH D, length(shortest_path) as length_sp\n",
    "RETURN -log(toFloat(length_sp) / (2*D)) as lch_similarity, D as taxonomy_length, length_sp \"\"\"\n",
    "\n",
    "path_query = \"\"\"\n",
    "MATCH (s1:Synset {synsetID: $synsetID_1})\n",
    "MATCH (s2:Synset {synsetID: $synsetID_2})\n",
    "MATCH p = shortestPath((s1)-[:IS_A*..12]-(s2))\n",
    "RETURN 1.0/length(shortest_path) as path_similarity \"\"\""
   ]
  },
  {
   "cell_type": "code",
   "execution_count": 37,
   "metadata": {},
   "outputs": [],
   "source": [
    "root_node_id_str = 'bn:00062164n' # physical entity"
   ]
  },
  {
   "cell_type": "code",
   "execution_count": 38,
   "metadata": {},
   "outputs": [],
   "source": [
    "def get_random_synset_id(driver):\n",
    "    return driver.execute_query(random_node_query, result_transformer_=neo4j.Result.data)[0]['synsetID']"
   ]
  },
  {
   "cell_type": "code",
   "execution_count": 80,
   "metadata": {},
   "outputs": [],
   "source": [
    "def get_shortest_path(driver, s1_id: str, s2_id: str):\n",
    "    return driver.execute_query(\n",
    "        shortestPath_query, \n",
    "        {'synsetID_1': s1_id,\n",
    "         'synsetID_2': s2_id},\n",
    "        database_='neo4j',\n",
    "        result_transformer_=neo4j.Result.data)[0]['shortestPath']"
   ]
  },
  {
   "cell_type": "code",
   "execution_count": 92,
   "metadata": {},
   "outputs": [],
   "source": [
    "def get_shortest_path_length(driver, s1_id: str, s2_id: str):\n",
    "    p = driver.execute_query(\n",
    "        shortestPath_query, \n",
    "        {'synsetID_1': s1_id,\n",
    "         'synsetID_2': s2_id},\n",
    "        database_='neo4j',\n",
    "        result_transformer_=neo4j.Result.data)\n",
    "    return p[0]['length_shortestPath']"
   ]
  },
  {
   "cell_type": "code",
   "execution_count": 41,
   "metadata": {},
   "outputs": [],
   "source": [
    "def shortest_path_synsets_lemmas(driver, s1_id: str, s2_id: str):\n",
    "    shortest_path = get_shortest_path(driver, s1_id, s2_id)[0]['shortestPath']\n",
    "    for item in shortest_path:\n",
    "        if type(item) is dict and 'synsetID' in item.keys():\n",
    "            try:\n",
    "                print(BabelSynsetID(item['synsetID']).to_synset().main_sense().full_lemma)\n",
    "            except Exception as e:\n",
    "                print(e.args[0])"
   ]
  },
  {
   "cell_type": "code",
   "execution_count": 112,
   "metadata": {},
   "outputs": [],
   "source": [
    "def wup_similarity(driver, s1_id: str, s2_id: str):\n",
    "    return driver.execute_query(\n",
    "        wup_query,\n",
    "        {'root_id': root_node_id_str,\n",
    "         'synsetID_1': s1_id,\n",
    "         'synsetID_2': s2_id},\n",
    "        database_='neo4j',\n",
    "        result_transformer_=neo4j.Result.data)[0]['wup_similarity']"
   ]
  },
  {
   "cell_type": "code",
   "execution_count": 109,
   "metadata": {},
   "outputs": [],
   "source": [
    "def lch_similarity(driver, s1_id: str, s2_id: str):\n",
    "    return driver.execute_query(\n",
    "        lch_query,\n",
    "        {'root_id': root_node_id_str,\n",
    "         'synsetID_1': s1_id,\n",
    "         'synsetID_2': s2_id},\n",
    "        database_='neo4j',\n",
    "        result_transformer_=neo4j.Result.data)[0]['lch_similarity']"
   ]
  },
  {
   "cell_type": "code",
   "execution_count": 110,
   "metadata": {},
   "outputs": [],
   "source": [
    "def path_similarity(driver, s1_id: str, s2_id: str):\n",
    "    return driver.execute_query(\n",
    "        path_query,\n",
    "        {'synsetID_1': s1_id,\n",
    "         'synsetID_2': s2_id},\n",
    "        database_='neo4j',\n",
    "        result_transformer_=neo4j.Result.data)[0]['path_similarity']"
   ]
  },
  {
   "cell_type": "code",
   "execution_count": 48,
   "metadata": {},
   "outputs": [],
   "source": [
    "driver = GraphDatabase.driver(URI, auth=AUTH)"
   ]
  },
  {
   "cell_type": "code",
   "execution_count": 49,
   "metadata": {},
   "outputs": [
    {
     "data": {
      "text/plain": [
       "('bn:19386169n', 'bn:13817527n')"
      ]
     },
     "execution_count": 49,
     "metadata": {},
     "output_type": "execute_result"
    }
   ],
   "source": [
    "id1_str, id2_str = get_random_synset_id(driver), get_random_synset_id(driver) \n",
    "id1_str, id2_str"
   ]
  },
  {
   "cell_type": "code",
   "execution_count": 50,
   "metadata": {},
   "outputs": [
    {
     "data": {
      "text/plain": [
       "(476027474__WIKIDATA:EN:Tiouârdiouîne, 48899778__WIKI:ET:Anniallikas)"
      ]
     },
     "execution_count": 50,
     "metadata": {},
     "output_type": "execute_result"
    }
   ],
   "source": [
    "id1, id2 = BabelSynsetID(id1_str), BabelSynsetID(id2_str)\n",
    "s1, s2 = id1.to_synset(), id2.to_synset()\n",
    "s1, s2"
   ]
  },
  {
   "cell_type": "code",
   "execution_count": 51,
   "metadata": {},
   "outputs": [
    {
     "data": {
      "text/plain": [
       "(ينبوع في الجزائر, ينبوع في إستونيا)"
      ]
     },
     "execution_count": 51,
     "metadata": {},
     "output_type": "execute_result"
    }
   ],
   "source": [
    "s1.main_gloss(), s2.main_gloss()"
   ]
  },
  {
   "cell_type": "code",
   "execution_count": 113,
   "metadata": {},
   "outputs": [
    {
     "data": {
      "text/plain": [
       "0.375"
      ]
     },
     "execution_count": 113,
     "metadata": {},
     "output_type": "execute_result"
    }
   ],
   "source": [
    "wup_similarity(driver, id1_str, id2_str)"
   ]
  },
  {
   "cell_type": "code",
   "execution_count": 103,
   "metadata": {},
   "outputs": [
    {
     "data": {
      "text/plain": [
       "(2.1972245773362196, 2.1972245773362196)"
      ]
     },
     "execution_count": 103,
     "metadata": {},
     "output_type": "execute_result"
    }
   ],
   "source": [
    "lch_similarity(driver, id1_str, id2_str)"
   ]
  },
  {
   "cell_type": "code",
   "execution_count": null,
   "metadata": {},
   "outputs": [
    {
     "name": "stdout",
     "output_type": "stream",
     "text": [
      "Lake_Canopus\n",
      "body_of_water\n",
      "thing\n",
      "physical_entity\n",
      "causal_agent\n",
      "cause_of_death\n",
      "airstrike\n",
      "Attack_on_Broome\n"
     ]
    }
   ],
   "source": [
    "shortest_path_synsets_lemmas(driver, id1_str, id2_str)"
   ]
  },
  {
   "cell_type": "code",
   "execution_count": null,
   "metadata": {},
   "outputs": [],
   "source": [
    "# Try to make a great quantity of comparisons\n",
    "fname = utils.get_next_logfile_number('dist_comparisons', extension='.csv')\n",
    "max_comparisons = 3\n",
    "sep = ';'\n",
    "names = sep.join(('id1', 'id2', 'lemma1', 'lemma2' 'wup', 'lch', 'path'))\n",
    "with open(fname, 'w') as f:\n",
    "    f.write(names + '\\n')\n",
    "    for _ in range(max_comparisons):\n",
    "        id1_str, id2_str = get_random_synset_id(driver), get_random_synset_id(driver) \n",
    "        id1, id2 = BabelSynsetID(id1_str), BabelSynsetID(id2_str)\n",
    "        s1, s2 = id1.to_synset(), id2.to_synset()\n",
    "        record = sep.join((id1_str, id2_str, s1.main_sense().full_lemma, s2.main_sense().full_lemma),\n",
    "                          wup_similarity(driver, id1_str, id2_str), lch_similarity(driver, id1_str, id2_str), path_similarity(driver, id1_str, id2_str))\n",
    "        f.write(record + '\\n')"
   ]
  },
  {
   "cell_type": "code",
   "execution_count": null,
   "metadata": {},
   "outputs": [],
   "source": [
    "driver.close()"
   ]
  },
  {
   "cell_type": "code",
   "execution_count": null,
   "metadata": {},
   "outputs": [],
   "source": [
    "import pandas as pd"
   ]
  },
  {
   "cell_type": "code",
   "execution_count": null,
   "metadata": {},
   "outputs": [
    {
     "data": {
      "text/html": [
       "<div>\n",
       "<style scoped>\n",
       "    .dataframe tbody tr th:only-of-type {\n",
       "        vertical-align: middle;\n",
       "    }\n",
       "\n",
       "    .dataframe tbody tr th {\n",
       "        vertical-align: top;\n",
       "    }\n",
       "\n",
       "    .dataframe thead th {\n",
       "        text-align: right;\n",
       "    }\n",
       "</style>\n",
       "<table border=\"1\" class=\"dataframe\">\n",
       "  <thead>\n",
       "    <tr style=\"text-align: right;\">\n",
       "      <th></th>\n",
       "      <th>id1</th>\n",
       "      <th>id2</th>\n",
       "      <th>lemma1</th>\n",
       "      <th>lemma2</th>\n",
       "      <th>wup</th>\n",
       "      <th>lch</th>\n",
       "      <th>path</th>\n",
       "    </tr>\n",
       "  </thead>\n",
       "  <tbody>\n",
       "    <tr>\n",
       "      <th>0</th>\n",
       "      <td>bn:15653856n</td>\n",
       "      <td>bn:21384886n</td>\n",
       "      <td>Cibao_Marl</td>\n",
       "      <td>Levally_Lough</td>\n",
       "      <td>0.500000</td>\n",
       "      <td>1.504077</td>\n",
       "      <td>0.250000</td>\n",
       "    </tr>\n",
       "    <tr>\n",
       "      <th>1</th>\n",
       "      <td>bn:08864746n</td>\n",
       "      <td>bn:06947256n</td>\n",
       "      <td>Kaustifikace</td>\n",
       "      <td>Laguna_Madre_Sal</td>\n",
       "      <td>0.500000</td>\n",
       "      <td>1.098612</td>\n",
       "      <td>0.166667</td>\n",
       "    </tr>\n",
       "    <tr>\n",
       "      <th>2</th>\n",
       "      <td>bn:00081683n</td>\n",
       "      <td>bn:00075601n</td>\n",
       "      <td>wreckage</td>\n",
       "      <td>Swiss</td>\n",
       "      <td>0.500000</td>\n",
       "      <td>1.098612</td>\n",
       "      <td>0.166667</td>\n",
       "    </tr>\n",
       "    <tr>\n",
       "      <th>3</th>\n",
       "      <td>bn:00010453n</td>\n",
       "      <td>bn:00076232n</td>\n",
       "      <td>bilocation</td>\n",
       "      <td>tax_haven</td>\n",
       "      <td>0.166667</td>\n",
       "      <td>2.197225</td>\n",
       "      <td>0.500000</td>\n",
       "    </tr>\n",
       "    <tr>\n",
       "      <th>4</th>\n",
       "      <td>bn:10842407n</td>\n",
       "      <td>bn:06160422n</td>\n",
       "      <td>Parque_Comandante_Jacques_Cousteau</td>\n",
       "      <td>Высшая_мера</td>\n",
       "      <td>0.571429</td>\n",
       "      <td>0.944462</td>\n",
       "      <td>0.142857</td>\n",
       "    </tr>\n",
       "  </tbody>\n",
       "</table>\n",
       "</div>"
      ],
      "text/plain": [
       "            id1           id2                              lemma1  \\\n",
       "0  bn:15653856n  bn:21384886n                          Cibao_Marl   \n",
       "1  bn:08864746n  bn:06947256n                        Kaustifikace   \n",
       "2  bn:00081683n  bn:00075601n                            wreckage   \n",
       "3  bn:00010453n  bn:00076232n                          bilocation   \n",
       "4  bn:10842407n  bn:06160422n  Parque_Comandante_Jacques_Cousteau   \n",
       "\n",
       "             lemma2       wup       lch      path  \n",
       "0     Levally_Lough  0.500000  1.504077  0.250000  \n",
       "1  Laguna_Madre_Sal  0.500000  1.098612  0.166667  \n",
       "2             Swiss  0.500000  1.098612  0.166667  \n",
       "3         tax_haven  0.166667  2.197225  0.500000  \n",
       "4       Высшая_мера  0.571429  0.944462  0.142857  "
      ]
     },
     "execution_count": 2,
     "metadata": {},
     "output_type": "execute_result"
    }
   ],
   "source": [
    "df = pd.read_csv('../log/dist_comparisons.csv', sep=';', on_bad_lines='skip')\n",
    "df.head(5)"
   ]
  },
  {
   "cell_type": "code",
   "execution_count": null,
   "metadata": {},
   "outputs": [],
   "source": [
    "df_sorted = df.sort_values(by=['wup', 'lch', 'path'], ascending=[True, False, False], ignore_index=True)"
   ]
  },
  {
   "cell_type": "code",
   "execution_count": null,
   "metadata": {},
   "outputs": [
    {
     "data": {
      "text/html": [
       "<div>\n",
       "<style scoped>\n",
       "    .dataframe tbody tr th:only-of-type {\n",
       "        vertical-align: middle;\n",
       "    }\n",
       "\n",
       "    .dataframe tbody tr th {\n",
       "        vertical-align: top;\n",
       "    }\n",
       "\n",
       "    .dataframe thead th {\n",
       "        text-align: right;\n",
       "    }\n",
       "</style>\n",
       "<table border=\"1\" class=\"dataframe\">\n",
       "  <thead>\n",
       "    <tr style=\"text-align: right;\">\n",
       "      <th></th>\n",
       "      <th>id1</th>\n",
       "      <th>id2</th>\n",
       "      <th>lemma1</th>\n",
       "      <th>lemma2</th>\n",
       "      <th>wup</th>\n",
       "      <th>lch</th>\n",
       "      <th>path</th>\n",
       "    </tr>\n",
       "  </thead>\n",
       "  <tbody>\n",
       "    <tr>\n",
       "      <th>5</th>\n",
       "      <td>bn:16078159n</td>\n",
       "      <td>bn:02927037n</td>\n",
       "      <td>Sheep_Pen_Sandstone</td>\n",
       "      <td>Muav_Limestone</td>\n",
       "      <td>0.166667</td>\n",
       "      <td>2.197225</td>\n",
       "      <td>0.5</td>\n",
       "    </tr>\n",
       "    <tr>\n",
       "      <th>6</th>\n",
       "      <td>bn:16181756n</td>\n",
       "      <td>bn:14962530n</td>\n",
       "      <td>Tulare_Formation</td>\n",
       "      <td>Kiltorcan_Formation</td>\n",
       "      <td>0.166667</td>\n",
       "      <td>2.197225</td>\n",
       "      <td>0.5</td>\n",
       "    </tr>\n",
       "    <tr>\n",
       "      <th>7</th>\n",
       "      <td>bn:16123273n</td>\n",
       "      <td>bn:14967161n</td>\n",
       "      <td>White_Knob_Formation</td>\n",
       "      <td>Lärchberg_Formation</td>\n",
       "      <td>0.166667</td>\n",
       "      <td>2.197225</td>\n",
       "      <td>0.5</td>\n",
       "    </tr>\n",
       "    <tr>\n",
       "      <th>8</th>\n",
       "      <td>bn:16067329n</td>\n",
       "      <td>bn:02452568n</td>\n",
       "      <td>Wiota_Gravels</td>\n",
       "      <td>Red_Crag_Formation</td>\n",
       "      <td>0.166667</td>\n",
       "      <td>2.197225</td>\n",
       "      <td>0.5</td>\n",
       "    </tr>\n",
       "    <tr>\n",
       "      <th>9</th>\n",
       "      <td>bn:15082001n</td>\n",
       "      <td>bn:16063583n</td>\n",
       "      <td>Dessa_Dawn_Formation</td>\n",
       "      <td>Deep_River_Formation</td>\n",
       "      <td>0.166667</td>\n",
       "      <td>2.197225</td>\n",
       "      <td>0.5</td>\n",
       "    </tr>\n",
       "    <tr>\n",
       "      <th>10</th>\n",
       "      <td>bn:15362748n</td>\n",
       "      <td>bn:16415624n</td>\n",
       "      <td>Falun_de_Pierrefitte</td>\n",
       "      <td>Hindsville_Limestone</td>\n",
       "      <td>0.166667</td>\n",
       "      <td>2.197225</td>\n",
       "      <td>0.5</td>\n",
       "    </tr>\n",
       "    <tr>\n",
       "      <th>11</th>\n",
       "      <td>bn:16721865n</td>\n",
       "      <td>bn:00013475n</td>\n",
       "      <td>Absolvent</td>\n",
       "      <td>brunet</td>\n",
       "      <td>0.166667</td>\n",
       "      <td>2.197225</td>\n",
       "      <td>0.5</td>\n",
       "    </tr>\n",
       "    <tr>\n",
       "      <th>12</th>\n",
       "      <td>bn:03284816n</td>\n",
       "      <td>bn:06947236n</td>\n",
       "      <td>Prime_meridian</td>\n",
       "      <td>Laguna_Sábalos</td>\n",
       "      <td>0.166667</td>\n",
       "      <td>2.197225</td>\n",
       "      <td>0.5</td>\n",
       "    </tr>\n",
       "    <tr>\n",
       "      <th>13</th>\n",
       "      <td>bn:01353217n</td>\n",
       "      <td>bn:22621880n</td>\n",
       "      <td>Kezilesu_Group</td>\n",
       "      <td>Whitehill_Formation</td>\n",
       "      <td>0.166667</td>\n",
       "      <td>2.197225</td>\n",
       "      <td>0.5</td>\n",
       "    </tr>\n",
       "    <tr>\n",
       "      <th>14</th>\n",
       "      <td>bn:16670890n</td>\n",
       "      <td>bn:22328757n</td>\n",
       "      <td>Skrinkle_Sandstones_Group</td>\n",
       "      <td>Bokkeveld_Group</td>\n",
       "      <td>0.166667</td>\n",
       "      <td>2.197225</td>\n",
       "      <td>0.5</td>\n",
       "    </tr>\n",
       "    <tr>\n",
       "      <th>15</th>\n",
       "      <td>bn:19523509n</td>\n",
       "      <td>bn:19507780n</td>\n",
       "      <td>Peters_Bay</td>\n",
       "      <td>Saut_Coumaroucage</td>\n",
       "      <td>0.166667</td>\n",
       "      <td>2.197225</td>\n",
       "      <td>0.5</td>\n",
       "    </tr>\n",
       "    <tr>\n",
       "      <th>16</th>\n",
       "      <td>bn:01927065n</td>\n",
       "      <td>bn:14973187n</td>\n",
       "      <td>Vanguard_Formation</td>\n",
       "      <td>Rancho_Nuevo_Formation</td>\n",
       "      <td>0.166667</td>\n",
       "      <td>2.197225</td>\n",
       "      <td>0.5</td>\n",
       "    </tr>\n",
       "    <tr>\n",
       "      <th>17</th>\n",
       "      <td>bn:16284524n</td>\n",
       "      <td>bn:15656619n</td>\n",
       "      <td>Eskridge_Shale</td>\n",
       "      <td>Ladegardsaen_Formation</td>\n",
       "      <td>0.166667</td>\n",
       "      <td>2.197225</td>\n",
       "      <td>0.5</td>\n",
       "    </tr>\n",
       "    <tr>\n",
       "      <th>18</th>\n",
       "      <td>bn:01299537n</td>\n",
       "      <td>bn:16347815n</td>\n",
       "      <td>Marnes_Irisees_Superieures_Formation</td>\n",
       "      <td>Temple_Butte_Formation</td>\n",
       "      <td>0.166667</td>\n",
       "      <td>2.197225</td>\n",
       "      <td>0.5</td>\n",
       "    </tr>\n",
       "    <tr>\n",
       "      <th>19</th>\n",
       "      <td>bn:16121832n</td>\n",
       "      <td>bn:14946764n</td>\n",
       "      <td>Chisholm_Formation</td>\n",
       "      <td>Husky_Formation</td>\n",
       "      <td>0.166667</td>\n",
       "      <td>2.197225</td>\n",
       "      <td>0.5</td>\n",
       "    </tr>\n",
       "    <tr>\n",
       "      <th>20</th>\n",
       "      <td>bn:15819884n</td>\n",
       "      <td>bn:16601771n</td>\n",
       "      <td>Río_Belgrano_Formation</td>\n",
       "      <td>Jackson_Formation</td>\n",
       "      <td>0.166667</td>\n",
       "      <td>2.197225</td>\n",
       "      <td>0.5</td>\n",
       "    </tr>\n",
       "    <tr>\n",
       "      <th>21</th>\n",
       "      <td>bn:16334057n</td>\n",
       "      <td>bn:16178104n</td>\n",
       "      <td>Locust_Point_Formation</td>\n",
       "      <td>Thompson_Formation</td>\n",
       "      <td>0.166667</td>\n",
       "      <td>2.197225</td>\n",
       "      <td>0.5</td>\n",
       "    </tr>\n",
       "    <tr>\n",
       "      <th>22</th>\n",
       "      <td>bn:09266379n</td>\n",
       "      <td>bn:26685388n</td>\n",
       "      <td>Surtla</td>\n",
       "      <td>Alto_de_La_Línea</td>\n",
       "      <td>0.166667</td>\n",
       "      <td>2.197225</td>\n",
       "      <td>0.5</td>\n",
       "    </tr>\n",
       "    <tr>\n",
       "      <th>23</th>\n",
       "      <td>bn:03223701n</td>\n",
       "      <td>bn:01885949n</td>\n",
       "      <td>Candeleros_Formation</td>\n",
       "      <td>Wagad_Formation</td>\n",
       "      <td>0.166667</td>\n",
       "      <td>2.197225</td>\n",
       "      <td>0.5</td>\n",
       "    </tr>\n",
       "    <tr>\n",
       "      <th>24</th>\n",
       "      <td>bn:14973417n</td>\n",
       "      <td>bn:16084771n</td>\n",
       "      <td>El_Camarón_Formation</td>\n",
       "      <td>Arrey_Formation</td>\n",
       "      <td>0.166667</td>\n",
       "      <td>2.197225</td>\n",
       "      <td>0.5</td>\n",
       "    </tr>\n",
       "    <tr>\n",
       "      <th>25</th>\n",
       "      <td>bn:16059175n</td>\n",
       "      <td>bn:15195169n</td>\n",
       "      <td>Hogeye_Tuff</td>\n",
       "      <td>Bücheler_Formation</td>\n",
       "      <td>0.166667</td>\n",
       "      <td>2.197225</td>\n",
       "      <td>0.5</td>\n",
       "    </tr>\n",
       "  </tbody>\n",
       "</table>\n",
       "</div>"
      ],
      "text/plain": [
       "             id1           id2                                lemma1  \\\n",
       "5   bn:16078159n  bn:02927037n                   Sheep_Pen_Sandstone   \n",
       "6   bn:16181756n  bn:14962530n                      Tulare_Formation   \n",
       "7   bn:16123273n  bn:14967161n                  White_Knob_Formation   \n",
       "8   bn:16067329n  bn:02452568n                         Wiota_Gravels   \n",
       "9   bn:15082001n  bn:16063583n                  Dessa_Dawn_Formation   \n",
       "10  bn:15362748n  bn:16415624n                  Falun_de_Pierrefitte   \n",
       "11  bn:16721865n  bn:00013475n                             Absolvent   \n",
       "12  bn:03284816n  bn:06947236n                        Prime_meridian   \n",
       "13  bn:01353217n  bn:22621880n                        Kezilesu_Group   \n",
       "14  bn:16670890n  bn:22328757n             Skrinkle_Sandstones_Group   \n",
       "15  bn:19523509n  bn:19507780n                            Peters_Bay   \n",
       "16  bn:01927065n  bn:14973187n                    Vanguard_Formation   \n",
       "17  bn:16284524n  bn:15656619n                        Eskridge_Shale   \n",
       "18  bn:01299537n  bn:16347815n  Marnes_Irisees_Superieures_Formation   \n",
       "19  bn:16121832n  bn:14946764n                    Chisholm_Formation   \n",
       "20  bn:15819884n  bn:16601771n                Río_Belgrano_Formation   \n",
       "21  bn:16334057n  bn:16178104n                Locust_Point_Formation   \n",
       "22  bn:09266379n  bn:26685388n                                Surtla   \n",
       "23  bn:03223701n  bn:01885949n                  Candeleros_Formation   \n",
       "24  bn:14973417n  bn:16084771n                  El_Camarón_Formation   \n",
       "25  bn:16059175n  bn:15195169n                           Hogeye_Tuff   \n",
       "\n",
       "                    lemma2       wup       lch  path  \n",
       "5           Muav_Limestone  0.166667  2.197225   0.5  \n",
       "6      Kiltorcan_Formation  0.166667  2.197225   0.5  \n",
       "7      Lärchberg_Formation  0.166667  2.197225   0.5  \n",
       "8       Red_Crag_Formation  0.166667  2.197225   0.5  \n",
       "9     Deep_River_Formation  0.166667  2.197225   0.5  \n",
       "10    Hindsville_Limestone  0.166667  2.197225   0.5  \n",
       "11                  brunet  0.166667  2.197225   0.5  \n",
       "12          Laguna_Sábalos  0.166667  2.197225   0.5  \n",
       "13     Whitehill_Formation  0.166667  2.197225   0.5  \n",
       "14         Bokkeveld_Group  0.166667  2.197225   0.5  \n",
       "15       Saut_Coumaroucage  0.166667  2.197225   0.5  \n",
       "16  Rancho_Nuevo_Formation  0.166667  2.197225   0.5  \n",
       "17  Ladegardsaen_Formation  0.166667  2.197225   0.5  \n",
       "18  Temple_Butte_Formation  0.166667  2.197225   0.5  \n",
       "19         Husky_Formation  0.166667  2.197225   0.5  \n",
       "20       Jackson_Formation  0.166667  2.197225   0.5  \n",
       "21      Thompson_Formation  0.166667  2.197225   0.5  \n",
       "22        Alto_de_La_Línea  0.166667  2.197225   0.5  \n",
       "23         Wagad_Formation  0.166667  2.197225   0.5  \n",
       "24         Arrey_Formation  0.166667  2.197225   0.5  \n",
       "25      Bücheler_Formation  0.166667  2.197225   0.5  "
      ]
     },
     "execution_count": 31,
     "metadata": {},
     "output_type": "execute_result"
    }
   ],
   "source": [
    "i = np.random.randint(0, df_sorted.shape[0])\n",
    "df_sorted.loc[i:i+10]\n",
    "df_sorted.loc[5:25]"
   ]
  },
  {
   "cell_type": "code",
   "execution_count": null,
   "metadata": {},
   "outputs": [
    {
     "data": {
      "text/html": [
       "<div>\n",
       "<style scoped>\n",
       "    .dataframe tbody tr th:only-of-type {\n",
       "        vertical-align: middle;\n",
       "    }\n",
       "\n",
       "    .dataframe tbody tr th {\n",
       "        vertical-align: top;\n",
       "    }\n",
       "\n",
       "    .dataframe thead th {\n",
       "        text-align: right;\n",
       "    }\n",
       "</style>\n",
       "<table border=\"1\" class=\"dataframe\">\n",
       "  <thead>\n",
       "    <tr style=\"text-align: right;\">\n",
       "      <th></th>\n",
       "      <th>id1</th>\n",
       "      <th>id2</th>\n",
       "      <th>lemma1</th>\n",
       "      <th>lemma2</th>\n",
       "      <th>wup</th>\n",
       "      <th>lch</th>\n",
       "      <th>path</th>\n",
       "    </tr>\n",
       "  </thead>\n",
       "  <tbody>\n",
       "    <tr>\n",
       "      <th>294</th>\n",
       "      <td>bn:06464054n</td>\n",
       "      <td>bn:00015773n</td>\n",
       "      <td>Defenestracja_wrocławska</td>\n",
       "      <td>captor</td>\n",
       "      <td>0.714286</td>\n",
       "      <td>1.280934</td>\n",
       "      <td>0.200000</td>\n",
       "    </tr>\n",
       "    <tr>\n",
       "      <th>295</th>\n",
       "      <td>bn:06464054n</td>\n",
       "      <td>bn:03556222n</td>\n",
       "      <td>Defenestracja_wrocławska</td>\n",
       "      <td>Barbadians</td>\n",
       "      <td>0.714286</td>\n",
       "      <td>1.280934</td>\n",
       "      <td>0.200000</td>\n",
       "    </tr>\n",
       "    <tr>\n",
       "      <th>296</th>\n",
       "      <td>bn:00018595n</td>\n",
       "      <td>bn:16391447n</td>\n",
       "      <td>chlorine_water</td>\n",
       "      <td>Clyde_Formation</td>\n",
       "      <td>0.714286</td>\n",
       "      <td>0.944462</td>\n",
       "      <td>0.142857</td>\n",
       "    </tr>\n",
       "    <tr>\n",
       "      <th>297</th>\n",
       "      <td>bn:05342818n</td>\n",
       "      <td>bn:17710678n</td>\n",
       "      <td>Reichenhall_Formation</td>\n",
       "      <td>Murder_of_Anastasiya_Meshcheryakova</td>\n",
       "      <td>0.714286</td>\n",
       "      <td>0.944462</td>\n",
       "      <td>0.142857</td>\n",
       "    </tr>\n",
       "    <tr>\n",
       "      <th>298</th>\n",
       "      <td>bn:00007311n</td>\n",
       "      <td>bn:02770575n</td>\n",
       "      <td>auto-da-fe</td>\n",
       "      <td>Sky_News_Arabia</td>\n",
       "      <td>0.714286</td>\n",
       "      <td>0.944462</td>\n",
       "      <td>0.142857</td>\n",
       "    </tr>\n",
       "    <tr>\n",
       "      <th>299</th>\n",
       "      <td>bn:17244499n</td>\n",
       "      <td>bn:17514528n</td>\n",
       "      <td>Copper_zinc_antimony_sulfide</td>\n",
       "      <td>Santissima_Annunziata,_Circello</td>\n",
       "      <td>0.833333</td>\n",
       "      <td>1.098612</td>\n",
       "      <td>0.166667</td>\n",
       "    </tr>\n",
       "  </tbody>\n",
       "</table>\n",
       "</div>"
      ],
      "text/plain": [
       "              id1           id2                        lemma1  \\\n",
       "294  bn:06464054n  bn:00015773n      Defenestracja_wrocławska   \n",
       "295  bn:06464054n  bn:03556222n      Defenestracja_wrocławska   \n",
       "296  bn:00018595n  bn:16391447n                chlorine_water   \n",
       "297  bn:05342818n  bn:17710678n         Reichenhall_Formation   \n",
       "298  bn:00007311n  bn:02770575n                    auto-da-fe   \n",
       "299  bn:17244499n  bn:17514528n  Copper_zinc_antimony_sulfide   \n",
       "\n",
       "                                  lemma2       wup       lch      path  \n",
       "294                               captor  0.714286  1.280934  0.200000  \n",
       "295                           Barbadians  0.714286  1.280934  0.200000  \n",
       "296                      Clyde_Formation  0.714286  0.944462  0.142857  \n",
       "297  Murder_of_Anastasiya_Meshcheryakova  0.714286  0.944462  0.142857  \n",
       "298                      Sky_News_Arabia  0.714286  0.944462  0.142857  \n",
       "299      Santissima_Annunziata,_Circello  0.833333  1.098612  0.166667  "
      ]
     },
     "execution_count": 32,
     "metadata": {},
     "output_type": "execute_result"
    }
   ],
   "source": [
    "df_sorted[df_sorted['wup'] > 0.714]"
   ]
  },
  {
   "cell_type": "code",
   "execution_count": null,
   "metadata": {},
   "outputs": [
    {
     "data": {
      "text/plain": [
       "array([0.5       , 0.16666667, 0.57142857, 0.33333333, 0.28571429,\n",
       "       0.83333333, 0.71428571, 0.42857143, 0.375     , 0.4       ,\n",
       "       0.6       , 0.25      ])"
      ]
     },
     "execution_count": 4,
     "metadata": {},
     "output_type": "execute_result"
    }
   ],
   "source": [
    "df['wup'].unique()"
   ]
  },
  {
   "cell_type": "code",
   "execution_count": null,
   "metadata": {},
   "outputs": [
    {
     "data": {
      "text/plain": [
       "(Someone who gratifies physical appetites (especially for food and drink) with more than the usual freedom,\n",
       " Nauruans are a nation and an ethnic group indigenous to the Pacific island country of Nauru.)"
      ]
     },
     "execution_count": 96,
     "metadata": {},
     "output_type": "execute_result"
    }
   ],
   "source": [
    "i = 51\n",
    "s1, s2 = df_sorted.loc[i]['id1'], df_sorted.loc[i]['id2']\n",
    "s1, s2 = BabelSynsetID(s1).to_synset(), BabelSynsetID(s2).to_synset()\n",
    "s1.main_gloss(), s2.main_gloss()"
   ]
  },
  {
   "cell_type": "code",
   "execution_count": null,
   "metadata": {},
   "outputs": [
    {
     "name": "stdout",
     "output_type": "stream",
     "text": [
      "free-liver\n",
      "free_agent\n",
      "person\n",
      "Nauruans\n"
     ]
    }
   ],
   "source": [
    "shortest_path_synsets_lemmas(driver, str(s1.id), str(s2.id))"
   ]
  },
  {
   "cell_type": "code",
   "execution_count": null,
   "metadata": {},
   "outputs": [
    {
     "name": "stdout",
     "output_type": "stream",
     "text": [
      "5864 nodes with ancestor bn:00035942n of 16367 nodes, 35.83%\n"
     ]
    }
   ],
   "source": [
    "# It looks like most of nodes are some sort of geological formation, is that true?\n",
    "number_of_nodes_with_ancestor_query = \"MATCH (n:Synset)-[:IS_A*]->(ancestor:Synset {synsetID: $ancestorID}) RETURN count(n)\"\n",
    "\n",
    "with GraphDatabase.driver(URI, auth=AUTH) as driver:\n",
    "    n = driver.execute_query(number_of_nodes_with_ancestor_query, \n",
    "                         {'ancestorID': 'bn:00035942n'},\n",
    "                         result_transformer_=neo4j.Result.data)[0]['count(n)']\n",
    "    tot_nodes = driver.execute_query(count_nodes_query,                          \n",
    "                         result_transformer_=neo4j.Result.data)[0]['count(s)']\n",
    "print(f'{n} nodes with ancestor bn:00035942n of {tot_nodes} nodes, {round(n*100/tot_nodes, 2)}%')"
   ]
  }
 ],
 "metadata": {
  "kernelspec": {
   "display_name": "graphproject",
   "language": "python",
   "name": "python3"
  },
  "language_info": {
   "codemirror_mode": {
    "name": "ipython",
    "version": 3
   },
   "file_extension": ".py",
   "mimetype": "text/x-python",
   "name": "python",
   "nbconvert_exporter": "python",
   "pygments_lexer": "ipython3",
   "version": "3.8.3"
  },
  "orig_nbformat": 4
 },
 "nbformat": 4,
 "nbformat_minor": 2
}
