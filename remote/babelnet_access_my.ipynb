{
 "cells": [
  {
   "cell_type": "code",
   "execution_count": 2,
   "metadata": {},
   "outputs": [
    {
     "name": "stderr",
     "output_type": "stream",
     "text": [
      "2023-08-31 14:29:38,599 [babelnet.conf] INFO: Loaded configuration from ['/home/giovanni/unimore/2_graph_analytics/tesina/babeldist/remote/babelnet_conf.yml']\n",
      "2023-08-31 14:29:38,605 [babelnet.api] INFO: BabelNet Remote Procedure Call API v1.1.0\n"
     ]
    }
   ],
   "source": [
    "import babelnet as bn\n",
    "from babelnet import BabelSynsetID, Language\n",
    "from babelnet.data.relation import BabelPointer"
   ]
  },
  {
   "cell_type": "code",
   "execution_count": 1,
   "metadata": {},
   "outputs": [
    {
     "ename": "NameError",
     "evalue": "name 'bn' is not defined",
     "output_type": "error",
     "traceback": [
      "\u001b[0;31m---------------------------------------------------------------------------\u001b[0m",
      "\u001b[0;31mNameError\u001b[0m                                 Traceback (most recent call last)",
      "Cell \u001b[0;32mIn[1], line 1\u001b[0m\n\u001b[0;32m----> 1\u001b[0m macchina_syns \u001b[39m=\u001b[39m bn\u001b[39m.\u001b[39mget_synsets(\u001b[39m'\u001b[39m\u001b[39mmacchina\u001b[39m\u001b[39m'\u001b[39m, from_langs\u001b[39m=\u001b[39m[Language\u001b[39m.\u001b[39mIT])\n",
      "\u001b[0;31mNameError\u001b[0m: name 'bn' is not defined"
     ]
    }
   ],
   "source": [
    "macchina_syns = bn.get_synsets('macchina', from_langs=[Language.IT])"
   ]
  },
  {
   "cell_type": "code",
   "execution_count": 12,
   "metadata": {},
   "outputs": [
    {
     "data": {
      "text/plain": [
       "[auto,\n",
       " automobile,\n",
       " autovettura,\n",
       " macchina,\n",
       " vettura,\n",
       " autoveicolo,\n",
       " automobilistici,\n",
       " autovetture,\n",
       " due_volumi,\n",
       " automobili]"
      ]
     },
     "execution_count": 12,
     "metadata": {},
     "output_type": "execute_result"
    }
   ],
   "source": [
    "macchina_syns[3].lemmas(Language.IT)"
   ]
  },
  {
   "cell_type": "code",
   "execution_count": 34,
   "metadata": {},
   "outputs": [
    {
     "name": "stderr",
     "output_type": "stream",
     "text": [
      "2023-08-31 13:10:48,404 [zerorpc.channel] WARNING: zerorpc.ChannelMultiplexer, unable to route event: <b''> OK {'message_id': b'4af60c73c4ea4022987c96d45de91046', 'v': 3, 'response_to': b'5fa3ec13ae694b5fad1a8a6620115bbb'} [...]\n"
     ]
    },
    {
     "name": "stdout",
     "output_type": "stream",
     "text": [
      "Possible root node: bn:00076248n\n"
     ]
    },
    {
     "name": "stderr",
     "output_type": "stream",
     "text": [
      "2023-08-31 13:12:05,477 [zerorpc.channel] WARNING: zerorpc.ChannelMultiplexer, unable to route event: <b''> OK {'message_id': b'4af60c83c4ea4022987c96d45de91046', 'v': 3, 'response_to': b'5fa3ec24ae694b5fad1a8a6620115bbb'} [...]\n"
     ]
    },
    {
     "name": "stdout",
     "output_type": "stream",
     "text": [
      "Possible root node: bn:00044576n\n"
     ]
    },
    {
     "name": "stderr",
     "output_type": "stream",
     "text": [
      "2023-08-31 13:15:12,218 [zerorpc.channel] WARNING: zerorpc.ChannelMultiplexer, unable to route event: <b''> OK {'message_id': b'4af60d8ec4ea4022987c96d45de91046', 'v': 3, 'response_to': b'5fa3ed30ae694b5fad1a8a6620115bbb'} [...]\n"
     ]
    },
    {
     "name": "stdout",
     "output_type": "stream",
     "text": [
      "Possible root node: bn:14481752n\n",
      "Possible root node: bn:00248578n\n",
      "Possible root node: bn:21705963n\n",
      "Possible root node: bn:04751152n\n",
      "Possible root node: bn:16932101n\n",
      "Possible root node: bn:00031027n\n",
      "Possible root node: bn:04889559n\n",
      "Possible root node: bn:14685380n\n",
      "Possible root node: bn:03245758n\n"
     ]
    }
   ],
   "source": [
    "# basic BFS \n",
    "\n",
    "visited = set()\n",
    "\n",
    "max_visits, n = 500, 0\n",
    "root = bn.get_synset(BabelSynsetID('bn:00015267n'))\n",
    "q = [root]\n",
    "\n",
    "with open('no_hypernyms.txt', 'w') as nohypfile:\n",
    "    while q and n <= max_visits:\n",
    "        synset = q.pop(0)\n",
    "        n += 1\n",
    "        hypernym_edges = synset.outgoing_edges(BabelPointer.ANY_HYPERNYM)\n",
    "        if hypernym_edges == []:\n",
    "            print(f'Possible root node: {synset.id}')\n",
    "            nohypfile.write(str(synset.id) + '\\n')\n",
    "        for edge in hypernym_edges:\n",
    "            if edge.id_target not in visited:\n",
    "                q.append(bn.get_synset(edge.id_target))\n",
    "                visited.add(edge.id_target)"
   ]
  },
  {
   "cell_type": "code",
   "execution_count": 3,
   "metadata": {},
   "outputs": [
    {
     "name": "stdout",
     "output_type": "stream",
     "text": [
      "bn:00076248n - taxonomic_group: Animal or plant group having natural relations\n",
      "bn:00044576n - homo: Any living or extinct member of the family Hominidae characterized by superior intelligence, articulate speech, and erect carriage\n",
      "bn:14481752n - field_of_study: A field of study leading to a specific degree\n",
      "bn:00248578n - Trade_literature: Trade literature is a general term including advertising, customer technical communications, and catalogues.\n",
      "bn:21705963n - Religious_calling: A calling, in the religious sense of the word, is a religious vocation that may be professional or voluntary and, idiosyncratic to different religions, may come from another person, from a divine messenger, or from within oneself.\n",
      "bn:04751152n - production_center: Un centre de production est un lieu où s’effectue la production de biens et de services.\n",
      "bn:16932101n - routine: Term used in computer science\n",
      "bn:00031027n - entity: That which is perceived or known or inferred to have its own distinct existence (living or nonliving)\n",
      "bn:04889559n - flow_of_matter_and_energy: Flow of matter\n",
      "bn:14685380n - resource: In computing, a system resource, or simply resource, is any physical or virtual component of limited availability within a computer system.\n",
      "bn:03245758n - engineering_process: In engineering, a process is a series of interrelated tasks that, together, transform inputs into a given output.\n"
     ]
    }
   ],
   "source": [
    "for id in open('no_hypernyms.txt', 'r').readlines():\n",
    "    synset = bn.get_synset(BabelSynsetID(id))\n",
    "    print(f'{synset.id} - {synset.main_sense().full_lemma}: {synset.main_gloss()}')"
   ]
  },
  {
   "cell_type": "code",
   "execution_count": 44,
   "metadata": {},
   "outputs": [],
   "source": [
    "homo_synset = bn.get_synset(BabelSynsetID('bn:00044576n'))"
   ]
  },
  {
   "cell_type": "code",
   "execution_count": 47,
   "metadata": {},
   "outputs": [
    {
     "data": {
      "text/plain": [
       "[]"
      ]
     },
     "execution_count": 47,
     "metadata": {},
     "output_type": "execute_result"
    }
   ],
   "source": [
    "homo_synset.outgoing_edges(BabelPointer)"
   ]
  },
  {
   "cell_type": "code",
   "execution_count": 52,
   "metadata": {},
   "outputs": [
    {
     "data": {
      "text/plain": [
       "[BNCAT:EN:Early_species_of_Homo,\n",
       " BNCAT:EN:Mammals_described_in_1758,\n",
       " BNCAT:EN:Articles_with_'species'_microformats,\n",
       " BNCAT:EN:Horror_films,\n",
       " BNCAT:EN:Anthropology,\n",
       " BNCAT:EN:All_articles_that_may_contain_original_research,\n",
       " BNCAT:EN:Thrillers,\n",
       " BNCAT:EN:All_articles_containing_potentially_dated_statements,\n",
       " BNCAT:EN:Invasive_mammal_species,\n",
       " BNCAT:EN:Articles_with_short_description,\n",
       " BNCAT:EN:Pages_with_reference_errors,\n",
       " BNCAT:EN:Primate_genera,\n",
       " BNCAT:EN:Taxa_named_by_Carl_Linnaeus,\n",
       " BNCAT:EN:Hominina,\n",
       " BNCAT:EN:Articles_with_permanently_dead_external_links,\n",
       " BNCAT:EN:Extant_Gelasian_first_appearances,\n",
       " BNCAT:EN:_long_volume_value,\n",
       " BNCAT:EN:All_articles_needing_additional_references,\n",
       " BNCAT:EN:Articles_with_multiple_maintenance_issues,\n",
       " BNCAT:EN:Humans,\n",
       " BNCAT:EN:IUCN_Red_List_least_concern_species,\n",
       " BNCAT:EN:All_articles_lacking_reliable_references,\n",
       " BNCAT:EN:Apes,\n",
       " BNCAT:EN:Extant_Piacenzian_first_appearances,\n",
       " BNCAT:EN:Animals_described_in_1758,\n",
       " BNCAT:EN:Tool-using_mammals,\n",
       " BNCAT:EN:Human_evolution,\n",
       " BNCAT:EN:Film_genres,\n",
       " BNCAT:EN:Taxonbars_desynced_from_Wikidata,\n",
       " BNCAT:EN:Horror_fiction,\n",
       " BNCAT:EN:Megafauna]"
      ]
     },
     "execution_count": 52,
     "metadata": {},
     "output_type": "execute_result"
    }
   ],
   "source": [
    "homo_synset.categories(Language.EN)"
   ]
  },
  {
   "cell_type": "code",
   "execution_count": null,
   "metadata": {},
   "outputs": [],
   "source": [
    "homo_synset"
   ]
  }
 ],
 "metadata": {
  "kernelspec": {
   "display_name": "graphproject",
   "language": "python",
   "name": "python3"
  },
  "language_info": {
   "codemirror_mode": {
    "name": "ipython",
    "version": 3
   },
   "file_extension": ".py",
   "mimetype": "text/x-python",
   "name": "python",
   "nbconvert_exporter": "python",
   "pygments_lexer": "ipython3",
   "version": "3.8.3"
  },
  "orig_nbformat": 4
 },
 "nbformat": 4,
 "nbformat_minor": 2
}
