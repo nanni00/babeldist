{
 "cells": [
  {
   "cell_type": "code",
   "execution_count": null,
   "metadata": {},
   "outputs": [],
   "source": [
    "import babelnet as bn\n",
    "from babelnet import BabelSynsetID, Language\n",
    "from babelnet.data.relation import BabelPointer"
   ]
  },
  {
   "cell_type": "code",
   "execution_count": null,
   "metadata": {},
   "outputs": [],
   "source": [
    "from  zerorpc import TimeoutExpired, LostRemote"
   ]
  },
  {
   "cell_type": "code",
   "execution_count": null,
   "metadata": {},
   "outputs": [],
   "source": [
    "bn.version()"
   ]
  },
  {
   "cell_type": "code",
   "execution_count": null,
   "metadata": {},
   "outputs": [],
   "source": [
    "### Root searcher\n",
    "visited = set()\n",
    "\n",
    "max_visits, n = 20000, 0\n",
    "start_synset_id = 'bn:00015267n'\n",
    "start_synset = bn.get_synset(BabelSynsetID(start_synset_id))\n",
    "q = [start_synset]\n",
    "\n",
    "with open(f'candidate_roots_{max_visits}_{start_synset_id}.txt', 'w') as nohypfile:\n",
    "    while q and n <= max_visits:\n",
    "        synset = q.pop(0)\n",
    "        n += 1\n",
    "        hypernym_edges = synset.outgoing_edges(BabelPointer.ANY_HYPERNYM)\n",
    "        if hypernym_edges == []:\n",
    "            print(f'Possible root node: {synset.id}')\n",
    "            nohypfile.write(f'{str(synset.id)},{synset.main_sense().full_lemma}\\n')\n",
    "        for edge in hypernym_edges:\n",
    "            if edge.id_target not in visited:\n",
    "                q.append(bn.get_synset(edge.id_target))\n",
    "                visited.add(edge.id_target)"
   ]
  },
  {
   "cell_type": "code",
   "execution_count": null,
   "metadata": {},
   "outputs": [],
   "source": [
    "for id_lemma in open('../log/candidate_roots.txt', 'r').readlines()[2:]:\n",
    "    id, lemma = id_lemma.strip().split(',')\n",
    "    synset = bn.get_synset(BabelSynsetID(id))\n",
    "    print(f'{id},{lemma},{len(synset.outgoing_edges())},{len(synset.outgoing_edges(BabelPointer.ANY_HYPERNYM))}')"
   ]
  },
  {
   "cell_type": "code",
   "execution_count": null,
   "metadata": {},
   "outputs": [],
   "source": []
  }
 ],
 "metadata": {
  "language_info": {
   "name": "python"
  },
  "orig_nbformat": 4
 },
 "nbformat": 4,
 "nbformat_minor": 2
}
