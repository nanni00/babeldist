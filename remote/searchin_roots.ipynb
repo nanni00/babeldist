{
 "cells": [
  {
   "cell_type": "code",
   "execution_count": 6,
   "metadata": {},
   "outputs": [
    {
     "name": "stderr",
     "output_type": "stream",
     "text": [
      "2023-09-02 09:43:25,215 [babelnet.conf] INFO: Loaded configuration from ['/home/giovanni/unimore/2_graph_analytics/tesina/babeldist/remote/babelnet_conf.yml']\n",
      "2023-09-02 09:43:25,219 [babelnet.api] INFO: BabelNet Remote Procedure Call API v1.1.0\n"
     ]
    }
   ],
   "source": [
    "import babelnet as bn\n",
    "from babelnet import BabelSynsetID, Language\n",
    "from babelnet.data.relation import BabelPointer"
   ]
  },
  {
   "cell_type": "code",
   "execution_count": 7,
   "metadata": {},
   "outputs": [
    {
     "data": {
      "text/plain": [
       "5.0"
      ]
     },
     "execution_count": 7,
     "metadata": {},
     "output_type": "execute_result"
    }
   ],
   "source": [
    "bn.version()"
   ]
  },
  {
   "cell_type": "code",
   "execution_count": 4,
   "metadata": {},
   "outputs": [],
   "source": [
    "import sys\n",
    "import time\n",
    "sys.path.append('../')\n",
    "from utils.utils import get_current_logfile_number \n",
    "from zerorpc import TimeoutExpired, LostRemote"
   ]
  },
  {
   "cell_type": "code",
   "execution_count": 13,
   "metadata": {},
   "outputs": [
    {
     "name": "stdout",
     "output_type": "stream",
     "text": [
      "Possible root node: bn:00076248n\n"
     ]
    },
    {
     "name": "stderr",
     "output_type": "stream",
     "text": [
      "2023-09-02 10:04:24,929 [zerorpc.channel] WARNING: zerorpc.ChannelMultiplexer, unable to route event: <b''> OK {'message_id': b'4af7d398c4ea4022987c96d45de91046', 'v': 3, 'response_to': b'25e9bcd726754fe8ab2ccdb7aac215d0'} [...]\n"
     ]
    },
    {
     "name": "stdout",
     "output_type": "stream",
     "text": [
      "Possible root node: bn:00044576n\n"
     ]
    },
    {
     "name": "stderr",
     "output_type": "stream",
     "text": [
      "2023-09-02 10:07:46,281 [zerorpc.channel] WARNING: zerorpc.ChannelMultiplexer, unable to route event: <b''> OK {'message_id': b'4af7d4a3c4ea4022987c96d45de91046', 'v': 3, 'response_to': b'25e9bde326754fe8ab2ccdb7aac215d0'} [...]\n"
     ]
    },
    {
     "name": "stdout",
     "output_type": "stream",
     "text": [
      "Possible root node: bn:14481752n\n",
      "Possible root node: bn:00248578n\n",
      "Possible root node: bn:21705963n\n",
      "Possible root node: bn:04751152n\n",
      "Possible root node: bn:16932101n\n",
      "Possible root node: bn:00031027n\n",
      "Possible root node: bn:04889559n\n",
      "Possible root node: bn:14685380n\n",
      "Possible root node: bn:03245758n\n",
      "Possible root node: bn:01027542n\n",
      "Possible root node: bn:02636022n\n",
      "Possible root node: bn:00894769n\n",
      "Possible root node: bn:15921369n\n",
      "Possible root node: bn:04591277n\n",
      "Possible root node: bn:06171637n\n",
      "Possible root node: bn:03758703n\n",
      "Possible root node: bn:01404775n\n",
      "Possible root node: bn:06162070n\n",
      "Possible root node: bn:00234465n\n",
      "Possible root node: bn:15090031n\n",
      "Possible root node: bn:07669899n\n",
      "Possible root node: bn:00218497n\n",
      "Possible root node: bn:02936056n\n",
      "Possible root node: bn:02638689n\n",
      "Possible root node: bn:06429342n\n",
      "Possible root node: bn:07129841n\n",
      "Possible root node: bn:03843033n\n",
      "Possible root node: bn:17690782n\n",
      "Possible root node: bn:05749505n\n",
      "Possible root node: bn:06760533n\n",
      "Possible root node: bn:08840460n\n",
      "Possible root node: bn:03294734n\n",
      "Possible root node: bn:14792426n\n",
      "Possible root node: bn:02476581n\n",
      "Possible root node: bn:05448740n\n",
      "Possible root node: bn:04102751n\n",
      "Possible root node: bn:16751423n\n",
      "Possible root node: bn:03793132n\n",
      "Possible root node: bn:08479384n\n",
      "Possible root node: bn:27268796n\n",
      "Possible root node: bn:16547583n\n",
      "Possible root node: bn:14505599n\n",
      "Possible root node: bn:02787617n\n",
      "Possible root node: bn:07056757n\n",
      "Possible root node: bn:14577629n\n",
      "Possible root node: bn:15113939n\n",
      "Possible root node: bn:04900484n\n"
     ]
    }
   ],
   "source": [
    "### Root searcher\n",
    "visited = set()\n",
    "\n",
    "max_visits, n = 20000, 0\n",
    "start_synset_id = 'bn:00015267n'\n",
    "start_synset = bn.get_synset(BabelSynsetID(start_synset_id))\n",
    "q = [start_synset]\n",
    "fname = get_current_logfile_number('candidate_roots')\n",
    "\n",
    "with open(fname, 'w') as logfile:\n",
    "    logfile.write(f'start_node={start_synset_id}\\n')\n",
    "    logfile.write(f'max_visits={max_visits}\\n')\n",
    "\n",
    "    start_t = time.time()\n",
    "    while q and n <= max_visits:\n",
    "        synset = q.pop(0)\n",
    "        n += 1\n",
    "        try:\n",
    "            hypernym_edges = []\n",
    "            hypernym_edges = synset.outgoing_edges(BabelPointer.ANY_HYPERNYM)\n",
    "        except TimeoutExpired:\n",
    "            logfile.write(f'TimeoutExpired,{synset.id}\\n')\n",
    "        except LostRemote:\n",
    "            logfile.write(f'LostRemote,{synset.id}\\n')\n",
    "\n",
    "        if hypernym_edges == []:\n",
    "            print(f'Possible root node: {synset.id}')\n",
    "            logfile.write(f'candidate_root,{str(synset.id)},{synset.main_sense().full_lemma}\\n')\n",
    "        for edge in hypernym_edges:\n",
    "            if edge.id_target not in visited:\n",
    "                try:\n",
    "                    q.append(bn.get_synset(edge.id_target))\n",
    "                    visited.add(edge.id_target)\n",
    "                except TimeoutExpired:\n",
    "                    logfile.write(f'TimeoutExpired,{synset.id}\\n')\n",
    "                except LostRemote:\n",
    "                    logfile.write(f'LostRemote,{synset.id}\\n')\n",
    "    end_t = time.time()\n",
    "    min, sec = divmod(end_t - start_t, 60)\n",
    "    logfile.write(f'total_time,{int(min)}m,{int(sec)}s')"
   ]
  },
  {
   "cell_type": "code",
   "execution_count": 15,
   "metadata": {},
   "outputs": [
    {
     "name": "stdout",
     "output_type": "stream",
     "text": [
      "bn:00076248n,taxonomic_group,0,0\n"
     ]
    },
    {
     "name": "stderr",
     "output_type": "stream",
     "text": [
      "2023-09-02 10:27:20,746 [zerorpc.channel] WARNING: zerorpc.ChannelMultiplexer, unable to route event: <b''> OK {'message_id': b'4af7e82ec4ea4022987c96d45de91046', 'v': 3, 'response_to': b'25e9d17026754fe8ab2ccdb7aac215d0'} [...]\n"
     ]
    },
    {
     "name": "stdout",
     "output_type": "stream",
     "text": [
      "bn:00044576n,homo,0,0\n"
     ]
    },
    {
     "name": "stderr",
     "output_type": "stream",
     "text": [
      "2023-09-02 10:29:27,011 [zerorpc.channel] WARNING: zerorpc.ChannelMultiplexer, unable to route event: <b''> OK {'message_id': b'4af7e830c4ea4022987c96d45de91046', 'v': 3, 'response_to': b'25e9d17326754fe8ab2ccdb7aac215d0'} [...]\n"
     ]
    },
    {
     "name": "stdout",
     "output_type": "stream",
     "text": [
      "bn:14481752n,field_of_study,77,0\n",
      "bn:00248578n,Trade_literature,22,0\n",
      "bn:21705963n,Religious_calling,46,0\n",
      "bn:04751152n,production_center,7,0\n",
      "bn:16932101n,routine,140,0\n",
      "bn:00031027n,entity,18,0\n",
      "bn:04889559n,flow_of_matter_and_energy,22,0\n",
      "bn:14685380n,resource,200,0\n",
      "bn:03245758n,engineering_process,512,0\n",
      "bn:01027542n,source_of_information,164,0\n",
      "bn:02636022n,Thermodynamic_process,427,0\n",
      "bn:00894769n,task_(computing),40,0\n",
      "bn:15921369n,adaptation,14,0\n",
      "bn:04591277n,Work_(human_activity),224,0\n",
      "bn:06171637n,signaling_system,66,0\n",
      "bn:03758703n,Mutual_intelligibility,571,0\n",
      "bn:01404775n,Subatomic_particle,843,0\n",
      "bn:06162070n,format,24,0\n",
      "bn:00234465n,Unordered_pair,58,0\n",
      "bn:15090031n,posture,424,0\n",
      "bn:07669899n,suprasegmental,75,0\n",
      "bn:00218497n,Identity_formation,77,0\n",
      "bn:02936056n,Cellular_component,365,0\n",
      "bn:02638689n,Course_(medicine),169,0\n",
      "bn:06429342n,Dokument_normatywny,5,0\n",
      "bn:07129841n,classification_of_languages,261,0\n",
      "bn:03843033n,Challenge_(TV_channel),513,0\n",
      "bn:17690782n,Constant-recursive_sequence,112,0\n",
      "bn:05749505n,psychological_phenomenon,16,0\n",
      "bn:06760533n,administrative_type,27,0\n",
      "bn:08840460n,Ufficio_(diritto),51,0\n",
      "bn:03294734n,Social_influence,728,0\n",
      "bn:14792426n,Transformació_de_la_matèria,40,0\n",
      "bn:02476581n,Standard_of_deferred_payment,32,0\n",
      "bn:05448740n,Species_(metaphysics),27,0\n",
      "bn:04102751n,Funktsioon_(filosoofia),65,0\n",
      "bn:16751423n,Atto_processuale,23,0\n",
      "bn:03793132n,Balance_transfer,12,0\n",
      "bn:08479384n,triad,282,0\n",
      "bn:27268796n,spirit,2081,0\n",
      "bn:16547583n,Origination_(telephony),18,0\n",
      "bn:14505599n,income,756,0\n",
      "bn:02787617n,Niche_real_estate,96,0\n",
      "bn:07056757n,phase_of_human_life,23,0\n",
      "bn:14577629n,Acknowledgment_(creative_arts_and_sciences),132,0\n",
      "bn:15113939n,legal_responsibility,6,0\n",
      "bn:04900484n,تدقيق_خارجي,109,0\n"
     ]
    }
   ],
   "source": [
    "for id_lemma in open('../log/candidate_roots.txt', 'r').readlines()[2:-1]:\n",
    "    id, lemma = id_lemma.strip().split(',')[1:]\n",
    "    synset = bn.get_synset(BabelSynsetID(id))\n",
    "    print(f'{id},{lemma},{len(synset.outgoing_edges())},{len(synset.outgoing_edges(BabelPointer.ANY_HYPERNYM))}')"
   ]
  },
  {
   "cell_type": "code",
   "execution_count": null,
   "metadata": {},
   "outputs": [],
   "source": []
  }
 ],
 "metadata": {
  "kernelspec": {
   "display_name": "graphproject",
   "language": "python",
   "name": "python3"
  },
  "language_info": {
   "codemirror_mode": {
    "name": "ipython",
    "version": 3
   },
   "file_extension": ".py",
   "mimetype": "text/x-python",
   "name": "python",
   "nbconvert_exporter": "python",
   "pygments_lexer": "ipython3",
   "version": "3.8.3"
  },
  "orig_nbformat": 4
 },
 "nbformat": 4,
 "nbformat_minor": 2
}
