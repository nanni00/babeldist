{
 "cells": [
  {
   "cell_type": "code",
   "execution_count": 101,
   "metadata": {},
   "outputs": [],
   "source": [
    "import os\n",
    "import sys\n",
    "sys.path.append(os.path.pardir)\n",
    "from utils import utils\n",
    "import time\n",
    "import random\n",
    "import neo4j\n",
    "from neo4j import GraphDatabase\n",
    "import babelnet as bn\n",
    "from babelnet import BabelSynsetID, Language\n",
    "from babelnet.data.relation import BabelPointer\n",
    "from zerorpc import TimeoutExpired, LostRemote"
   ]
  },
  {
   "cell_type": "code",
   "execution_count": 18,
   "metadata": {},
   "outputs": [],
   "source": [
    "URI = \"bolt://localhost:7687\"\n",
    "AUTH = (\"giovanni\", \"BabeldistGraph\")"
   ]
  },
  {
   "cell_type": "code",
   "execution_count": 19,
   "metadata": {},
   "outputs": [],
   "source": [
    "def run_no_exception(session: neo4j.Session, query: str):\n",
    "    try:\n",
    "        session.run(query)\n",
    "    except Exception as e:\n",
    "        pass"
   ]
  },
  {
   "cell_type": "code",
   "execution_count": 127,
   "metadata": {},
   "outputs": [],
   "source": [
    "merge_graph_query = \"\"\"\n",
    "MERGE (s:Synset {synsetID: $synsetID_1})\n",
    "MERGE (hyponym:Synset {synsetID: $synsetID_2})\n",
    "WITH s, hyponym\n",
    "WHERE s.synsetID <> hyponym.synsetID\n",
    "MERGE (s)<-[:IS_A]-(hyponym) \"\"\"\n",
    "\n",
    "count_nodes_query = \"\"\"\n",
    "MATCH (s:Synset)\n",
    "RETURN count(s) \"\"\"\n",
    "\n",
    "count_edges_query = \"\"\"\n",
    "MATCH ()-[r:IS_A]->()\n",
    "RETURN count(r) \"\"\""
   ]
  },
  {
   "cell_type": "code",
   "execution_count": 93,
   "metadata": {},
   "outputs": [
    {
     "name": "stdout",
     "output_type": "stream",
     "text": [
      "0 \r"
     ]
    },
    {
     "name": "stdout",
     "output_type": "stream",
     "text": [
      "Added 5092 nodes, added 5251 edges.\n"
     ]
    }
   ],
   "source": [
    "# EXPORTING BABELNET TO NEO4J - ONLY SYNSET IDs, NO LEMMA OR OTHER PROPERTIES\n",
    "\n",
    "fname = utils.get_current_logfile_number('exporting_neo4j', extension='.log')\n",
    "\n",
    "visited = set()\n",
    "max_visits, n = 500, 0\n",
    "start_synset_id = 'bn:00062164n'\n",
    "q = [BabelSynsetID(start_synset_id)]\n",
    "\n",
    "# creating driver isn't lightweight, but for this case is ok...\n",
    "with GraphDatabase.driver(URI, auth=AUTH) as driver:\n",
    "    with driver.session() as session:\n",
    "        run_no_exception(session, 'CREATE CONSTRAINT FOR (s:Synset) REQUIRE s.synsetID IS UNIQUE')\n",
    "        tx = session.begin_transaction()\n",
    "        \n",
    "        start_n, start_r = tx.run(count_nodes_query).values()[0][0], tx.run(count_edges_query).values()[0][0]\n",
    "        \n",
    "        with open(fname, 'w') as logfname:\n",
    "            start_t = time.time()\n",
    "            while q and n < max_visits:\n",
    "                pb = utils.get_progress_bar(int((n / max_visits) * 100))\n",
    "                print(pb, end='\\r')\n",
    "                n += 1\n",
    "\n",
    "                try:\n",
    "                    synset = q.pop(0).to_synset()\n",
    "                    hyponym_edges = synset.outgoing_edges(BabelPointer.ANY_HYPONYM)        \n",
    "                except (TimeoutExpired, LostRemote) as e:\n",
    "                    e.with_traceback()\n",
    "                    hyponym_edges = []\n",
    "\n",
    "                for edge in hyponym_edges:\n",
    "                    try:\n",
    "                        result = tx.run(merge_graph_query, {\n",
    "                            'synsetID_1': str(synset.id), \n",
    "                            'synsetID_2': str(edge.id_target) })\n",
    "                    except Exception as e:\n",
    "                        e.with_traceback()\n",
    "\n",
    "                    if edge.id_target not in visited and edge.id_target not in q:                        \n",
    "                        q.append(edge.id_target)\n",
    "                        visited.add(edge.id_target)\n",
    "\n",
    "                if n % 1000 == 0:\n",
    "                    tx.commit()\n",
    "                    tx = session.begin_transaction()\n",
    "\n",
    "            end_n, end_r = tx.run(count_nodes_query).values()[0][0], tx.run(count_edges_query).values()[0][0]\n",
    "            tx.commit()\n",
    "            print(f'Added {end_n - start_n} nodes, added {end_r - start_r} edges.')\n",
    "            \n",
    "            logfname.write(f'start_node={start_synset_id}\\n')\n",
    "            logfname.write(f'max_visits={max_visits}\\n')\n",
    "            if q == []: logfname.write('Queue empy\\n')\n",
    "            if n == max_visits: logfname.write('Reached max visits\\n')\n",
    "            logfname.write(f'Added {end_n - start_n} nodes, added {end_r - start_r} edges.')\n",
    "            end_t = time.time()\n",
    "            min, sec = divmod(end_t - start_t, 60)\n",
    "            logfname.write(f'total_time,{int(min)}m,{int(sec)}s') "
   ]
  }
 ],
 "metadata": {
  "kernelspec": {
   "display_name": "graphproject",
   "language": "python",
   "name": "python3"
  },
  "language_info": {
   "codemirror_mode": {
    "name": "ipython",
    "version": 3
   },
   "file_extension": ".py",
   "mimetype": "text/x-python",
   "name": "python",
   "nbconvert_exporter": "python",
   "pygments_lexer": "ipython3",
   "version": "3.8.3"
  },
  "orig_nbformat": 4
 },
 "nbformat": 4,
 "nbformat_minor": 2
}
