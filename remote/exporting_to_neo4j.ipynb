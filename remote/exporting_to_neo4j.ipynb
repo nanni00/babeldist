{
 "cells": [
  {
   "cell_type": "code",
   "execution_count": 101,
   "metadata": {},
   "outputs": [],
   "source": [
    "import os\n",
    "import sys\n",
    "sys.path.append(os.path.pardir)\n",
    "from utils import utils\n",
    "import time\n",
    "import random\n",
    "import neo4j\n",
    "from neo4j import GraphDatabase\n",
    "import babelnet as bn\n",
    "from babelnet import BabelSynsetID, Language\n",
    "from babelnet.data.relation import BabelPointer\n",
    "from zerorpc import TimeoutExpired, LostRemote"
   ]
  },
  {
   "cell_type": "code",
   "execution_count": 18,
   "metadata": {},
   "outputs": [],
   "source": [
    "URI = \"bolt://localhost:7687\"\n",
    "AUTH = (\"giovanni\", \"BabeldistGraph\")"
   ]
  },
  {
   "cell_type": "code",
   "execution_count": 19,
   "metadata": {},
   "outputs": [],
   "source": [
    "def run_no_exception(session: neo4j.Session, query: str):\n",
    "    try:\n",
    "        session.run(query)\n",
    "    except Exception as e:\n",
    "        pass"
   ]
  },
  {
   "cell_type": "code",
   "execution_count": 127,
   "metadata": {},
   "outputs": [],
   "source": [
    "merge_graph_query = \"\"\"\n",
    "MERGE (s:Synset {synsetID: $synsetID_1})\n",
    "MERGE (hyponym:Synset {synsetID: $synsetID_2})\n",
    "WITH s, hyponym\n",
    "WHERE s.synsetID <> hyponym.synsetID\n",
    "MERGE (s)<-[:IS_A]-(hyponym) \"\"\"\n",
    "\n",
    "count_nodes_query = \"\"\"\n",
    "MATCH (s:Synset)\n",
    "RETURN count(s) \"\"\"\n",
    "\n",
    "count_edges_query = \"\"\"\n",
    "MATCH ()-[r:IS_A]->()\n",
    "RETURN count(r) \"\"\"\n",
    "\n",
    "shortestPath_query = \"\"\"\n",
    "MATCH (s1:Synset {synsetID: $synsetID_1})\n",
    "MATCH (s2:Synset {synsetID: $synsetID_2})\n",
    "MATCH p = shortestPath((s1)-[:IS_A*..10]-(s2))\n",
    "RETURN p \"\"\"\n",
    "\n",
    "first_common_node_query = \"\"\"\n",
    "MATCH (s1:Synset {synsetID: $synsetID_1})\n",
    "MATCH (s2:Synset {synsetID: $synsetID_2})\n",
    "MATCH p = (s1)-[:IS_A*..5]->(common_node:Synset)<-[:IS_A*..5]-(s2) \n",
    "RETURN p, common_node \"\"\""
   ]
  },
  {
   "cell_type": "code",
   "execution_count": 93,
   "metadata": {},
   "outputs": [
    {
     "name": "stdout",
     "output_type": "stream",
     "text": [
      "0 \r"
     ]
    },
    {
     "name": "stdout",
     "output_type": "stream",
     "text": [
      "Added 5092 nodes, added 5251 edges.\n"
     ]
    }
   ],
   "source": [
    "# EXPORTING BABELNET TO NEO4J - ONLY SYNSET IDs, NO LEMMA OR OTHER PROPERTIES\n",
    "\n",
    "fname = utils.get_current_logfile_number('exporting_neo4j', extension='.log')\n",
    "\n",
    "visited = set()\n",
    "max_visits, n = 500, 0\n",
    "start_synset_id = 'bn:00062164n'\n",
    "q = [BabelSynsetID(start_synset_id)]\n",
    "\n",
    "# creating driver isn't lightweight, but for this case is ok...\n",
    "with GraphDatabase.driver(URI, auth=AUTH) as driver:\n",
    "    with driver.session() as session:\n",
    "        run_no_exception(session, 'CREATE CONSTRAINT FOR (s:Synset) REQUIRE s.synsetID IS UNIQUE')\n",
    "        tx = session.begin_transaction()\n",
    "        \n",
    "        start_n, start_r = tx.run(count_nodes_query).values()[0][0], tx.run(count_edges_query).values()[0][0]\n",
    "        \n",
    "        with open(fname, 'w') as logfname:\n",
    "            start_t = time.time()\n",
    "            while q and n < max_visits:\n",
    "                pb = utils.get_progress_bar(int((n / max_visits) * 100))\n",
    "                print(pb, end='\\r')\n",
    "                n += 1\n",
    "\n",
    "                try:\n",
    "                    synset = q.pop(0).to_synset()\n",
    "                    hyponym_edges = synset.outgoing_edges(BabelPointer.ANY_HYPONYM)        \n",
    "                except (TimeoutExpired, LostRemote) as e:\n",
    "                    e.with_traceback()\n",
    "                    hyponym_edges = []\n",
    "\n",
    "                for edge in hyponym_edges:\n",
    "                    try:\n",
    "                        result = tx.run(merge_graph_query, {\n",
    "                            'synsetID_1': str(synset.id), \n",
    "                            'synsetID_2': str(edge.id_target) })\n",
    "                    except Exception as e:\n",
    "                        e.with_traceback()\n",
    "\n",
    "                    if edge.id_target not in visited and edge.id_target not in q:                        \n",
    "                        q.append(edge.id_target)\n",
    "                        visited.add(edge.id_target)\n",
    "\n",
    "                if n % 1000 == 0:\n",
    "                    tx.commit()\n",
    "                    tx = session.begin_transaction()\n",
    "\n",
    "            end_n, end_r = tx.run(count_nodes_query).values()[0][0], tx.run(count_edges_query).values()[0][0]\n",
    "            tx.commit()\n",
    "            print(f'Added {end_n - start_n} nodes, added {end_r - start_r} edges.')\n",
    "            \n",
    "            logfname.write(f'start_node={start_synset_id}\\n')\n",
    "            logfname.write(f'max_visits={max_visits}\\n')\n",
    "            if q == []: logfname.write('Queue empy\\n')\n",
    "            if n == max_visits: logfname.write('Reached max visits\\n')\n",
    "            logfname.write(f'Added {end_n - start_n} nodes, added {end_r - start_r} edges.')\n",
    "            end_t = time.time()\n",
    "            min, sec = divmod(end_t - start_t, 60)\n",
    "            logfname.write(f'total_time,{int(min)}m,{int(sec)}s') "
   ]
  },
  {
   "cell_type": "code",
   "execution_count": 96,
   "metadata": {},
   "outputs": [
    {
     "data": {
      "text/plain": [
       "16083"
      ]
     },
     "execution_count": 96,
     "metadata": {},
     "output_type": "execute_result"
    }
   ],
   "source": [
    "len(visited)"
   ]
  },
  {
   "cell_type": "code",
   "execution_count": 111,
   "metadata": {},
   "outputs": [],
   "source": [
    "visited = list(visited)"
   ]
  },
  {
   "cell_type": "code",
   "execution_count": null,
   "metadata": {},
   "outputs": [],
   "source": [
    "id1 = random.choice(visited)\n",
    "id2 = random.choice(visited)"
   ]
  },
  {
   "cell_type": "code",
   "execution_count": 125,
   "metadata": {},
   "outputs": [
    {
     "data": {
      "text/plain": [
       "(234820238__WIKI:EN:San_Vittore,_Calcio,\n",
       " 'bn:17745081n',\n",
       " 77765359__WIKI:EN:Metsä_Board,\n",
       " 'bn:03835703n')"
      ]
     },
     "execution_count": 125,
     "metadata": {},
     "output_type": "execute_result"
    }
   ],
   "source": [
    "id1.to_synset(), id1.id, id2.to_synset(), id2.id"
   ]
  },
  {
   "cell_type": "code",
   "execution_count": 126,
   "metadata": {},
   "outputs": [
    {
     "data": {
      "text/plain": [
       "(San Vittore is a neoclassical-style Roman Catholic parish church in the town of Calcio, province of Bergamo, region of Lombardy, Italy.,\n",
       " Metsä Board Oyj, previously known as M-real Corporation, is a leading European producer of premium fresh fibre paperboards including folding boxboards, food service boards and white kraftliners.)"
      ]
     },
     "execution_count": 126,
     "metadata": {},
     "output_type": "execute_result"
    }
   ],
   "source": [
    "s1, s2 = id1.to_synset(), id2.to_synset()\n",
    "s1.main_gloss(), s2.main_gloss()"
   ]
  },
  {
   "cell_type": "code",
   "execution_count": 122,
   "metadata": {},
   "outputs": [
    {
     "data": {
      "text/plain": [
       "[{'p': [{'synsetID': 'bn:17745081n'},\n",
       "   'IS_A',\n",
       "   {'synsetID': 'bn:00051760n'},\n",
       "   'IS_A',\n",
       "   {'synsetID': 'bn:00058442n'},\n",
       "   'IS_A',\n",
       "   {'synsetID': 'bn:00062164n'},\n",
       "   'IS_A',\n",
       "   {'synsetID': 'bn:00053867n'},\n",
       "   'IS_A',\n",
       "   {'synsetID': 'bn:00060464n'},\n",
       "   'IS_A',\n",
       "   {'synsetID': 'bn:03835703n'}]}]"
      ]
     },
     "execution_count": 122,
     "metadata": {},
     "output_type": "execute_result"
    }
   ],
   "source": [
    "# SHORTEST PATH\n",
    "with GraphDatabase.driver(URI, auth=AUTH) as driver:\n",
    "    #records, summary, keys \n",
    "    result = driver.execute_query(\n",
    "        shortestPath_query, \n",
    "        {'synsetID_1': id1.id,\n",
    "         'synsetID_2': id2.id},\n",
    "        database_='neo4j',\n",
    "        result_transformer_=neo4j.Result.data)\n",
    "result"
   ]
  },
  {
   "cell_type": "code",
   "execution_count": 123,
   "metadata": {},
   "outputs": [],
   "source": [
    "result = result[0]['p']"
   ]
  },
  {
   "cell_type": "code",
   "execution_count": 124,
   "metadata": {},
   "outputs": [
    {
     "name": "stdout",
     "output_type": "stream",
     "text": [
      "San_Vittore,_Calcio\n",
      "location\n",
      "object\n",
      "physical_entity\n",
      "matter\n",
      "paper\n",
      "Metsä_Board\n"
     ]
    }
   ],
   "source": [
    "for item in result:\n",
    "    if type(item) is dict and 'synsetID' in item.keys():\n",
    "        print(BabelSynsetID(item['synsetID']).to_synset().main_sense(language=Language.EN).full_lemma)"
   ]
  },
  {
   "cell_type": "code",
   "execution_count": 138,
   "metadata": {},
   "outputs": [],
   "source": [
    "# FIRST COMMON NODE BETWEEN TWO SYNSETS\n",
    "\n",
    "with GraphDatabase.driver(URI, auth=AUTH) as driver:\n",
    "    #records, summary, keys \n",
    "    result = driver.execute_query(\n",
    "        first_common_node_query,\n",
    "        {'synsetID_1': id1.id,\n",
    "         'synsetID_2': id2.id},\n",
    "        database_='neo4j',\n",
    "        result_transformer_=neo4j.Result.data)"
   ]
  },
  {
   "cell_type": "code",
   "execution_count": 139,
   "metadata": {},
   "outputs": [
    {
     "data": {
      "text/plain": [
       "2"
      ]
     },
     "execution_count": 139,
     "metadata": {},
     "output_type": "execute_result"
    }
   ],
   "source": [
    "len(result)"
   ]
  },
  {
   "cell_type": "code",
   "execution_count": 140,
   "metadata": {},
   "outputs": [
    {
     "data": {
      "text/plain": [
       "(6, 8)"
      ]
     },
     "execution_count": 140,
     "metadata": {},
     "output_type": "execute_result"
    }
   ],
   "source": [
    "int((len(result[0]['p'])-1)/2),int((len(result[1]['p'])-1)/2)    # choose the shortest path"
   ]
  },
  {
   "cell_type": "code",
   "execution_count": null,
   "metadata": {},
   "outputs": [],
   "source": [
    "result = result[0]"
   ]
  },
  {
   "cell_type": "code",
   "execution_count": 145,
   "metadata": {},
   "outputs": [
    {
     "data": {
      "text/plain": [
       "{'p': [{'synsetID': 'bn:17745081n'},\n",
       "  'IS_A',\n",
       "  {'synsetID': 'bn:00051760n'},\n",
       "  'IS_A',\n",
       "  {'synsetID': 'bn:00058442n'},\n",
       "  'IS_A',\n",
       "  {'synsetID': 'bn:00062164n'},\n",
       "  'IS_A',\n",
       "  {'synsetID': 'bn:00053867n'},\n",
       "  'IS_A',\n",
       "  {'synsetID': 'bn:00060464n'},\n",
       "  'IS_A',\n",
       "  {'synsetID': 'bn:03835703n'}],\n",
       " 'common_node': {'synsetID': 'bn:00062164n'}}"
      ]
     },
     "execution_count": 145,
     "metadata": {},
     "output_type": "execute_result"
    }
   ],
   "source": [
    "result"
   ]
  },
  {
   "cell_type": "code",
   "execution_count": 149,
   "metadata": {},
   "outputs": [
    {
     "data": {
      "text/plain": [
       "(['bn:17745081n',\n",
       "  'bn:00051760n',\n",
       "  'bn:00058442n',\n",
       "  'bn:00062164n',\n",
       "  'bn:00053867n',\n",
       "  'bn:00060464n',\n",
       "  'bn:03835703n'],\n",
       " {'synsetID': 'bn:00062164n'})"
      ]
     },
     "execution_count": 149,
     "metadata": {},
     "output_type": "execute_result"
    }
   ],
   "source": [
    "path, common_node = [s['synsetID'] for s in result['p'] if type(s) is dict], result['common_node']\n",
    "path, common_node"
   ]
  },
  {
   "cell_type": "code",
   "execution_count": 154,
   "metadata": {},
   "outputs": [
    {
     "data": {
      "text/plain": [
       "(['bn:17745081n', 'bn:00051760n', 'bn:00058442n', 'bn:00062164n'],\n",
       " ['bn:03835703n', 'bn:00060464n', 'bn:00053867n', 'bn:00062164n'])"
      ]
     },
     "execution_count": 154,
     "metadata": {},
     "output_type": "execute_result"
    }
   ],
   "source": [
    "from_s1 = path[0:path.index(common_node['synsetID']) + 1]\n",
    "from_s2 = path[path.index(common_node['synsetID']):]\n",
    "from_s2.reverse()\n",
    "from_s1, from_s2"
   ]
  }
 ],
 "metadata": {
  "kernelspec": {
   "display_name": "graphproject",
   "language": "python",
   "name": "python3"
  },
  "language_info": {
   "codemirror_mode": {
    "name": "ipython",
    "version": 3
   },
   "file_extension": ".py",
   "mimetype": "text/x-python",
   "name": "python",
   "nbconvert_exporter": "python",
   "pygments_lexer": "ipython3",
   "version": "3.8.3"
  },
  "orig_nbformat": 4
 },
 "nbformat": 4,
 "nbformat_minor": 2
}
