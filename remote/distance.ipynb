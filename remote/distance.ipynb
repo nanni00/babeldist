{
 "cells": [
  {
   "cell_type": "code",
   "execution_count": 3,
   "metadata": {},
   "outputs": [
    {
     "name": "stderr",
     "output_type": "stream",
     "text": [
      "2023-09-07 20:34:18,074 [babelnet.conf] INFO: Loaded configuration from ['/home/giovanni/unimore/2_graph_analytics/tesina/babeldist/remote/babelnet_conf.yml']\n",
      "2023-09-07 20:34:18,079 [babelnet.api] INFO: BabelNet Remote Procedure Call API v1.1.0\n"
     ]
    }
   ],
   "source": [
    "import os\n",
    "import sys\n",
    "sys.path.append(os.path.pardir)\n",
    "import numpy as np\n",
    "\n",
    "import neo4j\n",
    "from neo4j import GraphDatabase\n",
    "\n",
    "from babelnet import BabelSynsetID, Language\n",
    "from babelnet.data.relation import BabelPointer\n",
    "\n",
    "from zerorpc import TimeoutExpired, LostRemote"
   ]
  },
  {
   "cell_type": "code",
   "execution_count": 4,
   "metadata": {},
   "outputs": [],
   "source": [
    "URI = \"bolt://localhost:7687\"\n",
    "AUTH = (\"giovanni\", \"BabeldistGraph\")"
   ]
  },
  {
   "cell_type": "code",
   "execution_count": 5,
   "metadata": {},
   "outputs": [],
   "source": [
    "random_node_query = \" MATCH (a:Synset) RETURN a.synsetID, rand() as r ORDER BY r LIMIT 1\"\n",
    "\n",
    "count_nodes_query = \" MATCH (s:Synset) RETURN count(s) \"\n",
    "count_edges_query = \" MATCH ()-[r:IS_A]->() RETURN count(r) \"\n",
    "\n",
    "shortestPath_query = \"\"\"\n",
    "MATCH (s1:Synset {synsetID: $synsetID_1})\n",
    "MATCH (s2:Synset {synsetID: $synsetID_2})\n",
    "MATCH p = shortestPath((s1)-[:IS_A*..12]-(s2))\n",
    "RETURN p \"\"\"\n",
    "\n",
    "first_common_node_query = \"\"\"\n",
    "MATCH (s1:Synset {synsetID: $synsetID_1})\n",
    "MATCH (s2:Synset {synsetID: $synsetID_2})\n",
    "MATCH p = (s1)-[:IS_A*..5]->(common_node:Synset)<-[:IS_A*..5]-(s2) \n",
    "RETURN p, common_node \"\"\"\n",
    "\n",
    "max_length_taxonomy_query = \"\"\" \n",
    "MATCH p=(root:Synset {synsetID: $root_node})<-[:IS_A*1..12]-(child:Synset) \n",
    "WHERE NOT (child)<-[:IS_A]-()\n",
    "RETURN p ORDER BY length(p) DESC LIMIT 1 \"\"\""
   ]
  },
  {
   "cell_type": "code",
   "execution_count": 6,
   "metadata": {},
   "outputs": [],
   "source": [
    "root_node_id_str = 'bn:00062164n' # physical entity"
   ]
  },
  {
   "cell_type": "code",
   "execution_count": 7,
   "metadata": {},
   "outputs": [],
   "source": [
    "driver = GraphDatabase.driver(URI, auth=AUTH)"
   ]
  },
  {
   "cell_type": "code",
   "execution_count": 8,
   "metadata": {},
   "outputs": [],
   "source": [
    "def get_random_synset_id(driver):\n",
    "    return driver.execute_query(random_node_query, result_transformer_=neo4j.Result.data)[0]['a.synsetID']"
   ]
  },
  {
   "cell_type": "code",
   "execution_count": 9,
   "metadata": {},
   "outputs": [
    {
     "data": {
      "text/plain": [
       "('bn:14978854n', 'bn:00014079n')"
      ]
     },
     "execution_count": 9,
     "metadata": {},
     "output_type": "execute_result"
    }
   ],
   "source": [
    "id1_str, id2_str = get_random_synset_id(driver), get_random_synset_id(driver) \n",
    "id1_str, id2_str"
   ]
  },
  {
   "cell_type": "code",
   "execution_count": 10,
   "metadata": {},
   "outputs": [
    {
     "data": {
      "text/plain": [
       "(113951433__WIKI:EN:Oberrhaet_Formation, 47038672__Burundian#n#1)"
      ]
     },
     "execution_count": 10,
     "metadata": {},
     "output_type": "execute_result"
    }
   ],
   "source": [
    "id1, id2 = BabelSynsetID(id1_str), BabelSynsetID(id2_str)\n",
    "s1, s2 = id1.to_synset(), id2.to_synset()\n",
    "s1, s2"
   ]
  },
  {
   "cell_type": "code",
   "execution_count": 11,
   "metadata": {},
   "outputs": [],
   "source": [
    "def get_shortest_path(driver, s1_id: str, s2_id: str):\n",
    "    return driver.execute_query(\n",
    "        shortestPath_query, \n",
    "        {'synsetID_1': s1_id,\n",
    "         'synsetID_2': s2_id},\n",
    "        database_='neo4j',\n",
    "        result_transformer_=neo4j.Result.data)"
   ]
  },
  {
   "cell_type": "code",
   "execution_count": 12,
   "metadata": {},
   "outputs": [],
   "source": [
    "def get_shortest_path_length(driver, s1_id: str, s2_id: str):\n",
    "    return get_shortest_path(driver, s1_id, s2_id)[0]['p'].count('IS_A')"
   ]
  },
  {
   "cell_type": "code",
   "execution_count": 13,
   "metadata": {},
   "outputs": [],
   "source": [
    "def shortest_path_synsets_lemmas(shortest_path):\n",
    "    for item in shortest_path:\n",
    "        if type(item) is dict and 'synsetID' in item.keys():\n",
    "            try:\n",
    "                print(BabelSynsetID(item['synsetID']).to_synset().main_sense().full_lemma)\n",
    "            except Exception as e:\n",
    "                print(e.args[0])"
   ]
  },
  {
   "cell_type": "code",
   "execution_count": 14,
   "metadata": {},
   "outputs": [],
   "source": [
    "def get_lcs_depth(driver, s1_id: str, s2_id: str):\n",
    "    result = driver.execute_query(\n",
    "        first_common_node_query,\n",
    "        {'synsetID_1': s1_id,\n",
    "         'synsetID_2': s2_id},\n",
    "        database_='neo4j',\n",
    "        result_transformer_=neo4j.Result.data)\n",
    "    \n",
    "    # TO-DO handle multiple results\n",
    "    result = result[0]\n",
    "    path, common_node = [s['synsetID'] for s in result['p'] if type(s) is dict], result['common_node']\n",
    "    \n",
    "    from_s1 = path[0:path.index(common_node['synsetID']) + 1]\n",
    "    from_s2 = path[path.index(common_node['synsetID']):]\n",
    "    return max(len(from_s1)-1, len(from_s2)-1)"
   ]
  },
  {
   "cell_type": "code",
   "execution_count": 15,
   "metadata": {},
   "outputs": [],
   "source": [
    "def get_distance_from_root_node(driver, s1_id: str):\n",
    "    return driver.execute_query(\n",
    "        shortestPath_query,\n",
    "        {'synsetID_1': s1_id,\n",
    "         'synsetID_2': root_node_id_str},\n",
    "        database_='neo4j',\n",
    "        result_transformer_=neo4j.Result.data)[0]['p'].count('IS_A')"
   ]
  },
  {
   "cell_type": "code",
   "execution_count": 16,
   "metadata": {},
   "outputs": [],
   "source": [
    "def get_max_taxonomy_length(driver, root_node_id: str):\n",
    "    return driver.execute_query(\n",
    "        max_length_taxonomy_query, \n",
    "        {'root_node': root_node_id_str},\n",
    "        result_transformer_=neo4j.Result.data)[0]['p'].count('IS_A')"
   ]
  },
  {
   "cell_type": "code",
   "execution_count": 17,
   "metadata": {},
   "outputs": [],
   "source": [
    "def wup_similarity(driver, s1_id: str, s2_id: str):\n",
    "    lcs_depth = get_lcs_depth(driver, s1_id, s2_id)\n",
    "    dist_s1_root = get_distance_from_root_node(driver, s1_id)\n",
    "    dist_s2_root = get_distance_from_root_node(driver, s2_id)\n",
    "    return lcs_depth / (dist_s1_root + dist_s2_root)"
   ]
  },
  {
   "cell_type": "code",
   "execution_count": 18,
   "metadata": {},
   "outputs": [],
   "source": [
    "def lch_similarity(driver, s1_id: str, s2_id: str):\n",
    "    d = get_max_taxonomy_length(driver, root_node_id_str)\n",
    "    sp_length = get_shortest_path_length(driver, s1_id, s2_id)\n",
    "    return -np.log(sp_length / (2 * d))"
   ]
  },
  {
   "cell_type": "code",
   "execution_count": 19,
   "metadata": {},
   "outputs": [
    {
     "data": {
      "text/plain": [
       "0.5714285714285714"
      ]
     },
     "execution_count": 19,
     "metadata": {},
     "output_type": "execute_result"
    }
   ],
   "source": [
    "wup_similarity(driver, id1_str, id2_str)"
   ]
  },
  {
   "cell_type": "code",
   "execution_count": 20,
   "metadata": {},
   "outputs": [
    {
     "data": {
      "text/plain": [
       "0.9444616088408514"
      ]
     },
     "execution_count": 20,
     "metadata": {},
     "output_type": "execute_result"
    }
   ],
   "source": [
    "lch_similarity(driver, id1_str, id2_str)"
   ]
  },
  {
   "cell_type": "code",
   "execution_count": 22,
   "metadata": {},
   "outputs": [
    {
     "data": {
      "text/plain": [
       "(The Oberrhaet Formation, also known as the Oberrhaet Limestone, is a Late Triassic geological formation in Austria.,\n",
       " A native or inhabitant of Burundi)"
      ]
     },
     "execution_count": 22,
     "metadata": {},
     "output_type": "execute_result"
    }
   ],
   "source": [
    "s1.main_gloss(), s2.main_gloss()"
   ]
  },
  {
   "cell_type": "code",
   "execution_count": 21,
   "metadata": {},
   "outputs": [],
   "source": [
    "driver.close()"
   ]
  },
  {
   "cell_type": "code",
   "execution_count": null,
   "metadata": {},
   "outputs": [],
   "source": []
  }
 ],
 "metadata": {
  "kernelspec": {
   "display_name": "graphproject",
   "language": "python",
   "name": "python3"
  },
  "language_info": {
   "codemirror_mode": {
    "name": "ipython",
    "version": 3
   },
   "file_extension": ".py",
   "mimetype": "text/x-python",
   "name": "python",
   "nbconvert_exporter": "python",
   "pygments_lexer": "ipython3",
   "version": "3.8.3"
  },
  "orig_nbformat": 4
 },
 "nbformat": 4,
 "nbformat_minor": 2
}
