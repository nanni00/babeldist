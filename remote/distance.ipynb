{
 "cells": [
  {
   "cell_type": "code",
   "execution_count": 7,
   "metadata": {},
   "outputs": [],
   "source": [
    "import os\n",
    "import sys\n",
    "sys.path.append('..')\n",
    "from utils import utils\n",
    "import numpy as np\n",
    "\n",
    "import neo4j\n",
    "from neo4j import GraphDatabase"
   ]
  },
  {
   "cell_type": "code",
   "execution_count": 23,
   "metadata": {},
   "outputs": [
    {
     "name": "stderr",
     "output_type": "stream",
     "text": [
      "2023-09-11 09:55:06,447 [babelnet.conf] INFO: Loaded configuration from ['/home/giovanni/unimore/2_graph_analytics/tesina/babeldist/remote/babelnet_conf.yml']\n",
      "2023-09-11 09:55:06,453 [babelnet.api] INFO: BabelNet Remote Procedure Call API v1.1.0\n"
     ]
    },
    {
     "ename": "TimeoutExpired",
     "evalue": "timeout after 60s, when calling remote method version",
     "output_type": "error",
     "traceback": [
      "\u001b[0;31m---------------------------------------------------------------------------\u001b[0m",
      "\u001b[0;31mEmpty\u001b[0m                                     Traceback (most recent call last)",
      "File \u001b[0;32m~/.pyenv/versions/3.8.3/envs/graphproject/lib/python3.8/site-packages/zerorpc/channel.py:255\u001b[0m, in \u001b[0;36mBufferedChannel.recv\u001b[0;34m(self, timeout)\u001b[0m\n\u001b[1;32m    254\u001b[0m \u001b[39mtry\u001b[39;00m:\n\u001b[0;32m--> 255\u001b[0m     event \u001b[39m=\u001b[39m \u001b[39mself\u001b[39;49m\u001b[39m.\u001b[39;49m_input_queue\u001b[39m.\u001b[39;49mget(timeout\u001b[39m=\u001b[39;49mtimeout)\n\u001b[1;32m    256\u001b[0m \u001b[39mexcept\u001b[39;00m gevent\u001b[39m.\u001b[39mqueue\u001b[39m.\u001b[39mEmpty:\n",
      "File \u001b[0;32msrc/gevent/queue.py:335\u001b[0m, in \u001b[0;36mgevent._gevent_cqueue.Queue.get\u001b[0;34m()\u001b[0m\n",
      "File \u001b[0;32msrc/gevent/queue.py:350\u001b[0m, in \u001b[0;36mgevent._gevent_cqueue.Queue.get\u001b[0;34m()\u001b[0m\n",
      "File \u001b[0;32msrc/gevent/queue.py:327\u001b[0m, in \u001b[0;36mgevent._gevent_cqueue.Queue._Queue__get_or_peek\u001b[0;34m()\u001b[0m\n",
      "File \u001b[0;32msrc/gevent/_waiter.py:154\u001b[0m, in \u001b[0;36mgevent._gevent_c_waiter.Waiter.get\u001b[0;34m()\u001b[0m\n",
      "File \u001b[0;32msrc/gevent/_greenlet_primitives.py:61\u001b[0m, in \u001b[0;36mgevent._gevent_c_greenlet_primitives.SwitchOutGreenletWithLoop.switch\u001b[0;34m()\u001b[0m\n",
      "File \u001b[0;32msrc/gevent/_greenlet_primitives.py:61\u001b[0m, in \u001b[0;36mgevent._gevent_c_greenlet_primitives.SwitchOutGreenletWithLoop.switch\u001b[0;34m()\u001b[0m\n",
      "File \u001b[0;32msrc/gevent/_greenlet_primitives.py:65\u001b[0m, in \u001b[0;36mgevent._gevent_c_greenlet_primitives.SwitchOutGreenletWithLoop.switch\u001b[0;34m()\u001b[0m\n",
      "File \u001b[0;32msrc/gevent/_gevent_c_greenlet_primitives.pxd:35\u001b[0m, in \u001b[0;36mgevent._gevent_c_greenlet_primitives._greenlet_switch\u001b[0;34m()\u001b[0m\n",
      "\u001b[0;31mEmpty\u001b[0m: ",
      "\nDuring handling of the above exception, another exception occurred:\n",
      "\u001b[0;31mTimeoutExpired\u001b[0m                            Traceback (most recent call last)",
      "File \u001b[0;32m~/.pyenv/versions/3.8.3/envs/graphproject/lib/python3.8/site-packages/zerorpc/core.py:227\u001b[0m, in \u001b[0;36mClientBase._process_response\u001b[0;34m(self, request_event, bufchan, timeout)\u001b[0m\n\u001b[1;32m    226\u001b[0m \u001b[39mtry\u001b[39;00m:\n\u001b[0;32m--> 227\u001b[0m     reply_event \u001b[39m=\u001b[39m bufchan\u001b[39m.\u001b[39;49mrecv(timeout\u001b[39m=\u001b[39;49mtimeout)\n\u001b[1;32m    228\u001b[0m \u001b[39mexcept\u001b[39;00m TimeoutExpired:\n",
      "File \u001b[0;32m~/.pyenv/versions/3.8.3/envs/graphproject/lib/python3.8/site-packages/zerorpc/channel.py:257\u001b[0m, in \u001b[0;36mBufferedChannel.recv\u001b[0;34m(self, timeout)\u001b[0m\n\u001b[1;32m    256\u001b[0m \u001b[39mexcept\u001b[39;00m gevent\u001b[39m.\u001b[39mqueue\u001b[39m.\u001b[39mEmpty:\n\u001b[0;32m--> 257\u001b[0m     \u001b[39mraise\u001b[39;00m TimeoutExpired(timeout)\n\u001b[1;32m    259\u001b[0m \u001b[39mself\u001b[39m\u001b[39m.\u001b[39m_input_queue_reserved \u001b[39m-\u001b[39m\u001b[39m=\u001b[39m \u001b[39m1\u001b[39m\n",
      "\u001b[0;31mTimeoutExpired\u001b[0m: timeout after 60s",
      "\nDuring handling of the above exception, another exception occurred:\n",
      "\u001b[0;31mTimeoutExpired\u001b[0m                            Traceback (most recent call last)",
      "Cell \u001b[0;32mIn[23], line 1\u001b[0m\n\u001b[0;32m----> 1\u001b[0m \u001b[39mfrom\u001b[39;00m \u001b[39mbabelnet\u001b[39;00m \u001b[39mimport\u001b[39;00m BabelSynsetID, Language\n",
      "File \u001b[0;32m~/.pyenv/versions/3.8.3/envs/graphproject/lib/python3.8/site-packages/babelnet/__init__.py:7\u001b[0m\n\u001b[1;32m      4\u001b[0m zerorpc_patch\u001b[39m.\u001b[39mmonkey_patch()\n\u001b[1;32m      6\u001b[0m \u001b[39mfrom\u001b[39;00m \u001b[39mbabelnet\u001b[39;00m\u001b[39m.\u001b[39;00m\u001b[39mconf\u001b[39;00m \u001b[39mimport\u001b[39;00m _config\n\u001b[0;32m----> 7\u001b[0m \u001b[39mfrom\u001b[39;00m \u001b[39mbabelnet\u001b[39;00m\u001b[39m.\u001b[39;00m\u001b[39mapi\u001b[39;00m \u001b[39mimport\u001b[39;00m (\n\u001b[1;32m      8\u001b[0m     get_synsets,\n\u001b[1;32m      9\u001b[0m     get_synset,\n\u001b[1;32m     10\u001b[0m     get_senses,\n\u001b[1;32m     11\u001b[0m     get_senses_containing,\n\u001b[1;32m     12\u001b[0m     get_senses_from,\n\u001b[1;32m     13\u001b[0m     to_synsets,\n\u001b[1;32m     14\u001b[0m     iterator,\n\u001b[1;32m     15\u001b[0m     lexicon_iterator,\n\u001b[1;32m     16\u001b[0m     offset_iterator,\n\u001b[1;32m     17\u001b[0m     version,\n\u001b[1;32m     18\u001b[0m     wordnet_iterator,\n\u001b[1;32m     19\u001b[0m )\n\u001b[1;32m     20\u001b[0m \u001b[39mfrom\u001b[39;00m \u001b[39mbabelnet\u001b[39;00m\u001b[39m.\u001b[39;00m\u001b[39msynset\u001b[39;00m \u001b[39mimport\u001b[39;00m BabelSynsetComparator, BabelSynset\n\u001b[1;32m     21\u001b[0m \u001b[39mfrom\u001b[39;00m \u001b[39mbabelnet\u001b[39;00m\u001b[39m.\u001b[39;00m\u001b[39mresources\u001b[39;00m \u001b[39mimport\u001b[39;00m BabelSynsetID\n",
      "File \u001b[0;32m~/.pyenv/versions/3.8.3/envs/graphproject/lib/python3.8/site-packages/babelnet/api.py:124\u001b[0m\n\u001b[1;32m    120\u001b[0m     \u001b[39mfrom\u001b[39;00m \u001b[39mbabelnet\u001b[39;00m\u001b[39m.\u001b[39;00m\u001b[39mapis\u001b[39;00m\u001b[39m.\u001b[39;00m\u001b[39monline_api\u001b[39;00m \u001b[39mimport\u001b[39;00m OnlineAPI\n\u001b[1;32m    122\u001b[0m     _api \u001b[39m=\u001b[39m OnlineAPI()\n\u001b[0;32m--> 124\u001b[0m _version \u001b[39m=\u001b[39m _api\u001b[39m.\u001b[39;49mversion()\n\u001b[1;32m    125\u001b[0m \u001b[39m\"\"\"The version of the api\"\"\"\u001b[39;00m\n\u001b[1;32m    126\u001b[0m _config\u001b[39m.\u001b[39mset_actual_version(_version)\n",
      "File \u001b[0;32m~/.pyenv/versions/3.8.3/envs/graphproject/lib/python3.8/site-packages/babelnet/apis/rpc_api.py:45\u001b[0m, in \u001b[0;36mRPCApi.__init__.<locals>.wrap\u001b[0;34m(mn, *args, **kwargs)\u001b[0m\n\u001b[1;32m     43\u001b[0m fn \u001b[39m=\u001b[39m \u001b[39mgetattr\u001b[39m(c, mn)\n\u001b[1;32m     44\u001b[0m dict_args \u001b[39m=\u001b[39m \u001b[39mdict\u001b[39m(args\u001b[39m=\u001b[39margs, kwargs\u001b[39m=\u001b[39mkwargs)\n\u001b[0;32m---> 45\u001b[0m \u001b[39mreturn\u001b[39;00m fn(dict_args)\n",
      "File \u001b[0;32m~/.pyenv/versions/3.8.3/envs/graphproject/lib/python3.8/site-packages/zerorpc/core.py:278\u001b[0m, in \u001b[0;36mClientBase.__getattr__.<locals>.<lambda>\u001b[0;34m(*args, **kargs)\u001b[0m\n\u001b[1;32m    277\u001b[0m \u001b[39mdef\u001b[39;00m \u001b[39m__getattr__\u001b[39m(\u001b[39mself\u001b[39m, method):\n\u001b[0;32m--> 278\u001b[0m     \u001b[39mreturn\u001b[39;00m \u001b[39mlambda\u001b[39;00m \u001b[39m*\u001b[39margs, \u001b[39m*\u001b[39m\u001b[39m*\u001b[39mkargs: \u001b[39mself\u001b[39;49m(method, \u001b[39m*\u001b[39;49margs, \u001b[39m*\u001b[39;49m\u001b[39m*\u001b[39;49mkargs)\n",
      "File \u001b[0;32m~/.pyenv/versions/3.8.3/envs/graphproject/lib/python3.8/site-packages/zerorpc/core.py:270\u001b[0m, in \u001b[0;36mClientBase.__call__\u001b[0;34m(self, method, *args, **kargs)\u001b[0m\n\u001b[1;32m    267\u001b[0m bufchan\u001b[39m.\u001b[39memit_event(request_event)\n\u001b[1;32m    269\u001b[0m \u001b[39mif\u001b[39;00m kargs\u001b[39m.\u001b[39mget(\u001b[39m'\u001b[39m\u001b[39masync\u001b[39m\u001b[39m'\u001b[39m, \u001b[39mFalse\u001b[39;00m) \u001b[39mis\u001b[39;00m \u001b[39mFalse\u001b[39;00m:\n\u001b[0;32m--> 270\u001b[0m     \u001b[39mreturn\u001b[39;00m \u001b[39mself\u001b[39;49m\u001b[39m.\u001b[39;49m_process_response(request_event, bufchan, timeout)\n\u001b[1;32m    272\u001b[0m async_result \u001b[39m=\u001b[39m gevent\u001b[39m.\u001b[39mevent\u001b[39m.\u001b[39mAsyncResult()\n\u001b[1;32m    273\u001b[0m gevent\u001b[39m.\u001b[39mspawn(\u001b[39mself\u001b[39m\u001b[39m.\u001b[39m_process_response, request_event, bufchan,\n\u001b[1;32m    274\u001b[0m         timeout)\u001b[39m.\u001b[39mlink(async_result)\n",
      "File \u001b[0;32m~/.pyenv/versions/3.8.3/envs/graphproject/lib/python3.8/site-packages/zerorpc/core.py:229\u001b[0m, in \u001b[0;36mClientBase._process_response\u001b[0;34m(self, request_event, bufchan, timeout)\u001b[0m\n\u001b[1;32m    227\u001b[0m     reply_event \u001b[39m=\u001b[39m bufchan\u001b[39m.\u001b[39mrecv(timeout\u001b[39m=\u001b[39mtimeout)\n\u001b[1;32m    228\u001b[0m \u001b[39mexcept\u001b[39;00m TimeoutExpired:\n\u001b[0;32m--> 229\u001b[0m     raise_error(TimeoutExpired(timeout,\n\u001b[1;32m    230\u001b[0m             \u001b[39m'\u001b[39;49m\u001b[39mcalling remote method \u001b[39;49m\u001b[39m{0}\u001b[39;49;00m\u001b[39m'\u001b[39;49m\u001b[39m.\u001b[39;49mformat(request_event\u001b[39m.\u001b[39;49mname)))\n\u001b[1;32m    232\u001b[0m pattern \u001b[39m=\u001b[39m \u001b[39mself\u001b[39m\u001b[39m.\u001b[39m_select_pattern(reply_event)\n\u001b[1;32m    233\u001b[0m \u001b[39mif\u001b[39;00m pattern \u001b[39mis\u001b[39;00m \u001b[39mNone\u001b[39;00m:\n",
      "File \u001b[0;32m~/.pyenv/versions/3.8.3/envs/graphproject/lib/python3.8/site-packages/zerorpc/core.py:224\u001b[0m, in \u001b[0;36mClientBase._process_response.<locals>.raise_error\u001b[0;34m(ex)\u001b[0m\n\u001b[1;32m    222\u001b[0m bufchan\u001b[39m.\u001b[39mclose()\n\u001b[1;32m    223\u001b[0m \u001b[39mself\u001b[39m\u001b[39m.\u001b[39m_context\u001b[39m.\u001b[39mhook_client_after_request(request_event, \u001b[39mNone\u001b[39;00m, ex)\n\u001b[0;32m--> 224\u001b[0m \u001b[39mraise\u001b[39;00m ex\n",
      "\u001b[0;31mTimeoutExpired\u001b[0m: timeout after 60s, when calling remote method version"
     ]
    }
   ],
   "source": [
    "from babelnet import BabelSynsetID, Language"
   ]
  },
  {
   "cell_type": "code",
   "execution_count": 2,
   "metadata": {},
   "outputs": [],
   "source": [
    "URI = \"bolt://localhost:7687\"\n",
    "AUTH = (\"giovanni\", \"BabeldistGraph\")"
   ]
  },
  {
   "cell_type": "code",
   "execution_count": 3,
   "metadata": {},
   "outputs": [],
   "source": [
    "random_node_query = \" MATCH (a:Synset) RETURN a.synsetID as synsetID, rand() as r ORDER BY r LIMIT 1\"\n",
    "\n",
    "count_nodes_query = \" MATCH (s:Synset) RETURN count(s) as numNodes\"\n",
    "count_edges_query = \" MATCH ()-[r:IS_A]->() RETURN count(r) as numEdges\"\n",
    "\n",
    "shortestPath_query = \"\"\"\n",
    "MATCH (s1:Synset {synsetID: $synsetID_1})\n",
    "MATCH (s2:Synset {synsetID: $synsetID_2})\n",
    "MATCH p = shortestPath((s1)-[:IS_A*..12]-(s2))\n",
    "RETURN p as shortestPath\"\"\"\n",
    "\n",
    "first_common_node_query = \"\"\"\n",
    "MATCH (s1:Synset {synsetID: $synsetID_1})\n",
    "MATCH (s2:Synset {synsetID: $synsetID_2})\n",
    "MATCH p = (s1)-[:IS_A*..5]->(common_node:Synset)<-[:IS_A*..5]-(s2) \n",
    "RETURN p as path, common_node \"\"\"\n",
    "\n",
    "max_length_taxonomy_query = \"\"\" \n",
    "MATCH p=(root:Synset {synsetID: $root_node})<-[:IS_A*1..12]-(child:Synset) \n",
    "WHERE NOT (child)<-[:IS_A]-()\n",
    "RETURN p as path ORDER BY length(p) DESC LIMIT 1 \"\"\""
   ]
  },
  {
   "cell_type": "code",
   "execution_count": 4,
   "metadata": {},
   "outputs": [],
   "source": [
    "root_node_id_str = 'bn:00062164n' # physical entity"
   ]
  },
  {
   "cell_type": "code",
   "execution_count": 7,
   "metadata": {},
   "outputs": [],
   "source": [
    "def get_random_synset_id(driver):\n",
    "    return driver.execute_query(random_node_query, result_transformer_=neo4j.Result.data)[0]['synsetID']"
   ]
  },
  {
   "cell_type": "code",
   "execution_count": 8,
   "metadata": {},
   "outputs": [],
   "source": [
    "def get_shortest_path(driver, s1_id: str, s2_id: str):\n",
    "    return driver.execute_query(\n",
    "        shortestPath_query, \n",
    "        {'synsetID_1': s1_id,\n",
    "         'synsetID_2': s2_id},\n",
    "        database_='neo4j',\n",
    "        result_transformer_=neo4j.Result.data)"
   ]
  },
  {
   "cell_type": "code",
   "execution_count": 9,
   "metadata": {},
   "outputs": [],
   "source": [
    "def get_shortest_path_length(driver, s1_id: str, s2_id: str):\n",
    "    return get_shortest_path(driver, s1_id, s2_id)[0]['shortestPath'].count('IS_A')"
   ]
  },
  {
   "cell_type": "code",
   "execution_count": 10,
   "metadata": {},
   "outputs": [],
   "source": [
    "def shortest_path_synsets_lemmas(driver, s1_id: str, s2_id: str):\n",
    "    shortest_path = get_shortest_path(driver, s1_id, s2_id)[0]['shortestPath']\n",
    "    for item in shortest_path:\n",
    "        if type(item) is dict and 'synsetID' in item.keys():\n",
    "            try:\n",
    "                print(BabelSynsetID(item['synsetID']).to_synset().main_sense().full_lemma)\n",
    "            except Exception as e:\n",
    "                print(e.args[0])"
   ]
  },
  {
   "cell_type": "code",
   "execution_count": 11,
   "metadata": {},
   "outputs": [],
   "source": [
    "def get_lcs_depth(driver, s1_id: str, s2_id: str):\n",
    "    result = driver.execute_query(\n",
    "        first_common_node_query,\n",
    "        {'synsetID_1': s1_id,\n",
    "         'synsetID_2': s2_id},\n",
    "        database_='neo4j',\n",
    "        result_transformer_=neo4j.Result.data)\n",
    "    \n",
    "    # TO-DO handle multiple results\n",
    "    result = result[0]\n",
    "    path, common_node = [s['synsetID'] for s in result['path'] if type(s) is dict], result['common_node']\n",
    "    \n",
    "    from_s1 = path[0:path.index(common_node['synsetID']) + 1]\n",
    "    from_s2 = path[path.index(common_node['synsetID']):]\n",
    "    return max(len(from_s1)-1, len(from_s2)-1)"
   ]
  },
  {
   "cell_type": "code",
   "execution_count": 12,
   "metadata": {},
   "outputs": [],
   "source": [
    "def get_distance_from_root_node(driver, s1_id: str):\n",
    "    return driver.execute_query(\n",
    "        shortestPath_query,\n",
    "        {'synsetID_1': s1_id,\n",
    "         'synsetID_2': root_node_id_str},\n",
    "        database_='neo4j',\n",
    "        result_transformer_=neo4j.Result.data)[0]['shortestPath'].count('IS_A')"
   ]
  },
  {
   "cell_type": "code",
   "execution_count": 13,
   "metadata": {},
   "outputs": [],
   "source": [
    "def get_max_taxonomy_length(driver, root_node_id: str):\n",
    "    return driver.execute_query(\n",
    "        max_length_taxonomy_query, \n",
    "        {'root_node': root_node_id_str},\n",
    "        result_transformer_=neo4j.Result.data)[0]['path'].count('IS_A')"
   ]
  },
  {
   "cell_type": "code",
   "execution_count": 14,
   "metadata": {},
   "outputs": [],
   "source": [
    "def wup_similarity(driver, s1_id: str, s2_id: str):\n",
    "    lcs_depth = get_lcs_depth(driver, s1_id, s2_id)\n",
    "    dist_s1_root = get_distance_from_root_node(driver, s1_id)\n",
    "    dist_s2_root = get_distance_from_root_node(driver, s2_id)\n",
    "    return lcs_depth / (dist_s1_root + dist_s2_root)"
   ]
  },
  {
   "cell_type": "code",
   "execution_count": 15,
   "metadata": {},
   "outputs": [],
   "source": [
    "def lch_similarity(driver, s1_id: str, s2_id: str):\n",
    "    d = get_max_taxonomy_length(driver, root_node_id_str)\n",
    "    sp_length = get_shortest_path_length(driver, s1_id, s2_id)\n",
    "    return -np.log(sp_length / (2 * d))"
   ]
  },
  {
   "cell_type": "code",
   "execution_count": 16,
   "metadata": {},
   "outputs": [],
   "source": [
    "def path_similarity(driver, s1_id: str, s2_id: str):\n",
    "    return 1 / get_shortest_path_length(driver, s1_id, s2_id)"
   ]
  },
  {
   "cell_type": "code",
   "execution_count": 18,
   "metadata": {},
   "outputs": [],
   "source": [
    "driver = GraphDatabase.driver(URI, auth=AUTH)"
   ]
  },
  {
   "cell_type": "code",
   "execution_count": 19,
   "metadata": {},
   "outputs": [
    {
     "data": {
      "text/plain": [
       "('bn:03724276n', 'bn:00041965n')"
      ]
     },
     "execution_count": 19,
     "metadata": {},
     "output_type": "execute_result"
    }
   ],
   "source": [
    "id1_str, id2_str = get_random_synset_id(driver), get_random_synset_id(driver) \n",
    "id1_str, id2_str"
   ]
  },
  {
   "cell_type": "code",
   "execution_count": 20,
   "metadata": {},
   "outputs": [
    {
     "data": {
      "text/plain": [
       "(77436857__WIKI:EN:Country_changes_in_figure_skating, 39088034__grout#n#1)"
      ]
     },
     "execution_count": 20,
     "metadata": {},
     "output_type": "execute_result"
    }
   ],
   "source": [
    "id1, id2 = BabelSynsetID(id1_str), BabelSynsetID(id2_str)\n",
    "s1, s2 = id1.to_synset(), id2.to_synset()\n",
    "s1, s2"
   ]
  },
  {
   "cell_type": "code",
   "execution_count": 21,
   "metadata": {},
   "outputs": [
    {
     "data": {
      "text/plain": [
       "(Country changing is a phenomenon in the figure skating world in which skaters change the country they represent in competition.,\n",
       " A thin mortar that can be poured and used to fill cracks in masonry or brickwork)"
      ]
     },
     "execution_count": 21,
     "metadata": {},
     "output_type": "execute_result"
    }
   ],
   "source": [
    "s1.main_gloss(), s2.main_gloss()"
   ]
  },
  {
   "cell_type": "code",
   "execution_count": 22,
   "metadata": {},
   "outputs": [
    {
     "data": {
      "text/plain": [
       "0.5"
      ]
     },
     "execution_count": 22,
     "metadata": {},
     "output_type": "execute_result"
    }
   ],
   "source": [
    "wup_similarity(driver, id1_str, id2_str)"
   ]
  },
  {
   "cell_type": "code",
   "execution_count": 23,
   "metadata": {},
   "outputs": [
    {
     "data": {
      "text/plain": [
       "1.0986122886681098"
      ]
     },
     "execution_count": 23,
     "metadata": {},
     "output_type": "execute_result"
    }
   ],
   "source": [
    "lch_similarity(driver, id1_str, id2_str)"
   ]
  },
  {
   "cell_type": "code",
   "execution_count": 24,
   "metadata": {},
   "outputs": [
    {
     "name": "stdout",
     "output_type": "stream",
     "text": [
      "Country_changes_in_figure_skating\n",
      "phenomenon\n",
      "process\n",
      "physical_entity\n",
      "matter\n",
      "building_material\n",
      "grout\n"
     ]
    }
   ],
   "source": [
    "shortest_path_synsets_lemmas(driver, id1_str, id2_str)"
   ]
  },
  {
   "cell_type": "code",
   "execution_count": 52,
   "metadata": {},
   "outputs": [],
   "source": [
    "# Try to make a great quantity of comparisons\n",
    "fname = utils.get_next_logfile_number('dist_comparisons', extension='.csv')\n",
    "max_comparisons = 3\n",
    "sep = ';'\n",
    "names = sep.join(('id1', 'id2', 'lemma1', 'lemma2' 'wup', 'lch', 'path'))\n",
    "with open(fname, 'w') as f:\n",
    "    f.write(names + '\\n')\n",
    "    for _ in range(max_comparisons):\n",
    "        id1_str, id2_str = get_random_synset_id(driver), get_random_synset_id(driver) \n",
    "        id1, id2 = BabelSynsetID(id1_str), BabelSynsetID(id2_str)\n",
    "        s1, s2 = id1.to_synset(), id2.to_synset()\n",
    "        record = sep.join((id1_str, id2_str, s1.main_sense().full_lemma, s2.main_sense().full_lemma),\n",
    "                          wup_similarity(driver, id1_str, id2_str), lch_similarity(driver, id1_str, id2_str), path_similarity(driver, id1_str, id2_str))\n",
    "        f.write(record + '\\n')"
   ]
  },
  {
   "cell_type": "code",
   "execution_count": 53,
   "metadata": {},
   "outputs": [],
   "source": [
    "driver.close()"
   ]
  },
  {
   "cell_type": "code",
   "execution_count": 2,
   "metadata": {},
   "outputs": [],
   "source": [
    "import pandas as pd"
   ]
  },
  {
   "cell_type": "code",
   "execution_count": 5,
   "metadata": {},
   "outputs": [
    {
     "data": {
      "text/html": [
       "<div>\n",
       "<style scoped>\n",
       "    .dataframe tbody tr th:only-of-type {\n",
       "        vertical-align: middle;\n",
       "    }\n",
       "\n",
       "    .dataframe tbody tr th {\n",
       "        vertical-align: top;\n",
       "    }\n",
       "\n",
       "    .dataframe thead th {\n",
       "        text-align: right;\n",
       "    }\n",
       "</style>\n",
       "<table border=\"1\" class=\"dataframe\">\n",
       "  <thead>\n",
       "    <tr style=\"text-align: right;\">\n",
       "      <th></th>\n",
       "      <th>id1</th>\n",
       "      <th>id2</th>\n",
       "      <th>lemma1</th>\n",
       "      <th>lemma2</th>\n",
       "      <th>wup</th>\n",
       "      <th>lch</th>\n",
       "      <th>path</th>\n",
       "    </tr>\n",
       "  </thead>\n",
       "  <tbody>\n",
       "    <tr>\n",
       "      <th>0</th>\n",
       "      <td>bn:15653856n</td>\n",
       "      <td>bn:21384886n</td>\n",
       "      <td>Cibao_Marl</td>\n",
       "      <td>Levally_Lough</td>\n",
       "      <td>0.500000</td>\n",
       "      <td>1.504077</td>\n",
       "      <td>0.250000</td>\n",
       "    </tr>\n",
       "    <tr>\n",
       "      <th>1</th>\n",
       "      <td>bn:08864746n</td>\n",
       "      <td>bn:06947256n</td>\n",
       "      <td>Kaustifikace</td>\n",
       "      <td>Laguna_Madre_Sal</td>\n",
       "      <td>0.500000</td>\n",
       "      <td>1.098612</td>\n",
       "      <td>0.166667</td>\n",
       "    </tr>\n",
       "    <tr>\n",
       "      <th>2</th>\n",
       "      <td>bn:00081683n</td>\n",
       "      <td>bn:00075601n</td>\n",
       "      <td>wreckage</td>\n",
       "      <td>Swiss</td>\n",
       "      <td>0.500000</td>\n",
       "      <td>1.098612</td>\n",
       "      <td>0.166667</td>\n",
       "    </tr>\n",
       "    <tr>\n",
       "      <th>3</th>\n",
       "      <td>bn:00010453n</td>\n",
       "      <td>bn:00076232n</td>\n",
       "      <td>bilocation</td>\n",
       "      <td>tax_haven</td>\n",
       "      <td>0.166667</td>\n",
       "      <td>2.197225</td>\n",
       "      <td>0.500000</td>\n",
       "    </tr>\n",
       "    <tr>\n",
       "      <th>4</th>\n",
       "      <td>bn:10842407n</td>\n",
       "      <td>bn:06160422n</td>\n",
       "      <td>Parque_Comandante_Jacques_Cousteau</td>\n",
       "      <td>Высшая_мера</td>\n",
       "      <td>0.571429</td>\n",
       "      <td>0.944462</td>\n",
       "      <td>0.142857</td>\n",
       "    </tr>\n",
       "  </tbody>\n",
       "</table>\n",
       "</div>"
      ],
      "text/plain": [
       "            id1           id2                              lemma1  \\\n",
       "0  bn:15653856n  bn:21384886n                          Cibao_Marl   \n",
       "1  bn:08864746n  bn:06947256n                        Kaustifikace   \n",
       "2  bn:00081683n  bn:00075601n                            wreckage   \n",
       "3  bn:00010453n  bn:00076232n                          bilocation   \n",
       "4  bn:10842407n  bn:06160422n  Parque_Comandante_Jacques_Cousteau   \n",
       "\n",
       "             lemma2       wup       lch      path  \n",
       "0     Levally_Lough  0.500000  1.504077  0.250000  \n",
       "1  Laguna_Madre_Sal  0.500000  1.098612  0.166667  \n",
       "2             Swiss  0.500000  1.098612  0.166667  \n",
       "3         tax_haven  0.166667  2.197225  0.500000  \n",
       "4       Высшая_мера  0.571429  0.944462  0.142857  "
      ]
     },
     "execution_count": 5,
     "metadata": {},
     "output_type": "execute_result"
    }
   ],
   "source": [
    "df = pd.read_csv('../log/dist_comparisons.csv', sep=';', on_bad_lines='skip')\n",
    "df.head(5)"
   ]
  },
  {
   "cell_type": "code",
   "execution_count": 6,
   "metadata": {},
   "outputs": [],
   "source": [
    "df_sorted = df.sort_values(by=['wup', 'lch', 'path'], ascending=[True, False, False], ignore_index=True)"
   ]
  },
  {
   "cell_type": "code",
   "execution_count": 22,
   "metadata": {},
   "outputs": [
    {
     "data": {
      "text/html": [
       "<div>\n",
       "<style scoped>\n",
       "    .dataframe tbody tr th:only-of-type {\n",
       "        vertical-align: middle;\n",
       "    }\n",
       "\n",
       "    .dataframe tbody tr th {\n",
       "        vertical-align: top;\n",
       "    }\n",
       "\n",
       "    .dataframe thead th {\n",
       "        text-align: right;\n",
       "    }\n",
       "</style>\n",
       "<table border=\"1\" class=\"dataframe\">\n",
       "  <thead>\n",
       "    <tr style=\"text-align: right;\">\n",
       "      <th></th>\n",
       "      <th>id1</th>\n",
       "      <th>id2</th>\n",
       "      <th>lemma1</th>\n",
       "      <th>lemma2</th>\n",
       "      <th>wup</th>\n",
       "      <th>lch</th>\n",
       "      <th>path</th>\n",
       "    </tr>\n",
       "  </thead>\n",
       "  <tbody>\n",
       "    <tr>\n",
       "      <th>86</th>\n",
       "      <td>bn:15195477n</td>\n",
       "      <td>bn:06840746n</td>\n",
       "      <td>Junkerberg_Formation</td>\n",
       "      <td>Parque_Raposo_Tavares</td>\n",
       "      <td>0.333333</td>\n",
       "      <td>1.504077</td>\n",
       "      <td>0.250000</td>\n",
       "    </tr>\n",
       "    <tr>\n",
       "      <th>87</th>\n",
       "      <td>bn:16555208n</td>\n",
       "      <td>bn:01078384n</td>\n",
       "      <td>toxification</td>\n",
       "      <td>DIDS</td>\n",
       "      <td>0.333333</td>\n",
       "      <td>1.504077</td>\n",
       "      <td>0.250000</td>\n",
       "    </tr>\n",
       "    <tr>\n",
       "      <th>88</th>\n",
       "      <td>bn:17735781n</td>\n",
       "      <td>bn:13860463n</td>\n",
       "      <td>Sanctuary_of_the_Madonna_del_Piano,_Ausonia</td>\n",
       "      <td>Cheney_Longville_Formation</td>\n",
       "      <td>0.333333</td>\n",
       "      <td>1.504077</td>\n",
       "      <td>0.250000</td>\n",
       "    </tr>\n",
       "    <tr>\n",
       "      <th>89</th>\n",
       "      <td>bn:11683676n</td>\n",
       "      <td>bn:02031295n</td>\n",
       "      <td>Haväng</td>\n",
       "      <td>Casselman_Formation</td>\n",
       "      <td>0.333333</td>\n",
       "      <td>1.504077</td>\n",
       "      <td>0.250000</td>\n",
       "    </tr>\n",
       "    <tr>\n",
       "      <th>90</th>\n",
       "      <td>bn:16123437n</td>\n",
       "      <td>bn:07209802n</td>\n",
       "      <td>Railroad_Canyon_Beds_Formation</td>\n",
       "      <td>Gamlem</td>\n",
       "      <td>0.333333</td>\n",
       "      <td>1.504077</td>\n",
       "      <td>0.250000</td>\n",
       "    </tr>\n",
       "    <tr>\n",
       "      <th>91</th>\n",
       "      <td>bn:06947206n</td>\n",
       "      <td>bn:00058580n</td>\n",
       "      <td>Laguna_Carrillo</td>\n",
       "      <td>oceanfront</td>\n",
       "      <td>0.333333</td>\n",
       "      <td>1.504077</td>\n",
       "      <td>0.250000</td>\n",
       "    </tr>\n",
       "    <tr>\n",
       "      <th>92</th>\n",
       "      <td>bn:02161027n</td>\n",
       "      <td>bn:03084281n</td>\n",
       "      <td>Animal_suicide</td>\n",
       "      <td>Hazards_of_outdoor_activities</td>\n",
       "      <td>0.375000</td>\n",
       "      <td>1.280934</td>\n",
       "      <td>0.200000</td>\n",
       "    </tr>\n",
       "    <tr>\n",
       "      <th>93</th>\n",
       "      <td>bn:04879021n</td>\n",
       "      <td>bn:00064661n</td>\n",
       "      <td>Tournoi_de_Vannes</td>\n",
       "      <td>prohibition</td>\n",
       "      <td>0.375000</td>\n",
       "      <td>1.280934</td>\n",
       "      <td>0.200000</td>\n",
       "    </tr>\n",
       "    <tr>\n",
       "      <th>94</th>\n",
       "      <td>bn:01863551n</td>\n",
       "      <td>bn:01508021n</td>\n",
       "      <td>Executions_of_Cossacks_in_Lebedin</td>\n",
       "      <td>4'-Methoxy-α-pyrrolidinopropiophenone</td>\n",
       "      <td>0.375000</td>\n",
       "      <td>1.280934</td>\n",
       "      <td>0.200000</td>\n",
       "    </tr>\n",
       "    <tr>\n",
       "      <th>95</th>\n",
       "      <td>bn:00019762n</td>\n",
       "      <td>bn:16515760n</td>\n",
       "      <td>client</td>\n",
       "      <td>Capital_punishment_in_Luxembourg</td>\n",
       "      <td>0.375000</td>\n",
       "      <td>1.098612</td>\n",
       "      <td>0.166667</td>\n",
       "    </tr>\n",
       "    <tr>\n",
       "      <th>96</th>\n",
       "      <td>bn:11277078n</td>\n",
       "      <td>bn:00045706n</td>\n",
       "      <td>Požiar_v_Matadore_v_roku_2011</td>\n",
       "      <td>ice</td>\n",
       "      <td>0.400000</td>\n",
       "      <td>1.791759</td>\n",
       "      <td>0.333333</td>\n",
       "    </tr>\n",
       "  </tbody>\n",
       "</table>\n",
       "</div>"
      ],
      "text/plain": [
       "             id1           id2                                       lemma1  \\\n",
       "86  bn:15195477n  bn:06840746n                         Junkerberg_Formation   \n",
       "87  bn:16555208n  bn:01078384n                                 toxification   \n",
       "88  bn:17735781n  bn:13860463n  Sanctuary_of_the_Madonna_del_Piano,_Ausonia   \n",
       "89  bn:11683676n  bn:02031295n                                       Haväng   \n",
       "90  bn:16123437n  bn:07209802n               Railroad_Canyon_Beds_Formation   \n",
       "91  bn:06947206n  bn:00058580n                              Laguna_Carrillo   \n",
       "92  bn:02161027n  bn:03084281n                               Animal_suicide   \n",
       "93  bn:04879021n  bn:00064661n                            Tournoi_de_Vannes   \n",
       "94  bn:01863551n  bn:01508021n            Executions_of_Cossacks_in_Lebedin   \n",
       "95  bn:00019762n  bn:16515760n                                       client   \n",
       "96  bn:11277078n  bn:00045706n                Požiar_v_Matadore_v_roku_2011   \n",
       "\n",
       "                                   lemma2       wup       lch      path  \n",
       "86                  Parque_Raposo_Tavares  0.333333  1.504077  0.250000  \n",
       "87                                   DIDS  0.333333  1.504077  0.250000  \n",
       "88             Cheney_Longville_Formation  0.333333  1.504077  0.250000  \n",
       "89                    Casselman_Formation  0.333333  1.504077  0.250000  \n",
       "90                                 Gamlem  0.333333  1.504077  0.250000  \n",
       "91                             oceanfront  0.333333  1.504077  0.250000  \n",
       "92          Hazards_of_outdoor_activities  0.375000  1.280934  0.200000  \n",
       "93                            prohibition  0.375000  1.280934  0.200000  \n",
       "94  4'-Methoxy-α-pyrrolidinopropiophenone  0.375000  1.280934  0.200000  \n",
       "95       Capital_punishment_in_Luxembourg  0.375000  1.098612  0.166667  \n",
       "96                                    ice  0.400000  1.791759  0.333333  "
      ]
     },
     "execution_count": 22,
     "metadata": {},
     "output_type": "execute_result"
    }
   ],
   "source": [
    "i = np.random.randint(0, df_sorted.shape[0]+1)\n",
    "df_sorted.loc[i:i+10]"
   ]
  },
  {
   "cell_type": "code",
   "execution_count": 96,
   "metadata": {},
   "outputs": [
    {
     "data": {
      "text/plain": [
       "(Someone who gratifies physical appetites (especially for food and drink) with more than the usual freedom,\n",
       " Nauruans are a nation and an ethnic group indigenous to the Pacific island country of Nauru.)"
      ]
     },
     "execution_count": 96,
     "metadata": {},
     "output_type": "execute_result"
    }
   ],
   "source": [
    "i = 51\n",
    "s1, s2 = df_sorted.loc[i]['id1'], df_sorted.loc[i]['id2']\n",
    "s1, s2 = BabelSynsetID(s1).to_synset(), BabelSynsetID(s2).to_synset()\n",
    "s1.main_gloss(), s2.main_gloss()"
   ]
  },
  {
   "cell_type": "code",
   "execution_count": 97,
   "metadata": {},
   "outputs": [
    {
     "name": "stdout",
     "output_type": "stream",
     "text": [
      "free-liver\n",
      "free_agent\n",
      "person\n",
      "Nauruans\n"
     ]
    }
   ],
   "source": [
    "shortest_path_synsets_lemmas(driver, str(s1.id), str(s2.id))"
   ]
  },
  {
   "cell_type": "code",
   "execution_count": 8,
   "metadata": {},
   "outputs": [
    {
     "name": "stdout",
     "output_type": "stream",
     "text": [
      "5864 nodes with ancestor bn:00035942n of 16367 nodes, 35.83%\n"
     ]
    }
   ],
   "source": [
    "# It looks like most of nodes are some sort of geological formation, is that true?\n",
    "number_of_nodes_with_ancestor_query = \"MATCH (n:Synset)-[:IS_A*]->(ancestor:Synset {synsetID: $ancestorID}) RETURN count(n)\"\n",
    "\n",
    "with GraphDatabase.driver(URI, auth=AUTH) as driver:\n",
    "    n = driver.execute_query(number_of_nodes_with_ancestor_query, \n",
    "                         {'ancestorID': 'bn:00035942n'},\n",
    "                         result_transformer_=neo4j.Result.data)[0]['count(n)']\n",
    "    tot_nodes = driver.execute_query(count_nodes_query,                          \n",
    "                         result_transformer_=neo4j.Result.data)[0]['count(s)']\n",
    "print(f'{n} nodes with ancestor bn:00035942n of {tot_nodes} nodes, {round(n*100/tot_nodes, 2)}%')"
   ]
  }
 ],
 "metadata": {
  "kernelspec": {
   "display_name": "graphproject",
   "language": "python",
   "name": "python3"
  },
  "language_info": {
   "codemirror_mode": {
    "name": "ipython",
    "version": 3
   },
   "file_extension": ".py",
   "mimetype": "text/x-python",
   "name": "python",
   "nbconvert_exporter": "python",
   "pygments_lexer": "ipython3",
   "version": "3.8.3"
  },
  "orig_nbformat": 4
 },
 "nbformat": 4,
 "nbformat_minor": 2
}
