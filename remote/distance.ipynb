{
 "cells": [
  {
   "cell_type": "code",
   "execution_count": 39,
   "metadata": {},
   "outputs": [],
   "source": [
    "import os\n",
    "import sys\n",
    "sys.path.append(os.path.pardir)\n",
    "from utils import utils\n",
    "import time\n",
    "import pprint\n",
    "import random\n",
    "import neo4j\n",
    "from neo4j import GraphDatabase\n",
    "import babelnet as bn\n",
    "from babelnet import BabelSynsetID, Language\n",
    "from babelnet.data.relation import BabelPointer\n",
    "from zerorpc import TimeoutExpired, LostRemote"
   ]
  },
  {
   "cell_type": "code",
   "execution_count": 2,
   "metadata": {},
   "outputs": [],
   "source": [
    "URI = \"bolt://localhost:7687\"\n",
    "AUTH = (\"giovanni\", \"BabeldistGraph\")"
   ]
  },
  {
   "cell_type": "code",
   "execution_count": 34,
   "metadata": {},
   "outputs": [],
   "source": [
    "random_node_query = \"\"\"\n",
    "MATCH (a:Synset)\n",
    "RETURN a.synsetID, rand() as r \n",
    "ORDER BY r LIMIT 1\"\"\"\n",
    "\n",
    "count_nodes_query = \"\"\"\n",
    "MATCH (s:Synset)\n",
    "RETURN count(s) \"\"\"\n",
    "\n",
    "count_edges_query = \"\"\"\n",
    "MATCH ()-[r:IS_A]->()\n",
    "RETURN count(r) \"\"\"\n",
    "\n",
    "shortestPath_query = \"\"\"\n",
    "MATCH (s1:Synset {synsetID: $synsetID_1})\n",
    "MATCH (s2:Synset {synsetID: $synsetID_2})\n",
    "MATCH p = shortestPath((s1)-[:IS_A*..12]-(s2))\n",
    "RETURN p \"\"\"\n",
    "\n",
    "first_common_node_query = \"\"\"\n",
    "MATCH (s1:Synset {synsetID: $synsetID_1})\n",
    "MATCH (s2:Synset {synsetID: $synsetID_2})\n",
    "MATCH p = (s1)-[:IS_A*..5]->(common_node:Synset)<-[:IS_A*..5]-(s2) \n",
    "RETURN p, common_node \"\"\""
   ]
  },
  {
   "cell_type": "code",
   "execution_count": 55,
   "metadata": {},
   "outputs": [],
   "source": [
    "root_node_id_str = 'bn:00062164n' # physical entity"
   ]
  },
  {
   "cell_type": "code",
   "execution_count": 4,
   "metadata": {},
   "outputs": [],
   "source": [
    "driver = GraphDatabase.driver(URI, auth=AUTH)"
   ]
  },
  {
   "cell_type": "code",
   "execution_count": 46,
   "metadata": {},
   "outputs": [
    {
     "data": {
      "text/plain": [
       "('bn:18162455n', 'bn:14976259n')"
      ]
     },
     "execution_count": 46,
     "metadata": {},
     "output_type": "execute_result"
    }
   ],
   "source": [
    "id1_str = driver.execute_query(random_node_query, result_transformer_=neo4j.Result.data)\n",
    "id2_str = driver.execute_query(random_node_query, result_transformer_=neo4j.Result.data)\n",
    "id1_str, id2_str = id1_str[0]['a.synsetID'], id2_str[0]['a.synsetID']\n",
    "id1_str, id2_str"
   ]
  },
  {
   "cell_type": "code",
   "execution_count": 48,
   "metadata": {},
   "outputs": [
    {
     "data": {
      "text/plain": [
       "(236848116__WIKI:NL:Chiweta-formatie, 462268501__WIKIDATA:EN:Cupido_Formation)"
      ]
     },
     "execution_count": 48,
     "metadata": {},
     "output_type": "execute_result"
    }
   ],
   "source": [
    "id1, id2 = BabelSynsetID(id1_str), BabelSynsetID(id2_str)\n",
    "s1, s2 = id1.to_synset(), id2.to_synset()\n",
    "s1, s2"
   ]
  },
  {
   "cell_type": "code",
   "execution_count": 70,
   "metadata": {},
   "outputs": [
    {
     "data": {
      "text/plain": [
       "[{'p': [{'synsetID': 'bn:18162455n'},\n",
       "   'IS_A',\n",
       "   {'synsetID': 'bn:00035942n'},\n",
       "   'IS_A',\n",
       "   {'synsetID': 'bn:14976259n'}]}]"
      ]
     },
     "execution_count": 70,
     "metadata": {},
     "output_type": "execute_result"
    }
   ],
   "source": [
    "# SHORTEST PATH\n",
    "result = driver.execute_query(\n",
    "    shortestPath_query, \n",
    "    {'synsetID_1': id1_str,\n",
    "     'synsetID_2': id2_str},\n",
    "    database_='neo4j',\n",
    "    result_transformer_=neo4j.Result.data)\n",
    "result"
   ]
  },
  {
   "cell_type": "code",
   "execution_count": 71,
   "metadata": {},
   "outputs": [],
   "source": [
    "result = result[0]['p']"
   ]
  },
  {
   "cell_type": "code",
   "execution_count": 72,
   "metadata": {},
   "outputs": [
    {
     "name": "stdout",
     "output_type": "stream",
     "text": [
      "Chiweta-formatie\n",
      "geological_formation\n",
      "Cupido_Formation\n"
     ]
    }
   ],
   "source": [
    "for item in result:\n",
    "    if type(item) is dict and 'synsetID' in item.keys():\n",
    "        try:\n",
    "            print(BabelSynsetID(item['synsetID']).to_synset().main_sense().full_lemma)\n",
    "        except Exception as e:\n",
    "            print(e.args[0])"
   ]
  },
  {
   "cell_type": "code",
   "execution_count": 54,
   "metadata": {},
   "outputs": [
    {
     "data": {
      "text/plain": [
       "[{'p': [{'synsetID': 'bn:18162455n'},\n",
       "   'IS_A',\n",
       "   {'synsetID': 'bn:00035942n'},\n",
       "   'IS_A',\n",
       "   {'synsetID': 'bn:14976259n'}],\n",
       "  'common_node': {'synsetID': 'bn:00035942n'}}]"
      ]
     },
     "execution_count": 54,
     "metadata": {},
     "output_type": "execute_result"
    }
   ],
   "source": [
    "# LEAST COMMON SUBSUMER\n",
    "result = driver.execute_query(\n",
    "    first_common_node_query,\n",
    "    {'synsetID_1': id1_str,\n",
    "     'synsetID_2': id2_str},\n",
    "    database_='neo4j',\n",
    "    result_transformer_=neo4j.Result.data)\n",
    "result"
   ]
  },
  {
   "cell_type": "code",
   "execution_count": 56,
   "metadata": {},
   "outputs": [],
   "source": [
    "# TO-DO handle multiple paths\n",
    "result = result[0]"
   ]
  },
  {
   "cell_type": "code",
   "execution_count": 57,
   "metadata": {},
   "outputs": [
    {
     "data": {
      "text/plain": [
       "{'p': [{'synsetID': 'bn:18162455n'},\n",
       "  'IS_A',\n",
       "  {'synsetID': 'bn:00035942n'},\n",
       "  'IS_A',\n",
       "  {'synsetID': 'bn:14976259n'}],\n",
       " 'common_node': {'synsetID': 'bn:00035942n'}}"
      ]
     },
     "execution_count": 57,
     "metadata": {},
     "output_type": "execute_result"
    }
   ],
   "source": [
    "result"
   ]
  },
  {
   "cell_type": "code",
   "execution_count": 58,
   "metadata": {},
   "outputs": [
    {
     "data": {
      "text/plain": [
       "(['bn:18162455n', 'bn:00035942n', 'bn:14976259n'],\n",
       " {'synsetID': 'bn:00035942n'})"
      ]
     },
     "execution_count": 58,
     "metadata": {},
     "output_type": "execute_result"
    }
   ],
   "source": [
    "path, common_node = [s['synsetID'] for s in result['p'] if type(s) is dict], result['common_node']\n",
    "path, common_node"
   ]
  },
  {
   "cell_type": "code",
   "execution_count": 59,
   "metadata": {},
   "outputs": [
    {
     "data": {
      "text/plain": [
       "(['bn:18162455n', 'bn:00035942n'], ['bn:14976259n', 'bn:00035942n'])"
      ]
     },
     "execution_count": 59,
     "metadata": {},
     "output_type": "execute_result"
    }
   ],
   "source": [
    "from_s1 = path[0:path.index(common_node['synsetID']) + 1]\n",
    "from_s2 = path[path.index(common_node['synsetID']):]\n",
    "from_s2.reverse()\n",
    "from_s1, from_s2"
   ]
  },
  {
   "cell_type": "code",
   "execution_count": 61,
   "metadata": {},
   "outputs": [
    {
     "data": {
      "text/plain": [
       "1"
      ]
     },
     "execution_count": 61,
     "metadata": {},
     "output_type": "execute_result"
    }
   ],
   "source": [
    "lcs_depth = max([len(from_s1)-1, len(from_s2)-1])\n",
    "lcs_depth"
   ]
  },
  {
   "cell_type": "code",
   "execution_count": 66,
   "metadata": {},
   "outputs": [
    {
     "data": {
      "text/plain": [
       "3"
      ]
     },
     "execution_count": 66,
     "metadata": {},
     "output_type": "execute_result"
    }
   ],
   "source": [
    "# DISTANCE FROM ROOT NODE (PHYSICAL ENTITY)\n",
    "(dist_s1_root) = driver.execute_query(\n",
    "    shortestPath_query,\n",
    "    {'synsetID_1': id1_str,\n",
    "     'synsetID_2': root_node_id_str},\n",
    "    database_='neo4j',\n",
    "    result_transformer_=neo4j.Result.data)[0]['p'].count('IS_A')\n",
    "(dist_s1_root)"
   ]
  },
  {
   "cell_type": "code",
   "execution_count": 67,
   "metadata": {},
   "outputs": [
    {
     "data": {
      "text/plain": [
       "3"
      ]
     },
     "execution_count": 67,
     "metadata": {},
     "output_type": "execute_result"
    }
   ],
   "source": [
    "# DISTANCE FROM ROOT NODE (PHYSICAL ENTITY)\n",
    "dist_s2_root = driver.execute_query(\n",
    "    shortestPath_query,\n",
    "    {'synsetID_1': id2_str,\n",
    "     'synsetID_2': root_node_id_str},\n",
    "    database_='neo4j',\n",
    "    result_transformer_=neo4j.Result.data)[0]['p'].count('IS_A')\n",
    "dist_s2_root"
   ]
  },
  {
   "cell_type": "code",
   "execution_count": 68,
   "metadata": {},
   "outputs": [
    {
     "data": {
      "text/plain": [
       "0.16666666666666666"
      ]
     },
     "execution_count": 68,
     "metadata": {},
     "output_type": "execute_result"
    }
   ],
   "source": [
    "wup_similarity = lcs_depth / (dist_s1_root + dist_s2_root) \n",
    "wup_similarity"
   ]
  },
  {
   "cell_type": "markdown",
   "metadata": {},
   "source": [
    "With synsets 'Cupido Formation' and 'Chiweta-formatie', both geological formations, this result is good, because the wup similarity measures is lower if the two synsets are more similar."
   ]
  },
  {
   "cell_type": "code",
   "execution_count": null,
   "metadata": {},
   "outputs": [],
   "source": [
    "driver.close()"
   ]
  }
 ],
 "metadata": {
  "kernelspec": {
   "display_name": "graphproject",
   "language": "python",
   "name": "python3"
  },
  "language_info": {
   "codemirror_mode": {
    "name": "ipython",
    "version": 3
   },
   "file_extension": ".py",
   "mimetype": "text/x-python",
   "name": "python",
   "nbconvert_exporter": "python",
   "pygments_lexer": "ipython3",
   "version": "3.8.3"
  },
  "orig_nbformat": 4
 },
 "nbformat": 4,
 "nbformat_minor": 2
}
