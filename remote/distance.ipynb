{
 "cells": [
  {
   "cell_type": "code",
   "execution_count": 26,
   "metadata": {},
   "outputs": [],
   "source": [
    "import os\n",
    "import sys\n",
    "sys.path.append('..')\n",
    "from utils import utils\n",
    "import numpy as np\n",
    "\n",
    "import neo4j\n",
    "from neo4j import GraphDatabase\n",
    "\n",
    "from babelnet import BabelSynsetID, Language"
   ]
  },
  {
   "cell_type": "code",
   "execution_count": 2,
   "metadata": {},
   "outputs": [],
   "source": [
    "URI = \"bolt://localhost:7687\"\n",
    "AUTH = (\"giovanni\", \"BabeldistGraph\")"
   ]
  },
  {
   "cell_type": "code",
   "execution_count": 3,
   "metadata": {},
   "outputs": [],
   "source": [
    "random_node_query = \" MATCH (a:Synset) RETURN a.synsetID, rand() as r ORDER BY r LIMIT 1\"\n",
    "\n",
    "count_nodes_query = \" MATCH (s:Synset) RETURN count(s) \"\n",
    "count_edges_query = \" MATCH ()-[r:IS_A]->() RETURN count(r) \"\n",
    "\n",
    "shortestPath_query = \"\"\"\n",
    "MATCH (s1:Synset {synsetID: $synsetID_1})\n",
    "MATCH (s2:Synset {synsetID: $synsetID_2})\n",
    "MATCH p = shortestPath((s1)-[:IS_A*..12]-(s2))\n",
    "RETURN p \"\"\"\n",
    "\n",
    "first_common_node_query = \"\"\"\n",
    "MATCH (s1:Synset {synsetID: $synsetID_1})\n",
    "MATCH (s2:Synset {synsetID: $synsetID_2})\n",
    "MATCH p = (s1)-[:IS_A*..5]->(common_node:Synset)<-[:IS_A*..5]-(s2) \n",
    "RETURN p, common_node \"\"\"\n",
    "\n",
    "max_length_taxonomy_query = \"\"\" \n",
    "MATCH p=(root:Synset {synsetID: $root_node})<-[:IS_A*1..12]-(child:Synset) \n",
    "WHERE NOT (child)<-[:IS_A]-()\n",
    "RETURN p ORDER BY length(p) DESC LIMIT 1 \"\"\""
   ]
  },
  {
   "cell_type": "code",
   "execution_count": 4,
   "metadata": {},
   "outputs": [],
   "source": [
    "root_node_id_str = 'bn:00062164n' # physical entity"
   ]
  },
  {
   "cell_type": "code",
   "execution_count": 7,
   "metadata": {},
   "outputs": [],
   "source": [
    "def get_random_synset_id(driver):\n",
    "    return driver.execute_query(random_node_query, result_transformer_=neo4j.Result.data)[0]['a.synsetID']"
   ]
  },
  {
   "cell_type": "code",
   "execution_count": 8,
   "metadata": {},
   "outputs": [],
   "source": [
    "def get_shortest_path(driver, s1_id: str, s2_id: str):\n",
    "    return driver.execute_query(\n",
    "        shortestPath_query, \n",
    "        {'synsetID_1': s1_id,\n",
    "         'synsetID_2': s2_id},\n",
    "        database_='neo4j',\n",
    "        result_transformer_=neo4j.Result.data)"
   ]
  },
  {
   "cell_type": "code",
   "execution_count": 9,
   "metadata": {},
   "outputs": [],
   "source": [
    "def get_shortest_path_length(driver, s1_id: str, s2_id: str):\n",
    "    return get_shortest_path(driver, s1_id, s2_id)[0]['p'].count('IS_A')"
   ]
  },
  {
   "cell_type": "code",
   "execution_count": 10,
   "metadata": {},
   "outputs": [],
   "source": [
    "def shortest_path_synsets_lemmas(shortest_path):\n",
    "    for item in shortest_path:\n",
    "        if type(item) is dict and 'synsetID' in item.keys():\n",
    "            try:\n",
    "                print(BabelSynsetID(item['synsetID']).to_synset().main_sense().full_lemma)\n",
    "            except Exception as e:\n",
    "                print(e.args[0])"
   ]
  },
  {
   "cell_type": "code",
   "execution_count": 11,
   "metadata": {},
   "outputs": [],
   "source": [
    "def get_lcs_depth(driver, s1_id: str, s2_id: str):\n",
    "    result = driver.execute_query(\n",
    "        first_common_node_query,\n",
    "        {'synsetID_1': s1_id,\n",
    "         'synsetID_2': s2_id},\n",
    "        database_='neo4j',\n",
    "        result_transformer_=neo4j.Result.data)\n",
    "    \n",
    "    # TO-DO handle multiple results\n",
    "    result = result[0]\n",
    "    path, common_node = [s['synsetID'] for s in result['p'] if type(s) is dict], result['common_node']\n",
    "    \n",
    "    from_s1 = path[0:path.index(common_node['synsetID']) + 1]\n",
    "    from_s2 = path[path.index(common_node['synsetID']):]\n",
    "    return max(len(from_s1)-1, len(from_s2)-1)"
   ]
  },
  {
   "cell_type": "code",
   "execution_count": 12,
   "metadata": {},
   "outputs": [],
   "source": [
    "def get_distance_from_root_node(driver, s1_id: str):\n",
    "    return driver.execute_query(\n",
    "        shortestPath_query,\n",
    "        {'synsetID_1': s1_id,\n",
    "         'synsetID_2': root_node_id_str},\n",
    "        database_='neo4j',\n",
    "        result_transformer_=neo4j.Result.data)[0]['p'].count('IS_A')"
   ]
  },
  {
   "cell_type": "code",
   "execution_count": 13,
   "metadata": {},
   "outputs": [],
   "source": [
    "def get_max_taxonomy_length(driver, root_node_id: str):\n",
    "    return driver.execute_query(\n",
    "        max_length_taxonomy_query, \n",
    "        {'root_node': root_node_id_str},\n",
    "        result_transformer_=neo4j.Result.data)[0]['p'].count('IS_A')"
   ]
  },
  {
   "cell_type": "code",
   "execution_count": 14,
   "metadata": {},
   "outputs": [],
   "source": [
    "def wup_similarity(driver, s1_id: str, s2_id: str):\n",
    "    lcs_depth = get_lcs_depth(driver, s1_id, s2_id)\n",
    "    dist_s1_root = get_distance_from_root_node(driver, s1_id)\n",
    "    dist_s2_root = get_distance_from_root_node(driver, s2_id)\n",
    "    return lcs_depth / (dist_s1_root + dist_s2_root)"
   ]
  },
  {
   "cell_type": "code",
   "execution_count": 15,
   "metadata": {},
   "outputs": [],
   "source": [
    "def lch_similarity(driver, s1_id: str, s2_id: str):\n",
    "    d = get_max_taxonomy_length(driver, root_node_id_str)\n",
    "    sp_length = get_shortest_path_length(driver, s1_id, s2_id)\n",
    "    return -np.log(sp_length / (2 * d))"
   ]
  },
  {
   "cell_type": "code",
   "execution_count": 16,
   "metadata": {},
   "outputs": [],
   "source": [
    "def path_similarity(driver, s1_id: str, s2_id: str):\n",
    "    return 1 / get_shortest_path_length(driver, s1_id, s2_id)"
   ]
  },
  {
   "cell_type": "code",
   "execution_count": 18,
   "metadata": {},
   "outputs": [],
   "source": [
    "driver = GraphDatabase.driver(URI, auth=AUTH)"
   ]
  },
  {
   "cell_type": "code",
   "execution_count": 19,
   "metadata": {},
   "outputs": [
    {
     "data": {
      "text/plain": [
       "('bn:03724276n', 'bn:00041965n')"
      ]
     },
     "execution_count": 19,
     "metadata": {},
     "output_type": "execute_result"
    }
   ],
   "source": [
    "id1_str, id2_str = get_random_synset_id(driver), get_random_synset_id(driver) \n",
    "id1_str, id2_str"
   ]
  },
  {
   "cell_type": "code",
   "execution_count": 20,
   "metadata": {},
   "outputs": [
    {
     "data": {
      "text/plain": [
       "(77436857__WIKI:EN:Country_changes_in_figure_skating, 39088034__grout#n#1)"
      ]
     },
     "execution_count": 20,
     "metadata": {},
     "output_type": "execute_result"
    }
   ],
   "source": [
    "id1, id2 = BabelSynsetID(id1_str), BabelSynsetID(id2_str)\n",
    "s1, s2 = id1.to_synset(), id2.to_synset()\n",
    "s1, s2"
   ]
  },
  {
   "cell_type": "code",
   "execution_count": 21,
   "metadata": {},
   "outputs": [
    {
     "data": {
      "text/plain": [
       "(Country changing is a phenomenon in the figure skating world in which skaters change the country they represent in competition.,\n",
       " A thin mortar that can be poured and used to fill cracks in masonry or brickwork)"
      ]
     },
     "execution_count": 21,
     "metadata": {},
     "output_type": "execute_result"
    }
   ],
   "source": [
    "s1.main_gloss(), s2.main_gloss()"
   ]
  },
  {
   "cell_type": "code",
   "execution_count": 22,
   "metadata": {},
   "outputs": [
    {
     "data": {
      "text/plain": [
       "0.5"
      ]
     },
     "execution_count": 22,
     "metadata": {},
     "output_type": "execute_result"
    }
   ],
   "source": [
    "wup_similarity(driver, id1_str, id2_str)"
   ]
  },
  {
   "cell_type": "code",
   "execution_count": 23,
   "metadata": {},
   "outputs": [
    {
     "data": {
      "text/plain": [
       "1.0986122886681098"
      ]
     },
     "execution_count": 23,
     "metadata": {},
     "output_type": "execute_result"
    }
   ],
   "source": [
    "lch_similarity(driver, id1_str, id2_str)"
   ]
  },
  {
   "cell_type": "code",
   "execution_count": 24,
   "metadata": {},
   "outputs": [
    {
     "name": "stdout",
     "output_type": "stream",
     "text": [
      "Country_changes_in_figure_skating\n",
      "phenomenon\n",
      "process\n",
      "physical_entity\n",
      "matter\n",
      "building_material\n",
      "grout\n"
     ]
    }
   ],
   "source": [
    "shortest_path_synsets_lemmas(get_shortest_path(driver, id1_str, id2_str)[0]['p'])"
   ]
  },
  {
   "cell_type": "code",
   "execution_count": 52,
   "metadata": {},
   "outputs": [],
   "source": [
    "# Try to make a great quantity of comparisons\n",
    "fname = utils.get_current_logfile_number('dist_comparisons', extension='.csv')\n",
    "max_comparisons = 300\n",
    "names = 'id1;id2,ì;lemma1,ì;lemma2;wup;lch;path'\n",
    "with open(fname, 'w') as f:\n",
    "    f.write(names + '\\n')\n",
    "    for _ in range(max_comparisons):\n",
    "        id1_str, id2_str = get_random_synset_id(driver), get_random_synset_id(driver) \n",
    "        id1, id2 = BabelSynsetID(id1_str), BabelSynsetID(id2_str)\n",
    "        s1, s2 = id1.to_synset(), id2.to_synset()\n",
    "        record = f\"{id1_str};{id2_str};{s1.main_sense().full_lemma};{s2.main_sense().full_lemma};{wup_similarity(driver, id1_str, id2_str)};{lch_similarity(driver, id1_str, id2_str)};{path_similarity(driver, id1_str, id2_str)}\"\n",
    "        f.write(record + '\\n')"
   ]
  },
  {
   "cell_type": "code",
   "execution_count": 53,
   "metadata": {},
   "outputs": [],
   "source": [
    "driver.close()"
   ]
  },
  {
   "cell_type": "code",
   "execution_count": 54,
   "metadata": {},
   "outputs": [],
   "source": [
    "import pandas as pd"
   ]
  },
  {
   "cell_type": "code",
   "execution_count": 57,
   "metadata": {},
   "outputs": [
    {
     "data": {
      "text/html": [
       "<div>\n",
       "<style scoped>\n",
       "    .dataframe tbody tr th:only-of-type {\n",
       "        vertical-align: middle;\n",
       "    }\n",
       "\n",
       "    .dataframe tbody tr th {\n",
       "        vertical-align: top;\n",
       "    }\n",
       "\n",
       "    .dataframe thead th {\n",
       "        text-align: right;\n",
       "    }\n",
       "</style>\n",
       "<table border=\"1\" class=\"dataframe\">\n",
       "  <thead>\n",
       "    <tr style=\"text-align: right;\">\n",
       "      <th></th>\n",
       "      <th>id1</th>\n",
       "      <th>id2</th>\n",
       "      <th>lemma1</th>\n",
       "      <th>lemma2</th>\n",
       "      <th>wup</th>\n",
       "      <th>lch</th>\n",
       "      <th>path</th>\n",
       "    </tr>\n",
       "  </thead>\n",
       "  <tbody>\n",
       "    <tr>\n",
       "      <th>0</th>\n",
       "      <td>bn:15653856n</td>\n",
       "      <td>bn:21384886n</td>\n",
       "      <td>Cibao_Marl</td>\n",
       "      <td>Levally_Lough</td>\n",
       "      <td>0.500000</td>\n",
       "      <td>1.504077</td>\n",
       "      <td>0.250000</td>\n",
       "    </tr>\n",
       "    <tr>\n",
       "      <th>1</th>\n",
       "      <td>bn:08864746n</td>\n",
       "      <td>bn:06947256n</td>\n",
       "      <td>Kaustifikace</td>\n",
       "      <td>Laguna_Madre_Sal</td>\n",
       "      <td>0.500000</td>\n",
       "      <td>1.098612</td>\n",
       "      <td>0.166667</td>\n",
       "    </tr>\n",
       "    <tr>\n",
       "      <th>2</th>\n",
       "      <td>bn:00081683n</td>\n",
       "      <td>bn:00075601n</td>\n",
       "      <td>wreckage</td>\n",
       "      <td>Swiss</td>\n",
       "      <td>0.500000</td>\n",
       "      <td>1.098612</td>\n",
       "      <td>0.166667</td>\n",
       "    </tr>\n",
       "    <tr>\n",
       "      <th>3</th>\n",
       "      <td>bn:00010453n</td>\n",
       "      <td>bn:00076232n</td>\n",
       "      <td>bilocation</td>\n",
       "      <td>tax_haven</td>\n",
       "      <td>0.166667</td>\n",
       "      <td>2.197225</td>\n",
       "      <td>0.500000</td>\n",
       "    </tr>\n",
       "    <tr>\n",
       "      <th>4</th>\n",
       "      <td>bn:10842407n</td>\n",
       "      <td>bn:06160422n</td>\n",
       "      <td>Parque_Comandante_Jacques_Cousteau</td>\n",
       "      <td>Высшая_мера</td>\n",
       "      <td>0.571429</td>\n",
       "      <td>0.944462</td>\n",
       "      <td>0.142857</td>\n",
       "    </tr>\n",
       "  </tbody>\n",
       "</table>\n",
       "</div>"
      ],
      "text/plain": [
       "            id1           id2                              lemma1  \\\n",
       "0  bn:15653856n  bn:21384886n                          Cibao_Marl   \n",
       "1  bn:08864746n  bn:06947256n                        Kaustifikace   \n",
       "2  bn:00081683n  bn:00075601n                            wreckage   \n",
       "3  bn:00010453n  bn:00076232n                          bilocation   \n",
       "4  bn:10842407n  bn:06160422n  Parque_Comandante_Jacques_Cousteau   \n",
       "\n",
       "             lemma2       wup       lch      path  \n",
       "0     Levally_Lough  0.500000  1.504077  0.250000  \n",
       "1  Laguna_Madre_Sal  0.500000  1.098612  0.166667  \n",
       "2             Swiss  0.500000  1.098612  0.166667  \n",
       "3         tax_haven  0.166667  2.197225  0.500000  \n",
       "4       Высшая_мера  0.571429  0.944462  0.142857  "
      ]
     },
     "execution_count": 57,
     "metadata": {},
     "output_type": "execute_result"
    }
   ],
   "source": [
    "df = pd.read_csv('../log/dist_comparisons(2).csv', sep=';', on_bad_lines='skip')\n",
    "df.head(5)"
   ]
  },
  {
   "cell_type": "code",
   "execution_count": 93,
   "metadata": {},
   "outputs": [
    {
     "data": {
      "text/html": [
       "<div>\n",
       "<style scoped>\n",
       "    .dataframe tbody tr th:only-of-type {\n",
       "        vertical-align: middle;\n",
       "    }\n",
       "\n",
       "    .dataframe tbody tr th {\n",
       "        vertical-align: top;\n",
       "    }\n",
       "\n",
       "    .dataframe thead th {\n",
       "        text-align: right;\n",
       "    }\n",
       "</style>\n",
       "<table border=\"1\" class=\"dataframe\">\n",
       "  <thead>\n",
       "    <tr style=\"text-align: right;\">\n",
       "      <th></th>\n",
       "      <th>id1</th>\n",
       "      <th>id2</th>\n",
       "      <th>lemma1</th>\n",
       "      <th>lemma2</th>\n",
       "      <th>wup</th>\n",
       "      <th>lch</th>\n",
       "      <th>path</th>\n",
       "    </tr>\n",
       "  </thead>\n",
       "  <tbody>\n",
       "    <tr>\n",
       "      <th>50</th>\n",
       "      <td>bn:16691461n</td>\n",
       "      <td>bn:00599215n</td>\n",
       "      <td>Punctate_hemorrhage</td>\n",
       "      <td>Capital_punishment_in_Ireland</td>\n",
       "      <td>0.250000</td>\n",
       "      <td>1.504077</td>\n",
       "      <td>0.250000</td>\n",
       "    </tr>\n",
       "    <tr>\n",
       "      <th>51</th>\n",
       "      <td>bn:00036336n</td>\n",
       "      <td>bn:03280763n</td>\n",
       "      <td>free-liver</td>\n",
       "      <td>Nauruans</td>\n",
       "      <td>0.285714</td>\n",
       "      <td>1.791759</td>\n",
       "      <td>0.333333</td>\n",
       "    </tr>\n",
       "    <tr>\n",
       "      <th>52</th>\n",
       "      <td>bn:00022611n</td>\n",
       "      <td>bn:00001157n</td>\n",
       "      <td>Cordoba</td>\n",
       "      <td>active</td>\n",
       "      <td>0.285714</td>\n",
       "      <td>1.791759</td>\n",
       "      <td>0.333333</td>\n",
       "    </tr>\n",
       "    <tr>\n",
       "      <th>53</th>\n",
       "      <td>bn:07524412n</td>\n",
       "      <td>bn:01122624n</td>\n",
       "      <td>Wessely–Moser重排反应</td>\n",
       "      <td>Carbidopa/levodopa/entacapone</td>\n",
       "      <td>0.333333</td>\n",
       "      <td>1.504077</td>\n",
       "      <td>0.250000</td>\n",
       "    </tr>\n",
       "    <tr>\n",
       "      <th>54</th>\n",
       "      <td>bn:00159465n</td>\n",
       "      <td>bn:04598221n</td>\n",
       "      <td>Hypohalite</td>\n",
       "      <td>Diazotació</td>\n",
       "      <td>0.333333</td>\n",
       "      <td>1.504077</td>\n",
       "      <td>0.250000</td>\n",
       "    </tr>\n",
       "    <tr>\n",
       "      <th>55</th>\n",
       "      <td>bn:17554395n</td>\n",
       "      <td>bn:16178625n</td>\n",
       "      <td>Santo_Rosario,_Comacchio</td>\n",
       "      <td>Hungry_Valley_Formation</td>\n",
       "      <td>0.333333</td>\n",
       "      <td>1.504077</td>\n",
       "      <td>0.250000</td>\n",
       "    </tr>\n",
       "    <tr>\n",
       "      <th>56</th>\n",
       "      <td>bn:15479792n</td>\n",
       "      <td>bn:09261058n</td>\n",
       "      <td>Slade_Mudstone</td>\n",
       "      <td>Bolungavík</td>\n",
       "      <td>0.333333</td>\n",
       "      <td>1.504077</td>\n",
       "      <td>0.250000</td>\n",
       "    </tr>\n",
       "    <tr>\n",
       "      <th>57</th>\n",
       "      <td>bn:00142897n</td>\n",
       "      <td>bn:15196798n</td>\n",
       "      <td>Meeting_point</td>\n",
       "      <td>Rögling_Formation</td>\n",
       "      <td>0.333333</td>\n",
       "      <td>1.504077</td>\n",
       "      <td>0.250000</td>\n",
       "    </tr>\n",
       "    <tr>\n",
       "      <th>58</th>\n",
       "      <td>bn:15478915n</td>\n",
       "      <td>bn:10743150n</td>\n",
       "      <td>Blaencediw_Formation</td>\n",
       "      <td>Parque_Rio_das_Pedras</td>\n",
       "      <td>0.333333</td>\n",
       "      <td>1.504077</td>\n",
       "      <td>0.250000</td>\n",
       "    </tr>\n",
       "    <tr>\n",
       "      <th>59</th>\n",
       "      <td>bn:15819917n</td>\n",
       "      <td>bn:01556469n</td>\n",
       "      <td>Sekmenevka_Formation</td>\n",
       "      <td>Land_of_Nod</td>\n",
       "      <td>0.333333</td>\n",
       "      <td>1.504077</td>\n",
       "      <td>0.250000</td>\n",
       "    </tr>\n",
       "    <tr>\n",
       "      <th>60</th>\n",
       "      <td>bn:17711725n</td>\n",
       "      <td>bn:06947243n</td>\n",
       "      <td>Ranquil_Formation</td>\n",
       "      <td>Laguna_Ixpatz</td>\n",
       "      <td>0.333333</td>\n",
       "      <td>1.504077</td>\n",
       "      <td>0.250000</td>\n",
       "    </tr>\n",
       "  </tbody>\n",
       "</table>\n",
       "</div>"
      ],
      "text/plain": [
       "             id1           id2                    lemma1  \\\n",
       "50  bn:16691461n  bn:00599215n       Punctate_hemorrhage   \n",
       "51  bn:00036336n  bn:03280763n                free-liver   \n",
       "52  bn:00022611n  bn:00001157n                   Cordoba   \n",
       "53  bn:07524412n  bn:01122624n         Wessely–Moser重排反应   \n",
       "54  bn:00159465n  bn:04598221n                Hypohalite   \n",
       "55  bn:17554395n  bn:16178625n  Santo_Rosario,_Comacchio   \n",
       "56  bn:15479792n  bn:09261058n            Slade_Mudstone   \n",
       "57  bn:00142897n  bn:15196798n             Meeting_point   \n",
       "58  bn:15478915n  bn:10743150n      Blaencediw_Formation   \n",
       "59  bn:15819917n  bn:01556469n      Sekmenevka_Formation   \n",
       "60  bn:17711725n  bn:06947243n         Ranquil_Formation   \n",
       "\n",
       "                           lemma2       wup       lch      path  \n",
       "50  Capital_punishment_in_Ireland  0.250000  1.504077  0.250000  \n",
       "51                       Nauruans  0.285714  1.791759  0.333333  \n",
       "52                         active  0.285714  1.791759  0.333333  \n",
       "53  Carbidopa/levodopa/entacapone  0.333333  1.504077  0.250000  \n",
       "54                     Diazotació  0.333333  1.504077  0.250000  \n",
       "55        Hungry_Valley_Formation  0.333333  1.504077  0.250000  \n",
       "56                     Bolungavík  0.333333  1.504077  0.250000  \n",
       "57              Rögling_Formation  0.333333  1.504077  0.250000  \n",
       "58          Parque_Rio_das_Pedras  0.333333  1.504077  0.250000  \n",
       "59                    Land_of_Nod  0.333333  1.504077  0.250000  \n",
       "60                  Laguna_Ixpatz  0.333333  1.504077  0.250000  "
      ]
     },
     "execution_count": 93,
     "metadata": {},
     "output_type": "execute_result"
    }
   ],
   "source": [
    "df_sorted = df.sort_values(by=['wup', 'lch', 'path'], ascending=[True, False, False], ignore_index=True)\n",
    "df_sorted.loc[50:60]"
   ]
  },
  {
   "cell_type": "code",
   "execution_count": 96,
   "metadata": {},
   "outputs": [
    {
     "data": {
      "text/plain": [
       "(Someone who gratifies physical appetites (especially for food and drink) with more than the usual freedom,\n",
       " Nauruans are a nation and an ethnic group indigenous to the Pacific island country of Nauru.)"
      ]
     },
     "execution_count": 96,
     "metadata": {},
     "output_type": "execute_result"
    }
   ],
   "source": [
    "i = 51\n",
    "s1, s2 = df_sorted.loc[i]['id1'], df_sorted.loc[i]['id2']\n",
    "s1, s2 = BabelSynsetID(s1).to_synset(), BabelSynsetID(s2).to_synset()\n",
    "s1.main_gloss(), s2.main_gloss()"
   ]
  },
  {
   "cell_type": "code",
   "execution_count": 97,
   "metadata": {},
   "outputs": [
    {
     "name": "stdout",
     "output_type": "stream",
     "text": [
      "free-liver\n",
      "free_agent\n",
      "person\n",
      "Nauruans\n"
     ]
    }
   ],
   "source": [
    "shortest_path_synsets_lemmas(get_shortest_path(driver, str(s1.id), str(s2.id))[0]['p'])"
   ]
  }
 ],
 "metadata": {
  "kernelspec": {
   "display_name": "graphproject",
   "language": "python",
   "name": "python3"
  },
  "language_info": {
   "codemirror_mode": {
    "name": "ipython",
    "version": 3
   },
   "file_extension": ".py",
   "mimetype": "text/x-python",
   "name": "python",
   "nbconvert_exporter": "python",
   "pygments_lexer": "ipython3",
   "version": "3.8.3"
  },
  "orig_nbformat": 4
 },
 "nbformat": 4,
 "nbformat_minor": 2
}
