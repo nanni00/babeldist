{
 "cells": [
  {
   "cell_type": "code",
   "execution_count": null,
   "id": "dac8371c",
   "metadata": {},
   "outputs": [],
   "source": [
    "import babelnet as bn\n",
    "from babelnet import BabelSynsetID, Language\n",
    "from babelnet.data.relation import BabelPointer"
   ]
  },
  {
   "cell_type": "code",
   "execution_count": 2,
   "id": "91c933c9",
   "metadata": {},
   "outputs": [
    {
     "data": {
      "text/plain": [
       "5.0"
      ]
     },
     "execution_count": 2,
     "metadata": {},
     "output_type": "execute_result"
    }
   ],
   "source": [
    "bn.version()"
   ]
  },
  {
   "cell_type": "code",
   "execution_count": 4,
   "id": "415f615f",
   "metadata": {},
   "outputs": [],
   "source": [
    "from zerorpc import TimeoutExpired, LostRemote"
   ]
  },
  {
   "cell_type": "code",
   "execution_count": null,
   "id": "7216efaa",
   "metadata": {},
   "outputs": [],
   "source": [
    "s1 = bn.get_synset(BabelSynsetID('bn:00012605n')) # watchband\n",
    "s2 = bn.get_synset(BabelSynsetID('bn:00019887n')) # clock"
   ]
  },
  {
   "cell_type": "code",
   "execution_count": null,
   "id": "6ab2a4d9",
   "metadata": {},
   "outputs": [],
   "source": [
    "t1 = bn.get_synset(BabelSynsetID('bn:02617074n')) # console (videogiochi)\n",
    "t2 = bn.get_synset(BabelSynsetID('bn:15625318n')) # Playstation 4"
   ]
  },
  {
   "cell_type": "code",
   "execution_count": 6,
   "id": "10a161ef",
   "metadata": {},
   "outputs": [],
   "source": [
    "r1 = bn.get_synset(BabelSynsetID('bn:00008350n')) # braccialetto\n",
    "r2 = bn.get_synset(BabelSynsetID('bn:00023240n')) # casa di campagna"
   ]
  },
  {
   "cell_type": "code",
   "execution_count": 9,
   "id": "7429ae9b",
   "metadata": {},
   "outputs": [],
   "source": [
    "import time\n",
    "import sys\n",
    "sys.path.append('../')\n",
    "from utils.utils import get_current_logfile_number"
   ]
  },
  {
   "cell_type": "code",
   "execution_count": 10,
   "id": "92b7fa96",
   "metadata": {},
   "outputs": [
    {
     "name": "stdout",
     "output_type": "stream",
     "text": [
      "Queue empty\n"
     ]
    }
   ],
   "source": [
    "# Ricerca stile BFS\n",
    "# Tempi di computazione eccessivi oltre il secondo livello di profondità dal nodo sorgente, >5/10 min,\n",
    "# crescita esponenziale (forse tempo di risposta del server troppo elevato, ma comunque metodo inefficente)\n",
    "logfname = get_current_logfile_number('search_path')\n",
    "\n",
    "timestamp_n, timestamp_step = 1, 1\n",
    "max_length, n = 8, 0\n",
    "visited = set()\n",
    "q = [(r1,n)]\n",
    "target = r2.id\n",
    "\n",
    "start_t = time.time()\n",
    "with open(logfname, 'w') as logfile:\n",
    "    while q and n < max_length:\n",
    "        synset, n = q.pop(0)\n",
    "        if n == timestamp_n:\n",
    "            timestamp_n += timestamp_step\n",
    "            end_t = time.time()\n",
    "            min, sec = divmod(end_t - start_t, 60)\n",
    "            print(f'{n}: {int(min)}m,{int(sec)}s')\n",
    "\n",
    "        try:\n",
    "            edges = synset.outgoing_edges(BabelPointer.ANY_HYPERNYM, BabelPointer.ANY_HYPONYM)\n",
    "        except LostRemote as lr:\n",
    "            logfile.write(f'LostRemote,{synset.id}\\n')\n",
    "            edges = []\n",
    "\n",
    "        for edge in edges:\n",
    "            if edge.id_target == target:\n",
    "                print(f'Reached target at depth {n+1}')\n",
    "                logfile.write(f'Reached target at depth {n+1}')\n",
    "                end_t = time.time()\n",
    "                min, sec = divmod(end_t - start_t, 60)\n",
    "                print(f'Total time: {int(min)}m,{int(sec)}s')\n",
    "                n = max_length+1\n",
    "                break\n",
    "\n",
    "            if edge.id_target not in visited:\n",
    "                try:\n",
    "                    visited.add(edge.id_target)\n",
    "                    q.append((bn.get_synset(edge.id_target), n+1))\n",
    "                except TimeoutExpired as te:\n",
    "                    logfile.write(f'TimeoutExpired,{synset.id}\\n')\n",
    "                except LostRemote as lr:\n",
    "                    logfile.write(f'LostRemote,{synset.id}\\n')\n",
    "\n",
    "        if n == max_length: print('Reached max length.')\n",
    "    if q == []: print('Queue empty')\n"
   ]
  },
  {
   "cell_type": "code",
   "execution_count": null,
   "id": "3accad03",
   "metadata": {},
   "outputs": [],
   "source": []
  }
 ],
 "metadata": {
  "kernelspec": {
   "display_name": "Python 3 (ipykernel)",
   "language": "python",
   "name": "python3"
  },
  "language_info": {
   "codemirror_mode": {
    "name": "ipython",
    "version": 3
   },
   "file_extension": ".py",
   "mimetype": "text/x-python",
   "name": "python",
   "nbconvert_exporter": "python",
   "pygments_lexer": "ipython3",
   "version": "3.8.3"
  }
 },
 "nbformat": 4,
 "nbformat_minor": 5
}
