{
 "cells": [
  {
   "cell_type": "code",
   "execution_count": 1,
   "id": "dac8371c",
   "metadata": {},
   "outputs": [
    {
     "name": "stderr",
     "output_type": "stream",
     "text": [
      "2023-08-30 17:45:18,399 [babelnet.conf] INFO: Loaded configuration from ['C:\\\\Users\\\\user\\\\Desktop\\\\Universita\\\\Dottorato\\\\Technical Topics\\\\Entity Linking\\\\babelnet_conf.yml']\n",
      "2023-08-30 17:45:18,405 [babelnet.api] INFO: BabelNet Remote Procedure Call API v1.1.0\n"
     ]
    }
   ],
   "source": [
    "import babelnet as bn\n",
    "from babelnet import BabelSynsetID, Language\n",
    "from babelnet.data.relation import BabelPointer"
   ]
  },
  {
   "cell_type": "markdown",
   "id": "9e9bc81a",
   "metadata": {},
   "source": [
    "Al seguente link si trova la documentazione della libreria per interfacciarsi con babelnet: https://babelnet.org/guide.\n",
    "\n",
    "Di seguito è riportato un esempio per l'estrazione dei synset in cui rientra la parola \"macchina\""
   ]
  },
  {
   "cell_type": "code",
   "execution_count": 2,
   "id": "1b686f2f",
   "metadata": {
    "scrolled": true
   },
   "outputs": [],
   "source": [
    "byl = bn.get_synsets('macchina', from_langs=[Language.IT])"
   ]
  },
  {
   "cell_type": "code",
   "execution_count": 3,
   "id": "d41ff423",
   "metadata": {},
   "outputs": [
    {
     "data": {
      "text/plain": [
       "[34264311__machine#n#5,\n",
       " 34267199__machinery#n#1,\n",
       " 38681567__device#n#1,\n",
       " 8103040__car#n#1,\n",
       " 89578409__WIKI:EN:Bare_machine,\n",
       " 88456794__WIKI:EN:Machine_(patent),\n",
       " 31366871__mechanical_device#n#1,\n",
       " 31366928__WIKI:EN:machine,\n",
       " 45008076__locomotive#n#1,\n",
       " 34263795__machine#n#1,\n",
       " 34263939__machine#n#2]"
      ]
     },
     "execution_count": 3,
     "metadata": {},
     "output_type": "execute_result"
    }
   ],
   "source": [
    "byl"
   ]
  },
  {
   "cell_type": "markdown",
   "id": "bd3dac87",
   "metadata": {},
   "source": [
    "Prendiamo uno dei synset estratti e ne cerchiamo tutti gli iperonimi"
   ]
  },
  {
   "cell_type": "code",
   "execution_count": 4,
   "id": "371c2c9f",
   "metadata": {},
   "outputs": [],
   "source": [
    "synset = byl[0]"
   ]
  },
  {
   "cell_type": "code",
   "execution_count": 5,
   "id": "4183a5ce",
   "metadata": {},
   "outputs": [
    {
     "name": "stdout",
     "output_type": "stream",
     "text": [
      "bn:00052560n\tmacchina - hypernym - bn:00059480n\n",
      "bn:00052560n\tmacchina - subclass_of - bn:16343778n\n",
      "bn:00052560n\tmacchina - hypernym - bn:00074224n\n",
      "bn:00052560n\tmacchina - hypernym - bn:00059480n\n"
     ]
    }
   ],
   "source": [
    "for edge in synset.outgoing_edges(BabelPointer.ANY_HYPERNYM):\n",
    "    print(str(synset.id) + '\\t' + synset.main_sense(Language.IT).full_lemma,\n",
    "          edge.pointer, edge.id_target, sep=' - ')"
   ]
  },
  {
   "cell_type": "code",
   "execution_count": null,
   "id": "ff4dbbc9",
   "metadata": {},
   "outputs": [],
   "source": []
  },
  {
   "cell_type": "code",
   "execution_count": null,
   "id": "fcff7341",
   "metadata": {},
   "outputs": [],
   "source": []
  },
  {
   "cell_type": "code",
   "execution_count": null,
   "id": "10f033df",
   "metadata": {},
   "outputs": [],
   "source": []
  },
  {
   "cell_type": "code",
   "execution_count": null,
   "id": "4d7e61d0",
   "metadata": {},
   "outputs": [],
   "source": []
  },
  {
   "cell_type": "code",
   "execution_count": null,
   "id": "63696c69",
   "metadata": {},
   "outputs": [],
   "source": []
  }
 ],
 "metadata": {
  "kernelspec": {
   "display_name": "Python 3 (ipykernel)",
   "language": "python",
   "name": "python3"
  },
  "language_info": {
   "codemirror_mode": {
    "name": "ipython",
    "version": 3
   },
   "file_extension": ".py",
   "mimetype": "text/x-python",
   "name": "python",
   "nbconvert_exporter": "python",
   "pygments_lexer": "ipython3",
   "version": "3.8.2"
  }
 },
 "nbformat": 4,
 "nbformat_minor": 5
}
