{
 "cells": [
  {
   "cell_type": "code",
   "execution_count": 22,
   "id": "dac8371c",
   "metadata": {},
   "outputs": [],
   "source": [
    "import babelnet as bn\n",
    "from babelnet import BabelSynsetID, Language\n",
    "from babelnet.data.relation import BabelPointer"
   ]
  },
  {
   "cell_type": "code",
   "execution_count": 23,
   "id": "e757793e",
   "metadata": {},
   "outputs": [],
   "source": [
    "from  zerorpc import TimeoutExpired, LostRemote"
   ]
  },
  {
   "cell_type": "code",
   "execution_count": 24,
   "id": "be5b87b7",
   "metadata": {},
   "outputs": [
    {
     "data": {
      "text/plain": [
       "5.0"
      ]
     },
     "execution_count": 24,
     "metadata": {},
     "output_type": "execute_result"
    }
   ],
   "source": [
    "bn.version()"
   ]
  },
  {
   "cell_type": "markdown",
   "id": "9e9bc81a",
   "metadata": {},
   "source": [
    "Al seguente link si trova la documentazione della libreria per interfacciarsi con babelnet: https://babelnet.org/guide."
   ]
  },
  {
   "cell_type": "code",
   "execution_count": 6,
   "id": "f8671ed3",
   "metadata": {},
   "outputs": [
    {
     "name": "stdout",
     "output_type": "stream",
     "text": [
      "Possible root node: bn:00076248n\n"
     ]
    },
    {
     "name": "stderr",
     "output_type": "stream",
     "text": [
      "2023-08-31 18:00:38,142 [zerorpc.channel] WARNING: zerorpc.ChannelMultiplexer, unable to route event: <b''> OK {'message_id': b'4af6268fc4ea4022987c96d45de91046', 'v': 3, 'response_to': b'f9908e3a0bda40edacb0c30774ab3c07'} [...]\n"
     ]
    },
    {
     "name": "stdout",
     "output_type": "stream",
     "text": [
      "Possible root node: bn:00044576n\n",
      "Possible root node: bn:00064608n\n"
     ]
    },
    {
     "name": "stderr",
     "output_type": "stream",
     "text": [
      "2023-08-31 18:05:09,604 [zerorpc.channel] WARNING: zerorpc.ChannelMultiplexer, unable to route event: <b''> OK {'message_id': b'4af6279ac4ea4022987c96d45de91046', 'v': 3, 'response_to': b'f9908f460bda40edacb0c30774ab3c07'} [...]\n",
      "2023-08-31 18:05:10,780 [zerorpc.channel] WARNING: zerorpc.ChannelMultiplexer, unable to route event: <b''> OK {'message_id': b'4af6279bc4ea4022987c96d45de91046', 'v': 3, 'response_to': b'f9908f480bda40edacb0c30774ab3c07'} [...]\n"
     ]
    },
    {
     "name": "stdout",
     "output_type": "stream",
     "text": [
      "Possible root node: bn:14481752n\n",
      "Possible root node: bn:00248578n\n",
      "Possible root node: bn:04751152n\n",
      "Possible root node: bn:16932101n\n",
      "Possible root node: bn:00031027n\n",
      "Possible root node: bn:21705963n\n",
      "Possible root node: bn:04889559n\n",
      "Possible root node: bn:14685380n\n",
      "Possible root node: bn:03245758n\n",
      "Possible root node: bn:01027542n\n",
      "Possible root node: bn:02636022n\n",
      "Possible root node: bn:00894769n\n",
      "Possible root node: bn:15921369n\n",
      "Possible root node: bn:04591277n\n",
      "Possible root node: bn:06171637n\n",
      "Possible root node: bn:03758703n\n",
      "Possible root node: bn:01404775n\n",
      "Possible root node: bn:06162070n\n",
      "Possible root node: bn:00234465n\n",
      "Possible root node: bn:15090031n\n",
      "Possible root node: bn:07669899n\n",
      "Possible root node: bn:00218497n\n",
      "Possible root node: bn:02936056n\n",
      "Possible root node: bn:02638689n\n",
      "Possible root node: bn:06429342n\n",
      "Possible root node: bn:07129841n\n",
      "Possible root node: bn:03843033n\n",
      "Possible root node: bn:17690782n\n",
      "Possible root node: bn:05749505n\n",
      "Possible root node: bn:06760533n\n",
      "Possible root node: bn:08840460n\n",
      "Possible root node: bn:03294734n\n",
      "Possible root node: bn:14792426n\n",
      "Possible root node: bn:02476581n\n",
      "Possible root node: bn:05448740n\n",
      "Possible root node: bn:04102751n\n",
      "Possible root node: bn:16751423n\n",
      "Possible root node: bn:03793132n\n",
      "Possible root node: bn:08479384n\n",
      "Possible root node: bn:27268796n\n",
      "Possible root node: bn:16547583n\n",
      "Possible root node: bn:14505599n\n",
      "Possible root node: bn:02787617n\n",
      "Possible root node: bn:07056757n\n",
      "Possible root node: bn:14577629n\n",
      "Possible root node: bn:15113939n\n",
      "Possible root node: bn:04900484n\n"
     ]
    }
   ],
   "source": [
    "# basic BFS \n",
    "visited = set()\n",
    "\n",
    "max_visits, n = 20000, 0\n",
    "root = bn.get_synset(BabelSynsetID('bn:00015267n'))\n",
    "q = [root]\n",
    "\n",
    "with open('no_hypernyms.txt', 'w') as nohypfile:\n",
    "    while q and n <= max_visits:\n",
    "        synset = q.pop(0)\n",
    "        n += 1\n",
    "        hypernym_edges = synset.outgoing_edges(BabelPointer.ANY_HYPERNYM)\n",
    "        if hypernym_edges == []:\n",
    "            print(f'Possible root node: {synset.id}')\n",
    "            nohypfile.write(f'{str(synset.id)},{synset.main_sense().full_lemma}\\n')\n",
    "        for edge in hypernym_edges:\n",
    "            if edge.id_target not in visited:\n",
    "                q.append(bn.get_synset(edge.id_target))\n",
    "                visited.add(edge.id_target)"
   ]
  },
  {
   "cell_type": "code",
   "execution_count": 16,
   "id": "74e0543b",
   "metadata": {},
   "outputs": [
    {
     "name": "stdout",
     "output_type": "stream",
     "text": [
      "bn:00064608n,profession,5697,5\n",
      "bn:14481752n,field_of_study,77,0\n",
      "bn:00248578n,Trade_literature,22,0\n",
      "bn:04751152n,production_center,7,0\n",
      "bn:16932101n,routine,140,0\n",
      "bn:00031027n,entity,18,0\n",
      "bn:21705963n,Religious_calling,46,0\n",
      "bn:04889559n,flow_of_matter_and_energy,22,0\n",
      "bn:14685380n,resource,200,0\n",
      "bn:03245758n,engineering_process,512,0\n",
      "bn:01027542n,source_of_information,164,0\n",
      "bn:02636022n,Thermodynamic_process,427,0\n",
      "bn:00894769n,task_(computing),40,0\n",
      "bn:15921369n,adaptation,14,0\n",
      "bn:04591277n,Work_(human_activity),224,0\n",
      "bn:06171637n,signaling_system,66,0\n",
      "bn:03758703n,Mutual_intelligibility,571,0\n",
      "bn:01404775n,Subatomic_particle,843,0\n",
      "bn:06162070n,format,24,0\n",
      "bn:00234465n,Unordered_pair,58,0\n",
      "bn:15090031n,posture,424,0\n",
      "bn:07669899n,suprasegmental,75,0\n",
      "bn:00218497n,Identity_formation,77,0\n",
      "bn:02936056n,Cellular_component,365,0\n",
      "bn:02638689n,Course_(medicine),169,0\n",
      "bn:06429342n,Dokument_normatywny,5,0\n",
      "bn:07129841n,classification_of_languages,261,0\n",
      "bn:03843033n,Challenge_(TV_channel),513,0\n",
      "bn:17690782n,Constant-recursive_sequence,112,0\n",
      "bn:05749505n,psychological_phenomenon,16,0\n",
      "bn:06760533n,administrative_type,27,0\n",
      "bn:08840460n,Ufficio_(diritto),51,0\n",
      "bn:03294734n,Social_influence,728,0\n",
      "bn:14792426n,Transformació_de_la_matèria,40,0\n",
      "bn:02476581n,Standard_of_deferred_payment,32,0\n",
      "bn:05448740n,Species_(metaphysics),27,0\n",
      "bn:04102751n,Funktsioon_(filosoofia),65,0\n",
      "bn:16751423n,Atto_processuale,23,0\n",
      "bn:03793132n,Balance_transfer,12,0\n",
      "bn:08479384n,triad,282,0\n",
      "bn:27268796n,spirit,2081,0\n",
      "bn:16547583n,Origination_(telephony),18,0\n",
      "bn:14505599n,income,756,0\n",
      "bn:02787617n,Niche_real_estate,96,0\n",
      "bn:07056757n,phase_of_human_life,23,0\n",
      "bn:14577629n,Acknowledgment_(creative_arts_and_sciences),132,0\n",
      "bn:15113939n,legal_responsibility,6,0\n",
      "bn:04900484n,تدقيق_خارجي,109,0\n"
     ]
    }
   ],
   "source": [
    "for id_lemma in open('no_hypernyms.txt', 'r').readlines()[2:]:\n",
    "    id, lemma = id_lemma.strip().split(',')\n",
    "    synset = bn.get_synset(BabelSynsetID(id))\n",
    "    print(f'{id},{lemma},{len(synset.outgoing_edges())},{len(synset.outgoing_edges(BabelPointer.ANY_HYPERNYM))}')"
   ]
  },
  {
   "cell_type": "code",
   "execution_count": 15,
   "id": "e4a16923",
   "metadata": {},
   "outputs": [
    {
     "data": {
      "text/plain": [
       "[EN_wn2020@_bn:00014138n,\n",
       " MUL_wdp279_bn:00014138n,\n",
       " EN_@_bn:00014138n,\n",
       " EN_@w_bn:21705963n,\n",
       " SQ_@w_bn:00064608n]"
      ]
     },
     "execution_count": 15,
     "metadata": {},
     "output_type": "execute_result"
    }
   ],
   "source": [
    "profession = bn.get_synset(BabelSynsetID('bn:00064608n'))\n",
    "profession.outgoing_edges(BabelPointer.ANY_HYPERNYM)"
   ]
  },
  {
   "cell_type": "code",
   "execution_count": 17,
   "id": "a5feddb3",
   "metadata": {},
   "outputs": [
    {
     "name": "stdout",
     "output_type": "stream",
     "text": [
      "0\n"
     ]
    }
   ],
   "source": [
    "taxgroup = bn.get_synset(BabelSynsetID('bn:00076248n'))\n",
    "print(len(taxgroup.outgoing_edges(BabelPointer.ANY_HYPERNYM)))"
   ]
  },
  {
   "cell_type": "code",
   "execution_count": 18,
   "id": "ae01dc04",
   "metadata": {},
   "outputs": [
    {
     "name": "stderr",
     "output_type": "stream",
     "text": [
      "2023-08-31 19:19:18,130 [zerorpc.channel] WARNING: zerorpc.ChannelMultiplexer, unable to route event: <b''> OK {'message_id': b'4af63c47c4ea4022987c96d45de91046', 'v': 3, 'response_to': b'f990a3f50bda40edacb0c30774ab3c07'} [...]\n"
     ]
    },
    {
     "name": "stdout",
     "output_type": "stream",
     "text": [
      "0\n"
     ]
    }
   ],
   "source": [
    "homo = bn.get_synset(BabelSynsetID('bn:00044576n'))\n",
    "print(len(homo.outgoing_edges(BabelPointer.ANY_HYPERNYM)))"
   ]
  },
  {
   "cell_type": "code",
   "execution_count": 5,
   "id": "7216efaa",
   "metadata": {},
   "outputs": [],
   "source": [
    "### find distance between synsets A and B in the graph (which is not a tree...)\n",
    "\n",
    "s1 = bn.get_synset(BabelSynsetID('bn:00012605n')) # watchband\n",
    "s2 = bn.get_synset(BabelSynsetID('bn:00019887n')) # clock"
   ]
  },
  {
   "cell_type": "code",
   "execution_count": 6,
   "id": "988b4309",
   "metadata": {},
   "outputs": [
    {
     "data": {
      "text/plain": [
       "('watchband', 'clock')"
      ]
     },
     "execution_count": 6,
     "metadata": {},
     "output_type": "execute_result"
    }
   ],
   "source": [
    "s1.main_sense().full_lemma, s2.main_sense().full_lemma"
   ]
  },
  {
   "cell_type": "code",
   "execution_count": 7,
   "id": "2c441054",
   "metadata": {},
   "outputs": [
    {
     "data": {
      "text/plain": [
       "(A band of cloth or leather or metal links attached to a wristwatch and wrapped around the wrist,\n",
       " A timepiece that shows the time of day)"
      ]
     },
     "execution_count": 7,
     "metadata": {},
     "output_type": "execute_result"
    }
   ],
   "source": [
    "s1.main_gloss(), s2.main_gloss()"
   ]
  },
  {
   "cell_type": "code",
   "execution_count": 25,
   "id": "c9ccd39a",
   "metadata": {},
   "outputs": [
    {
     "name": "stderr",
     "output_type": "stream",
     "text": [
      "2023-09-01 11:35:43,101 [zerorpc.channel] WARNING: zerorpc.ChannelMultiplexer, unable to route event: <b''> OK {'message_id': b'4af64e64c4ea4022987c96d45de91046', 'v': 3, 'response_to': b'b83e755d2c98496d934c098cb0323231'} [...]\n"
     ]
    },
    {
     "name": "stdout",
     "output_type": "stream",
     "text": [
      "LostRemote error with synset bn:15125301n\n",
      "LostRemote error with synset bn:15125301n\n",
      "LostRemote error with synset bn:01236190n\n",
      "LostRemote error with synset bn:01236190n\n",
      "LostRemote error with synset bn:00048027n\n",
      "LostRemote error with synset bn:00048027n\n",
      "LostRemote error with synset bn:00071103n\n",
      "LostRemote error with synset bn:00071103n\n",
      "LostRemote error with synset bn:00028604n\n",
      "LostRemote error with synset bn:00028604n\n",
      "LostRemote error with synset bn:00069679n\n",
      "Reached target at depth 6\n"
     ]
    }
   ],
   "source": [
    "### BFS fashion\n",
    "import time\n",
    "start_t = time.time()\n",
    "max_length = 100\n",
    "n = 0\n",
    "visited = set()\n",
    "target = s2.id\n",
    "q = [(s1,n)]\n",
    "\n",
    "while q and n <= max_length:\n",
    "    synset, n = q.pop(0)\n",
    "    if n % 10 == 0 and n > 0:\n",
    "        end_t = time.time()\n",
    "        min, sec = (end_t - start_t) // 60, (end_t - start_t) % 60\n",
    "        print(f'{n} - min: {min}, sec: {sec}')\n",
    "    \n",
    "    try:\n",
    "        edges = synset.outgoing_edges(BabelPointer.ANY_HYPERNYM, BabelPointer.ANY_HOLONYM)\n",
    "    except LostRemote as lr:\n",
    "        print(f'LostRemote error with synset {synset.id}')\n",
    "\n",
    "    for edge in edges:\n",
    "        if edge.id_target == target:\n",
    "            print(f'Reached target at depth {n}')\n",
    "            end_t = time.time()\n",
    "            min, sec = (end_t - start_t) // 60, (end_t - start_t) % 60\n",
    "            print(f'Total time: {min}m,{sec}s')\n",
    "            n = max_length+1\n",
    "            break\n",
    "        if edge.id_target not in visited:\n",
    "            try:\n",
    "                visited.add(edge.id_target)\n",
    "                q.append((bn.get_synset(edge.id_target), n+1))\n",
    "            except TimeoutExpired as te:\n",
    "                print(f'TimeoutExpired error with synset: {edge.id_target}')\n",
    "                # raise TimeoutExpired('eccheccacchio')\n",
    "            except LostRemote as lr:\n",
    "                print(f'LostRemote error with synset {synset.id}')\n",
    "    \n",
    "    if n == max_length-1: print('Reached max length.')\n",
    "if q == []: print('Queue empty')"
   ]
  },
  {
   "cell_type": "code",
   "execution_count": 28,
   "id": "6ab2a4d9",
   "metadata": {},
   "outputs": [],
   "source": [
    "t1 = bn.get_synset(BabelSynsetID('bn:02617074n')) # console (videogiochi)\n",
    "t2 = bn.get_synset(BabelSynsetID('bn:15625318n')) # Playstation 4"
   ]
  },
  {
   "cell_type": "code",
   "execution_count": 30,
   "id": "92b7fa96",
   "metadata": {},
   "outputs": [
    {
     "name": "stdout",
     "output_type": "stream",
     "text": [
      "2: 0m,1s\n",
      "4: 0m,8s\n"
     ]
    },
    {
     "name": "stderr",
     "output_type": "stream",
     "text": [
      "2023-09-01 12:49:47,629 [zerorpc.channel] WARNING: zerorpc.ChannelMultiplexer, unable to route event: <b''> OK {'message_id': b'4af691ffc4ea4022987c96d45de91046', 'v': 3, 'response_to': b'b83eb99e2c98496d934c098cb0323231'} [...]\n"
     ]
    },
    {
     "name": "stdout",
     "output_type": "stream",
     "text": [
      "6: 4m,23s\n"
     ]
    }
   ],
   "source": [
    "### BFS fashion\n",
    "import time\n",
    "start_t = time.time()\n",
    "timestamp_n, timestamp_step = 2, 2\n",
    "max_length = 15\n",
    "n = 0\n",
    "visited = set()\n",
    "target = t2.id\n",
    "q = [(t1,n)]\n",
    "logfile = open('.log_search.txt', 'w')\n",
    "\n",
    "while q and n <= max_length:\n",
    "    synset, n = q.pop(0)\n",
    "    if n == timestamp_n:\n",
    "        timestamp_n += timestamp_step\n",
    "        end_t = time.time()\n",
    "        min, sec = int((end_t - start_t) // 60), int((end_t - start_t) % 60)\n",
    "        print(f'{n}: {min}m,{sec}s')\n",
    "    \n",
    "    try:\n",
    "        edges = synset.outgoing_edges(BabelPointer.ANY_HYPERNYM, BabelPointer.ANY_HOLONYM)\n",
    "    except LostRemote as lr:\n",
    "        logfile.write(f'LostRemote,{synset.id}')\n",
    "        edges = []\n",
    "        continue\n",
    "\n",
    "    for edge in edges:\n",
    "        if edge.id_target == target:\n",
    "            print(f'Reached target at depth {n}')\n",
    "            end_t = time.time()\n",
    "            min, sec = int((end_t - start_t) // 60), int((end_t - start_t) % 60)\n",
    "            print(f'Total time: {min}m,{sec}s')\n",
    "            n = max_length+1\n",
    "            break\n",
    "\n",
    "        if edge.id_target not in visited:\n",
    "            try:\n",
    "                visited.add(edge.id_target)\n",
    "                q.append((bn.get_synset(edge.id_target), n+1))\n",
    "            except TimeoutExpired as te:\n",
    "                logfile.write(f'TimeoutExpired,{synset.id}')\n",
    "            except LostRemote as lr:\n",
    "                logfile.write(f'LostRemote,{synset.id}')\n",
    "    \n",
    "    if n == max_length-1: print('Reached max length.')\n",
    "\n",
    "if q == []: print('Queue empty')"
   ]
  },
  {
   "cell_type": "code",
   "execution_count": null,
   "id": "636cbf9c",
   "metadata": {},
   "outputs": [],
   "source": []
  }
 ],
 "metadata": {
  "kernelspec": {
   "display_name": "Python 3 (ipykernel)",
   "language": "python",
   "name": "python3"
  },
  "language_info": {
   "codemirror_mode": {
    "name": "ipython",
    "version": 3
   },
   "file_extension": ".py",
   "mimetype": "text/x-python",
   "name": "python",
   "nbconvert_exporter": "python",
   "pygments_lexer": "ipython3",
   "version": "3.8.3"
  }
 },
 "nbformat": 4,
 "nbformat_minor": 5
}
