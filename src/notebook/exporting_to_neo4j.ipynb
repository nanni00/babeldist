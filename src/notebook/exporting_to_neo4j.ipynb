{
 "cells": [
  {
   "cell_type": "code",
   "execution_count": 3,
   "metadata": {},
   "outputs": [],
   "source": [
    "import os\n",
    "import sys\n",
    "sys.path.append('..')\n",
    "from utils import utils\n",
    "import time\n",
    "import neo4j\n",
    "from neo4j import GraphDatabase"
   ]
  },
  {
   "cell_type": "code",
   "execution_count": 4,
   "metadata": {},
   "outputs": [
    {
     "name": "stderr",
     "output_type": "stream",
     "text": [
      "2023-10-01 09:56:08,917 [babelnet.api] INFO: BabelNet Remote Procedure Call API v1.1.0\n"
     ]
    }
   ],
   "source": [
    "import babelnet as bn\n",
    "from babelnet import BabelSynsetID, Language\n",
    "from babelnet.data.relation import BabelPointer\n",
    "from zerorpc import TimeoutExpired, LostRemote"
   ]
  },
  {
   "cell_type": "code",
   "execution_count": 5,
   "metadata": {},
   "outputs": [],
   "source": [
    "URI = \"bolt://localhost:7687\"\n",
    "AUTH = (\"giovanni\", \"BabeldistGraph\")"
   ]
  },
  {
   "cell_type": "code",
   "execution_count": 6,
   "metadata": {},
   "outputs": [],
   "source": [
    "def _run_no_exception(session: neo4j.Session, query: str):\n",
    "    try:\n",
    "        session.run(query)\n",
    "    except Exception:\n",
    "        pass"
   ]
  },
  {
   "cell_type": "code",
   "execution_count": 10,
   "metadata": {},
   "outputs": [],
   "source": [
    "_merge_graph_query = \"\"\"\n",
    "MERGE (s:Synset {synsetID: $synsetID_1})\n",
    "MERGE (hyponym:Synset {synsetID: $synsetID_2})\n",
    "WITH s, hyponym\n",
    "WHERE s.synsetID <> hyponym.synsetID\n",
    "MERGE (s)<-[:IS_A]-(hyponym) \"\"\"\n",
    "\n",
    "_merge_no_lemma_graph_query = \"\"\"\n",
    "UNWIND $hyponyms as hyponym_data\n",
    "MERGE (s:Synset {synsetID: $synsetID})\n",
    "MERGE (hyponym:Synset {synsetID: hyponym_data})\n",
    "WITH s, hyponym\n",
    "WHERE s.synsetID <> hyponym.synsetID\n",
    "MERGE (s)<-[:IS_A]-(hyponym) \"\"\"\n",
    "\n",
    "_count_nodes_query = \"\"\"\n",
    "MATCH (s:Synset)\n",
    "RETURN count(s) \"\"\"\n",
    "\n",
    "_count_edges_query = \"\"\"\n",
    "MATCH ()-[r:IS_A]->()\n",
    "RETURN count(r) \"\"\""
   ]
  },
  {
   "cell_type": "code",
   "execution_count": 29,
   "metadata": {},
   "outputs": [
    {
     "ename": "AttributeError",
     "evalue": "module 'babelnet.api' has no attribute 'get_synsets'",
     "output_type": "error",
     "traceback": [
      "\u001b[0;31m---------------------------------------------------------------------------\u001b[0m",
      "\u001b[0;31mAttributeError\u001b[0m                            Traceback (most recent call last)",
      "\u001b[1;32m/home/giovanni/unimore/2_graph_analytics/tesina/babeldist/src/notebook/exporting_to_neo4j.ipynb Cell 6\u001b[0m line \u001b[0;36m1\n\u001b[0;32m----> <a href='vscode-notebook-cell:/home/giovanni/unimore/2_graph_analytics/tesina/babeldist/src/notebook/exporting_to_neo4j.ipynb#X13sZmlsZQ%3D%3D?line=0'>1</a>\u001b[0m BabelSynsetID(\u001b[39m'\u001b[39;49m\u001b[39mbn:00062164n\u001b[39;49m\u001b[39m'\u001b[39;49m)\u001b[39m.\u001b[39;49mto_synset()\n",
      "File \u001b[0;32m~/.pyenv/versions/3.8.3/envs/graphproject/lib/python3.8/site-packages/babelnet/resources.py:250\u001b[0m, in \u001b[0;36mBabelSynsetID.to_synset\u001b[0;34m(self)\u001b[0m\n\u001b[1;32m    244\u001b[0m \u001b[39mdef\u001b[39;00m \u001b[39mto_synset\u001b[39m(\u001b[39mself\u001b[39m) \u001b[39m-\u001b[39m\u001b[39m>\u001b[39m \u001b[39m\"\u001b[39m\u001b[39mBabelSynset\u001b[39m\u001b[39m\"\u001b[39m:\n\u001b[1;32m    245\u001b[0m \u001b[39m    \u001b[39m\u001b[39m\"\"\"From a lightweight BabelSynsetID, create the corresponding\u001b[39;00m\n\u001b[1;32m    246\u001b[0m \u001b[39m    BabelSynset.\u001b[39;00m\n\u001b[1;32m    247\u001b[0m \n\u001b[1;32m    248\u001b[0m \u001b[39m    @return: The BabelSynset corresponding to this ID.\u001b[39;00m\n\u001b[1;32m    249\u001b[0m \u001b[39m    \"\"\"\u001b[39;00m\n\u001b[0;32m--> 250\u001b[0m     synsets \u001b[39m=\u001b[39m \u001b[39mself\u001b[39;49m\u001b[39m.\u001b[39;49mto_synsets()\n\u001b[1;32m    251\u001b[0m     \u001b[39mreturn\u001b[39;00m synsets[\u001b[39m0\u001b[39m] \u001b[39mif\u001b[39;00m synsets \u001b[39melse\u001b[39;00m \u001b[39mNone\u001b[39;00m\n",
      "File \u001b[0;32m~/.pyenv/versions/3.8.3/envs/graphproject/lib/python3.8/site-packages/babelnet/resources.py:101\u001b[0m, in \u001b[0;36mResourceID.to_synsets\u001b[0;34m(self, languages)\u001b[0m\n\u001b[1;32m     91\u001b[0m \u001b[39mdef\u001b[39;00m \u001b[39mto_synsets\u001b[39m(\n\u001b[1;32m     92\u001b[0m         \u001b[39mself\u001b[39m, languages: Optional[Iterable[Language]] \u001b[39m=\u001b[39m \u001b[39mNone\u001b[39;00m\n\u001b[1;32m     93\u001b[0m ) \u001b[39m-\u001b[39m\u001b[39m>\u001b[39m List[\u001b[39m\"\u001b[39m\u001b[39mBabelSynset\u001b[39m\u001b[39m\"\u001b[39m]:\n\u001b[1;32m     94\u001b[0m \u001b[39m    \u001b[39m\u001b[39m\"\"\"Convert the ID to a collection of BabelSynsets.\u001b[39;00m\n\u001b[1;32m     95\u001b[0m \n\u001b[1;32m     96\u001b[0m \u001b[39m    @param languages: The languages to populate the synsets with (default is None).\u001b[39;00m\n\u001b[0;32m   (...)\u001b[0m\n\u001b[1;32m     99\u001b[0m \u001b[39m    @rtype: List[L{BabelSynset <babelnet.synset.BabelSynset>}]\u001b[39;00m\n\u001b[1;32m    100\u001b[0m \u001b[39m    \"\"\"\u001b[39;00m\n\u001b[0;32m--> 101\u001b[0m     \u001b[39mreturn\u001b[39;00m api\u001b[39m.\u001b[39;49mget_synsets(\u001b[39mself\u001b[39m, to_langs\u001b[39m=\u001b[39mlanguages)\n",
      "\u001b[0;31mAttributeError\u001b[0m: module 'babelnet.api' has no attribute 'get_synsets'"
     ]
    }
   ],
   "source": [
    "BabelSynsetID('bn:00062164n').to_synset()"
   ]
  },
  {
   "cell_type": "code",
   "execution_count": 27,
   "metadata": {},
   "outputs": [],
   "source": [
    "\n",
    "def exporting_babelnet_to_neo4j(start_synset_id=['bn:00062164n'], \n",
    "                                max_synsets_visited=100,\n",
    "                                queue_type='list',\n",
    "                                export_lemma=False,\n",
    "                                export_anything=False,\n",
    "                                ask_user_before_export=True,\n",
    "                                default_max_export=100,\n",
    "                                database='neo4j', URI=\"bolt://localhost:7687\", USER=\"giovanni\", PASSWD=\"BabeldistGraph\"):\n",
    "    \n",
    "    fname = 'exp.lop'#utils.get_next_logfile_number('exporting_neo4j', extension='log')    \n",
    "    AUTH = (USER, PASSWD)\n",
    "    \n",
    "    with GraphDatabase.driver(URI, auth=AUTH) as driver:\n",
    "        with driver.session(database=database) as session:\n",
    "            _run_no_exception(session, 'CREATE CONSTRAINT FOR (s:Synset) REQUIRE s.synsetID IS UNIQUE')\n",
    "            tx = session.begin_transaction()\n",
    "            \n",
    "            start_n, start_r = tx.run(_count_nodes_query).values()[0][0], tx.run(_count_edges_query).values()[0][0]\n",
    "            \n",
    "            with open(fname, 'w') as logfname:\n",
    "                start_t = time.time()\n",
    "                logfname.write(f'started at {utils.get_localtime_str()}\\n')\n",
    "                logfname.write(f'max_synset_visited={max_synsets_visited}\\n')\n",
    "                logfname.write(f'default_max_export={default_max_export}\\n')\n",
    "                logfname.write(f'start_node={start_synset_id}\\n')\n",
    "                logfname.write(f'queue_type={queue_type}\\n')\n",
    "                logfname.write(f'export_lemma={export_lemma}\\n')\n",
    "                logfname.write(f'export_anything={export_anything}\\n')\n",
    "                logfname.write(f'database={database}\\n')\n",
    "                logfname.flush()\n",
    "                \n",
    "                n = 0\n",
    "                visited = set()\n",
    "                q = utils.Queue(queue_type, [BabelSynsetID(id) for id in start_synset_id])\n",
    "                \n",
    "                while q.q and n < max_synsets_visited:\n",
    "                    pb = utils.get_progress_bar(int((n / max_synsets_visited) * 100))\n",
    "                    print(pb, end='\\r')                \n",
    "\n",
    "                    try:\n",
    "                        print('YOOOOOOOOOHHHH')\n",
    "                        synset = q.pop_item().to_synset()\n",
    "                        print('Synset = ' + str(synset))\n",
    "                        hyponym_edges = synset.outgoing_edges(BabelPointer.ANY_HYPONYM)\n",
    "                        if len(hyponym_edges) == 0: continue\n",
    "                        elif not export_anything and len(hyponym_edges) > 100:\n",
    "                            if ask_user_before_export:\n",
    "                                print(f'Synset {synset.id} {synset.main_sense().full_lemma} has {len(hyponym_edges)}. ', end=' ')\n",
    "                                a = input('Export them all? (y/n) ')\n",
    "                                if a.lower().startswith('n'):   \n",
    "                                    hyponym_edges = hyponym_edges[:min(default_max_export, len(hyponym_edges))]\n",
    "                            else:\n",
    "                                hyponym_edges = hyponym_edges[:min(default_max_export, len(hyponym_edges))]\n",
    "                        n += 1\n",
    "                    except (TimeoutExpired, LostRemote, AttributeError) as e:\n",
    "                        print('Error...')\n",
    "                        hyponym_edges = []\n",
    "\n",
    "                    hyponym_data = []\n",
    "                    for edge in hyponym_edges:                        \n",
    "                        if edge.id_target not in visited and edge.id_target not in q.q:                        \n",
    "                            if len(hyponym_edges) < 600: visited.add(edge.id_target) \n",
    "                            # probabilmente se un nodo ha moltissimi nodi figli, questi sono delle foglie nel grafo,\n",
    "                            # e si può anche evitare di esplorarle e cercare i loro iponimi\n",
    "                            q.add_item(edge.id_target)\n",
    "                        try:\n",
    "                            if export_lemma:\n",
    "                                hyponym_data.append(\n",
    "                                    [edge.id_target.id, edge.id_target.to_synset().main_sense().full_lemma])\n",
    "                            else:\n",
    "                                hyponym_data.append(edge.id_target.id)\n",
    "                        except AttributeError as e:\n",
    "                            logfname.write(f'>>> Synset {edge.id_target} hyponym of {synset.id} has not any main sense.\\n')\n",
    "                            logfname.flush()\n",
    "                            print(e.args)\n",
    "                            \n",
    "                    try:\n",
    "                        if export_lemma:\n",
    "                            lemma = synset.main_sense().full_lemma\n",
    "                            tx.run(_merge_graph_query, {\n",
    "                                'synsetID': str(synset.id), 'synset_lemma': lemma,\n",
    "                                'hyponyms': hyponym_data})\n",
    "                            print(r)\n",
    "                        else:\n",
    "                            print(synset)\n",
    "                            r = tx.run(_merge_no_lemma_graph_query, {\n",
    "                                'synsetID': str(synset.id),\n",
    "                                'hyponyms': hyponym_data})\n",
    "                            print(r)\n",
    "                    except Exception as e:\n",
    "                        logfname.write(f'>>> Exception {e} for synset {synset.id}: {e.args}\\n')\n",
    "                        logfname.flush()\n",
    "                        #print(e.args)\n",
    "                        print(r)\n",
    "\n",
    "\n",
    "                    if n % 500 == 0:\n",
    "                        tx.commit()\n",
    "                        tx = session.begin_transaction()\n",
    "                        \n",
    "\n",
    "                end_n, end_r = tx.run(_count_nodes_query).values()[0][0], tx.run(_count_edges_query).values()[0][0]\n",
    "                tx.commit()\n",
    "                print(f'Added {end_n - start_n} nodes, added {end_r - start_r} edges')\n",
    "                                \n",
    "                if q.q == []: logfname.write('Queue empy\\n')\n",
    "                if n == max_synsets_visited: logfname.write('Reached max visits\\n')\n",
    "                logfname.write(f'Added {end_n - start_n} nodes, added {end_r - start_r} edges\\n')\n",
    "                end_t = time.time()\n",
    "                logfname.write(f'ended at {utils.get_localtime_str()}\\n')\n",
    "                m, s = divmod(end_t - start_t, 60)\n",
    "                h, m = divmod(m, 60)\n",
    "                logfname.write(f'total_time={int(h)}h,{int(m)}m,{int(s)}s') \n"
   ]
  },
  {
   "cell_type": "code",
   "execution_count": 28,
   "metadata": {},
   "outputs": [
    {
     "name": "stdout",
     "output_type": "stream",
     "text": [
      "YOOOOOOOOOHHHH\n",
      "Error...\n"
     ]
    },
    {
     "ename": "UnboundLocalError",
     "evalue": "local variable 'synset' referenced before assignment",
     "output_type": "error",
     "traceback": [
      "\u001b[0;31m---------------------------------------------------------------------------\u001b[0m",
      "\u001b[0;31mUnboundLocalError\u001b[0m                         Traceback (most recent call last)",
      "\u001b[1;32m/home/giovanni/unimore/2_graph_analytics/tesina/babeldist/src/notebook/exporting_to_neo4j.ipynb Cell 7\u001b[0m line \u001b[0;36m8\n\u001b[1;32m     <a href='vscode-notebook-cell:/home/giovanni/unimore/2_graph_analytics/tesina/babeldist/src/notebook/exporting_to_neo4j.ipynb#X11sZmlsZQ%3D%3D?line=84'>85</a>\u001b[0m \u001b[39melse\u001b[39;00m:\n\u001b[0;32m---> <a href='vscode-notebook-cell:/home/giovanni/unimore/2_graph_analytics/tesina/babeldist/src/notebook/exporting_to_neo4j.ipynb#X11sZmlsZQ%3D%3D?line=85'>86</a>\u001b[0m     \u001b[39mprint\u001b[39m(synset)\n\u001b[1;32m     <a href='vscode-notebook-cell:/home/giovanni/unimore/2_graph_analytics/tesina/babeldist/src/notebook/exporting_to_neo4j.ipynb#X11sZmlsZQ%3D%3D?line=86'>87</a>\u001b[0m     r \u001b[39m=\u001b[39m tx\u001b[39m.\u001b[39mrun(_merge_no_lemma_graph_query, {\n\u001b[1;32m     <a href='vscode-notebook-cell:/home/giovanni/unimore/2_graph_analytics/tesina/babeldist/src/notebook/exporting_to_neo4j.ipynb#X11sZmlsZQ%3D%3D?line=87'>88</a>\u001b[0m         \u001b[39m'\u001b[39m\u001b[39msynsetID\u001b[39m\u001b[39m'\u001b[39m: \u001b[39mstr\u001b[39m(synset\u001b[39m.\u001b[39mid),\n\u001b[1;32m     <a href='vscode-notebook-cell:/home/giovanni/unimore/2_graph_analytics/tesina/babeldist/src/notebook/exporting_to_neo4j.ipynb#X11sZmlsZQ%3D%3D?line=88'>89</a>\u001b[0m         \u001b[39m'\u001b[39m\u001b[39mhyponyms\u001b[39m\u001b[39m'\u001b[39m: hyponym_data})\n",
      "\u001b[0;31mUnboundLocalError\u001b[0m: local variable 'synset' referenced before assignment",
      "\nDuring handling of the above exception, another exception occurred:\n",
      "\u001b[0;31mUnboundLocalError\u001b[0m                         Traceback (most recent call last)",
      "\u001b[1;32m/home/giovanni/unimore/2_graph_analytics/tesina/babeldist/src/notebook/exporting_to_neo4j.ipynb Cell 7\u001b[0m line \u001b[0;36m1\n\u001b[0;32m----> <a href='vscode-notebook-cell:/home/giovanni/unimore/2_graph_analytics/tesina/babeldist/src/notebook/exporting_to_neo4j.ipynb#X11sZmlsZQ%3D%3D?line=0'>1</a>\u001b[0m exporting_babelnet_to_neo4j(\n\u001b[1;32m      <a href='vscode-notebook-cell:/home/giovanni/unimore/2_graph_analytics/tesina/babeldist/src/notebook/exporting_to_neo4j.ipynb#X11sZmlsZQ%3D%3D?line=1'>2</a>\u001b[0m     max_synsets_visited\u001b[39m=\u001b[39;49m\u001b[39m1\u001b[39;49m,\n\u001b[1;32m      <a href='vscode-notebook-cell:/home/giovanni/unimore/2_graph_analytics/tesina/babeldist/src/notebook/exporting_to_neo4j.ipynb#X11sZmlsZQ%3D%3D?line=2'>3</a>\u001b[0m     start_synset_id\u001b[39m=\u001b[39;49m[\u001b[39m'\u001b[39;49m\u001b[39mbn:00009677n\u001b[39;49m\u001b[39m'\u001b[39;49m], \n\u001b[1;32m      <a href='vscode-notebook-cell:/home/giovanni/unimore/2_graph_analytics/tesina/babeldist/src/notebook/exporting_to_neo4j.ipynb#X11sZmlsZQ%3D%3D?line=3'>4</a>\u001b[0m     database\u001b[39m=\u001b[39;49m\u001b[39m'\u001b[39;49m\u001b[39mBabelExpDBnoLemma\u001b[39;49m\u001b[39m'\u001b[39;49m, \n\u001b[1;32m      <a href='vscode-notebook-cell:/home/giovanni/unimore/2_graph_analytics/tesina/babeldist/src/notebook/exporting_to_neo4j.ipynb#X11sZmlsZQ%3D%3D?line=4'>5</a>\u001b[0m     ask_user_before_export\u001b[39m=\u001b[39;49m\u001b[39mFalse\u001b[39;49;00m,\n\u001b[1;32m      <a href='vscode-notebook-cell:/home/giovanni/unimore/2_graph_analytics/tesina/babeldist/src/notebook/exporting_to_neo4j.ipynb#X11sZmlsZQ%3D%3D?line=5'>6</a>\u001b[0m     export_lemma\u001b[39m=\u001b[39;49m\u001b[39mFalse\u001b[39;49;00m\n\u001b[1;32m      <a href='vscode-notebook-cell:/home/giovanni/unimore/2_graph_analytics/tesina/babeldist/src/notebook/exporting_to_neo4j.ipynb#X11sZmlsZQ%3D%3D?line=6'>7</a>\u001b[0m )\n",
      "\u001b[1;32m/home/giovanni/unimore/2_graph_analytics/tesina/babeldist/src/notebook/exporting_to_neo4j.ipynb Cell 7\u001b[0m line \u001b[0;36m9\n\u001b[1;32m     <a href='vscode-notebook-cell:/home/giovanni/unimore/2_graph_analytics/tesina/babeldist/src/notebook/exporting_to_neo4j.ipynb#X11sZmlsZQ%3D%3D?line=89'>90</a>\u001b[0m         \u001b[39mprint\u001b[39m(r)\n\u001b[1;32m     <a href='vscode-notebook-cell:/home/giovanni/unimore/2_graph_analytics/tesina/babeldist/src/notebook/exporting_to_neo4j.ipynb#X11sZmlsZQ%3D%3D?line=90'>91</a>\u001b[0m \u001b[39mexcept\u001b[39;00m \u001b[39mException\u001b[39;00m \u001b[39mas\u001b[39;00m e:\n\u001b[0;32m---> <a href='vscode-notebook-cell:/home/giovanni/unimore/2_graph_analytics/tesina/babeldist/src/notebook/exporting_to_neo4j.ipynb#X11sZmlsZQ%3D%3D?line=91'>92</a>\u001b[0m     logfname\u001b[39m.\u001b[39mwrite(\u001b[39mf\u001b[39m\u001b[39m'\u001b[39m\u001b[39m>>> Exception \u001b[39m\u001b[39m{\u001b[39;00me\u001b[39m}\u001b[39;00m\u001b[39m for synset \u001b[39m\u001b[39m{\u001b[39;00msynset\u001b[39m.\u001b[39mid\u001b[39m}\u001b[39;00m\u001b[39m: \u001b[39m\u001b[39m{\u001b[39;00me\u001b[39m.\u001b[39margs\u001b[39m}\u001b[39;00m\u001b[39m\\n\u001b[39;00m\u001b[39m'\u001b[39m)\n\u001b[1;32m     <a href='vscode-notebook-cell:/home/giovanni/unimore/2_graph_analytics/tesina/babeldist/src/notebook/exporting_to_neo4j.ipynb#X11sZmlsZQ%3D%3D?line=92'>93</a>\u001b[0m     logfname\u001b[39m.\u001b[39mflush()\n\u001b[1;32m     <a href='vscode-notebook-cell:/home/giovanni/unimore/2_graph_analytics/tesina/babeldist/src/notebook/exporting_to_neo4j.ipynb#X11sZmlsZQ%3D%3D?line=93'>94</a>\u001b[0m     \u001b[39m#print(e.args)\u001b[39;00m\n",
      "\u001b[0;31mUnboundLocalError\u001b[0m: local variable 'synset' referenced before assignment"
     ]
    }
   ],
   "source": [
    "exporting_babelnet_to_neo4j(\n",
    "    max_synsets_visited=1,\n",
    "    start_synset_id=['bn:00009677n'], \n",
    "    database='BabelExpDBnoLemma', \n",
    "    ask_user_before_export=False,\n",
    "    export_lemma=False\n",
    ")"
   ]
  },
  {
   "cell_type": "code",
   "execution_count": null,
   "metadata": {},
   "outputs": [],
   "source": []
  }
 ],
 "metadata": {
  "kernelspec": {
   "display_name": "graphproject",
   "language": "python",
   "name": "python3"
  },
  "language_info": {
   "codemirror_mode": {
    "name": "ipython",
    "version": 3
   },
   "file_extension": ".py",
   "mimetype": "text/x-python",
   "name": "python",
   "nbconvert_exporter": "python",
   "pygments_lexer": "ipython3",
   "version": "3.8.3"
  },
  "orig_nbformat": 4
 },
 "nbformat": 4,
 "nbformat_minor": 2
}
