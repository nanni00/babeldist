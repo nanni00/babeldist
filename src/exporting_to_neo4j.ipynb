{
 "cells": [
  {
   "cell_type": "code",
   "execution_count": 1,
   "metadata": {},
   "outputs": [],
   "source": [
    "import os\n",
    "import sys\n",
    "sys.path.append(os.path.pardir)\n",
    "from utils import utils\n",
    "import time\n",
    "import neo4j\n",
    "from neo4j import GraphDatabase"
   ]
  },
  {
   "cell_type": "code",
   "execution_count": 2,
   "metadata": {},
   "outputs": [
    {
     "name": "stderr",
     "output_type": "stream",
     "text": [
      "2023-09-20 14:36:47,439 [babelnet.conf] INFO: Loaded configuration from ['/home/giovanni/unimore/2_graph_analytics/tesina/babeldist/remote/babelnet_conf.yml']\n",
      "2023-09-20 14:36:47,448 [babelnet.api] INFO: BabelNet Remote Procedure Call API v1.1.0\n"
     ]
    }
   ],
   "source": [
    "import babelnet as bn\n",
    "from babelnet import BabelSynsetID, Language\n",
    "from babelnet.data.relation import BabelPointer\n",
    "from zerorpc import TimeoutExpired, LostRemote"
   ]
  },
  {
   "cell_type": "code",
   "execution_count": 3,
   "metadata": {},
   "outputs": [],
   "source": [
    "URI = \"bolt://localhost:7687\"\n",
    "AUTH = (\"giovanni\", \"BabeldistGraph\")"
   ]
  },
  {
   "cell_type": "code",
   "execution_count": null,
   "metadata": {},
   "outputs": [],
   "source": [
    "def run_no_exception(session: neo4j.Session, query: str):\n",
    "    try:\n",
    "        session.run(query)\n",
    "    except Exception:\n",
    "        pass"
   ]
  },
  {
   "cell_type": "code",
   "execution_count": 5,
   "metadata": {},
   "outputs": [],
   "source": [
    "merge_graph_query = \"\"\"\n",
    "MERGE (s:Synset {synsetID: $synsetID_1})\n",
    "MERGE (hyponym:Synset {synsetID: $synsetID_2})\n",
    "WITH s, hyponym\n",
    "WHERE s.synsetID <> hyponym.synsetID\n",
    "MERGE (s)<-[:IS_A]-(hyponym) \"\"\"\n",
    "\n",
    "count_nodes_query = \"\"\"\n",
    "MATCH (s:Synset)\n",
    "RETURN count(s) \"\"\"\n",
    "\n",
    "count_edges_query = \"\"\"\n",
    "MATCH ()-[r:IS_A]->()\n",
    "RETURN count(r) \"\"\""
   ]
  },
  {
   "cell_type": "code",
   "execution_count": 6,
   "metadata": {},
   "outputs": [],
   "source": [
    "from typing import List\n",
    "\n",
    "class Queue:\n",
    "    def __init__(self, qtype: str, start_nodes: List[str]):\n",
    "        self.q = start_nodes if qtype == 'list' else set(start_nodes)\n",
    "    \n",
    "    def add_item(self, i):\n",
    "        self.q.append(i) if type(self.q) is list else self.q.add(i)\n",
    "\n",
    "    def pop_item(self, idx=0):\n",
    "        return self.q.pop(idx) if type(self.q) is list else self.q.pop()\n",
    "    \n",
    "    def __str__(self) -> str:\n",
    "        return str(self.q)"
   ]
  },
  {
   "cell_type": "code",
   "execution_count": 7,
   "metadata": {},
   "outputs": [
    {
     "name": "stdout",
     "output_type": "stream",
     "text": [
      "0 \r"
     ]
    }
   ],
   "source": [
    "# EXPORTING BABELNET TO NEO4J - ONLY SYNSET IDs, NO LEMMA OR OTHER PROPERTIES\n",
    "\n",
    "fname = utils.get_next_logfile_number('exporting_neo4j', extension='.log')\n",
    "\n",
    "visited = set()\n",
    "max_visits, n = 7, 0\n",
    "start_synset_id = ['bn:00062164n']\n",
    "q = Queue('list', [BabelSynsetID(id) for id in start_synset_id])\n",
    "\n",
    "# creating driver isn't lightweight, but for this case is ok...\n",
    "with GraphDatabase.driver(URI, auth=AUTH) as driver:\n",
    "    with driver.session(database='neo4j') as session:\n",
    "        run_no_exception(session, 'CREATE CONSTRAINT FOR (s:Synset) REQUIRE s.synsetID IS UNIQUE')\n",
    "        tx = session.begin_transaction()\n",
    "        \n",
    "        start_n, start_r = tx.run(count_nodes_query).values()[0][0], tx.run(count_edges_query).values()[0][0]\n",
    "        \n",
    "        with open(fname, 'w') as logfname:\n",
    "            start_t = time.time()\n",
    "            while q.q and n < max_visits:\n",
    "                pb = utils.get_progress_bar(int((n / max_visits) * 100))\n",
    "                print(pb, end='\\r')                \n",
    "\n",
    "                try:\n",
    "                    synset = q.pop_item().to_synset()\n",
    "                    hyponym_edges = synset.outgoing_edges(BabelPointer.ANY_HYPONYM)        \n",
    "                except (TimeoutExpired, LostRemote) as e:\n",
    "                    e.with_traceback()\n",
    "                    hyponym_edges = []\n",
    "\n",
    "                for edge in hyponym_edges:\n",
    "                    try:\n",
    "                        result = tx.run(merge_graph_query, {\n",
    "                            'synsetID_1': str(synset.id), \n",
    "                            'synsetID_2': str(edge.id_target) })\n",
    "                    except Exception as e:\n",
    "                        e.with_traceback()\n",
    "\n",
    "                    if edge.id_target not in visited and edge.id_target not in q.q:                        \n",
    "                        q.add_item(edge.id_target)\n",
    "                        visited.add(edge.id_target)\n",
    "\n",
    "                if n % 1000 == 0:\n",
    "                    tx.commit()\n",
    "                    tx = session.begin_transaction()\n",
    "\n",
    "            end_n, end_r = tx.run(count_nodes_query).values()[0][0], tx.run(count_edges_query).values()[0][0]\n",
    "            tx.commit()\n",
    "            print(f'Added {end_n - start_n} nodes, added {end_r - start_r} edges.')\n",
    "            \n",
    "            logfname.write(f'start_node={start_synset_id}\\n')\n",
    "            logfname.write(f'max_visits={max_visits}\\n')\n",
    "            if q.q == []: logfname.write('Queue empy\\n')\n",
    "            if n == max_visits: logfname.write('Reached max visits\\n')\n",
    "            logfname.write(f'Added {end_n - start_n} nodes, added {end_r - start_r} edges.')\n",
    "            end_t = time.time()\n",
    "            min, sec = divmod(end_t - start_t, 60)\n",
    "            logfname.write(f'total_time,{int(min)}m,{int(sec)}s') "
   ]
  },
  {
   "cell_type": "code",
   "execution_count": null,
   "metadata": {},
   "outputs": [],
   "source": []
  }
 ],
 "metadata": {
  "kernelspec": {
   "display_name": "graphproject",
   "language": "python",
   "name": "python3"
  },
  "language_info": {
   "codemirror_mode": {
    "name": "ipython",
    "version": 3
   },
   "file_extension": ".py",
   "mimetype": "text/x-python",
   "name": "python",
   "nbconvert_exporter": "python",
   "pygments_lexer": "ipython3",
   "version": "3.8.3"
  },
  "orig_nbformat": 4
 },
 "nbformat": 4,
 "nbformat_minor": 2
}
